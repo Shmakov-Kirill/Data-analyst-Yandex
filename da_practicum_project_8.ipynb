{
 "cells": [
  {
   "cell_type": "markdown",
   "metadata": {},
   "source": [
    "# Приоритизация гипотез и A/B-тестирование для увеличения выручки в интернет-магазине "
   ]
  },
  {
   "cell_type": "markdown",
   "metadata": {},
   "source": [
    "Я являюсь аналитиком крупного интернет-магазина. Вместе с отделом маркетинга был подготовлен список гипотез для увеличения выручки.\n",
    "\n",
    "\n",
    "В ходе данного проекта будут выполнены следующие задачи:\n",
    "\n",
    "\n",
    "* Анализ предоставленных данных\n",
    "\n",
    "\n",
    "* Приоритизация гипотез\n",
    "\n",
    "\n",
    "* Анализ A/B-теста\n",
    "\n",
    "\n",
    "* Решение по результатам теста:\n",
    "1. Остановить тест, зафиксировать победу одной из групп.\n",
    "2. Остановить тест, зафиксировать отсутствие различий между группами.\n",
    "3. Продолжить тест."
   ]
  },
  {
   "cell_type": "markdown",
   "metadata": {},
   "source": [
    "В ходе работы будут использоваться следующие данные:\n",
    "\n",
    "\n",
    "1) Данные для первой части хранятся в файле /datasets/hypothesis.csv.\n",
    "\n",
    "* Hypothesis — краткое описание гипотезы;\n",
    "* Reach — охват пользователей по 10-балльной шкале;\n",
    "* Impact — влияние на пользователей по 10-балльной шкале;\n",
    "* Confidence — уверенность в гипотезе по 10-балльной шкале;\n",
    "* Efforts — затраты ресурсов на проверку гипотезы по 10-балльной шкале. Чем больше значение Efforts, тем дороже проверка гипотезы.\n",
    "\n",
    "\n",
    "2) Данные для второй части хранятся в двух файлах. Первый из них /datasets/orders.csv. \n",
    "* transactionId — идентификатор заказа;\n",
    "* visitorId — идентификатор пользователя, совершившего заказ;\n",
    "* date — дата, когда был совершён заказ;\n",
    "* revenue — выручка заказа;\n",
    "* group — группа A/B-теста, в которую попал заказ.\n",
    "\n",
    "\n",
    "Второй файл /datasets/visitors.csv. \n",
    "* date — дата;\n",
    "* group — группа A/B-теста;\n",
    "* visitors — количество пользователей в указанную дату в указанной группе A/B-теста"
   ]
  },
  {
   "cell_type": "markdown",
   "metadata": {},
   "source": [
    "## Подготовка и анализ исходных данных"
   ]
  },
  {
   "cell_type": "markdown",
   "metadata": {},
   "source": [
    "### Импортируем нужные библиотеки"
   ]
  },
  {
   "cell_type": "code",
   "execution_count": 1,
   "metadata": {},
   "outputs": [],
   "source": [
    "import pandas as pd\n",
    "import matplotlib.pyplot as plt\n",
    "import datetime as dt\n",
    "import numpy as np\n",
    "from scipy import stats as st"
   ]
  },
  {
   "cell_type": "markdown",
   "metadata": {},
   "source": [
    "### Проанализируем исходные данные"
   ]
  },
  {
   "cell_type": "code",
   "execution_count": 2,
   "metadata": {},
   "outputs": [],
   "source": [
    "hypothesis, orders, visitors = (\n",
    "    pd.read_csv('C:\\\\Users\\\\User\\\\OneDrive\\\\Desktop\\\\da_practicum\\\\CSV\\\\project_8\\\\hypothesis.csv'),\n",
    "    pd.read_csv('C:\\\\Users\\\\User\\\\OneDrive\\\\Desktop\\\\da_practicum\\\\CSV\\\\project_8\\\\orders.csv'),\n",
    "    pd.read_csv('C:\\\\Users\\\\User\\\\OneDrive\\\\Desktop\\\\da_practicum\\\\CSV\\\\project_8\\\\visitors.csv')\n",
    ")"
   ]
  },
  {
   "cell_type": "code",
   "execution_count": 3,
   "metadata": {},
   "outputs": [],
   "source": [
    "def data_first_view(data):\n",
    "    # Вывод первых 10 строк\n",
    "    print('*' * 50)\n",
    "    print(\"Первые 10 строк данных:\")\n",
    "    display(data.head(10))\n",
    "    \n",
    "    # Информация о данных\n",
    "    print('*' * 50)\n",
    "    print(\"\\nИнформация о данных:\")\n",
    "    display(data.info())\n",
    "    \n",
    "    # Имена столбцов\n",
    "    print('*' * 50)\n",
    "    print(\"\\nИмена столбцов:\")\n",
    "    display(data.columns)\n",
    "    \n",
    "    # Описательная статистика\n",
    "    print('*' * 50)\n",
    "    print(\"\\nОписательная статистика:\")\n",
    "    display(data.describe())\n",
    "    \n",
    "    # Количество пропущенных значений\n",
    "    print('*' * 50)\n",
    "    print(\"\\nКоличество пропущенных значений в каждом столбце:\")\n",
    "    display(data.isna().sum())\n",
    "    \n",
    "    # Количество дубликатов\n",
    "    print('*' * 50)\n",
    "    print(\"\\nКоличество дубликатов:\")\n",
    "    display(data.duplicated().sum())"
   ]
  },
  {
   "cell_type": "markdown",
   "metadata": {},
   "source": [
    "#### Информация о файле hypothesis"
   ]
  },
  {
   "cell_type": "code",
   "execution_count": 4,
   "metadata": {},
   "outputs": [],
   "source": [
    "pd.set_option('display.max_colwidth', 500)"
   ]
  },
  {
   "cell_type": "code",
   "execution_count": 5,
   "metadata": {},
   "outputs": [
    {
     "name": "stdout",
     "output_type": "stream",
     "text": [
      "**************************************************\n",
      "Первые 10 строк данных:\n"
     ]
    },
    {
     "data": {
      "text/html": [
       "<div>\n",
       "<style scoped>\n",
       "    .dataframe tbody tr th:only-of-type {\n",
       "        vertical-align: middle;\n",
       "    }\n",
       "\n",
       "    .dataframe tbody tr th {\n",
       "        vertical-align: top;\n",
       "    }\n",
       "\n",
       "    .dataframe thead th {\n",
       "        text-align: right;\n",
       "    }\n",
       "</style>\n",
       "<table border=\"1\" class=\"dataframe\">\n",
       "  <thead>\n",
       "    <tr style=\"text-align: right;\">\n",
       "      <th></th>\n",
       "      <th>Hypothesis</th>\n",
       "      <th>Reach</th>\n",
       "      <th>Impact</th>\n",
       "      <th>Confidence</th>\n",
       "      <th>Efforts</th>\n",
       "    </tr>\n",
       "  </thead>\n",
       "  <tbody>\n",
       "    <tr>\n",
       "      <th>0</th>\n",
       "      <td>Добавить два новых канала привлечения трафика, что позволит привлекать на 30% больше пользователей</td>\n",
       "      <td>3</td>\n",
       "      <td>10</td>\n",
       "      <td>8</td>\n",
       "      <td>6</td>\n",
       "    </tr>\n",
       "    <tr>\n",
       "      <th>1</th>\n",
       "      <td>Запустить собственную службу доставки, что сократит срок доставки заказов</td>\n",
       "      <td>2</td>\n",
       "      <td>5</td>\n",
       "      <td>4</td>\n",
       "      <td>10</td>\n",
       "    </tr>\n",
       "    <tr>\n",
       "      <th>2</th>\n",
       "      <td>Добавить блоки рекомендаций товаров на сайт интернет магазина, чтобы повысить конверсию и средний чек заказа</td>\n",
       "      <td>8</td>\n",
       "      <td>3</td>\n",
       "      <td>7</td>\n",
       "      <td>3</td>\n",
       "    </tr>\n",
       "    <tr>\n",
       "      <th>3</th>\n",
       "      <td>Изменить структура категорий, что увеличит конверсию, т.к. пользователи быстрее найдут нужный товар</td>\n",
       "      <td>8</td>\n",
       "      <td>3</td>\n",
       "      <td>3</td>\n",
       "      <td>8</td>\n",
       "    </tr>\n",
       "    <tr>\n",
       "      <th>4</th>\n",
       "      <td>Изменить цвет фона главной страницы, чтобы увеличить вовлеченность пользователей</td>\n",
       "      <td>3</td>\n",
       "      <td>1</td>\n",
       "      <td>1</td>\n",
       "      <td>1</td>\n",
       "    </tr>\n",
       "    <tr>\n",
       "      <th>5</th>\n",
       "      <td>Добавить страницу отзывов клиентов о магазине, что позволит увеличить количество заказов</td>\n",
       "      <td>3</td>\n",
       "      <td>2</td>\n",
       "      <td>2</td>\n",
       "      <td>3</td>\n",
       "    </tr>\n",
       "    <tr>\n",
       "      <th>6</th>\n",
       "      <td>Показать на главной странице баннеры с актуальными акциями и распродажами, чтобы увеличить конверсию</td>\n",
       "      <td>5</td>\n",
       "      <td>3</td>\n",
       "      <td>8</td>\n",
       "      <td>3</td>\n",
       "    </tr>\n",
       "    <tr>\n",
       "      <th>7</th>\n",
       "      <td>Добавить форму подписки на все основные страницы, чтобы собрать базу клиентов для email-рассылок</td>\n",
       "      <td>10</td>\n",
       "      <td>7</td>\n",
       "      <td>8</td>\n",
       "      <td>5</td>\n",
       "    </tr>\n",
       "    <tr>\n",
       "      <th>8</th>\n",
       "      <td>Запустить акцию, дающую скидку на товар в день рождения</td>\n",
       "      <td>1</td>\n",
       "      <td>9</td>\n",
       "      <td>9</td>\n",
       "      <td>5</td>\n",
       "    </tr>\n",
       "  </tbody>\n",
       "</table>\n",
       "</div>"
      ],
      "text/plain": [
       "                                                                                                     Hypothesis  \\\n",
       "0            Добавить два новых канала привлечения трафика, что позволит привлекать на 30% больше пользователей   \n",
       "1                                     Запустить собственную службу доставки, что сократит срок доставки заказов   \n",
       "2  Добавить блоки рекомендаций товаров на сайт интернет магазина, чтобы повысить конверсию и средний чек заказа   \n",
       "3           Изменить структура категорий, что увеличит конверсию, т.к. пользователи быстрее найдут нужный товар   \n",
       "4                              Изменить цвет фона главной страницы, чтобы увеличить вовлеченность пользователей   \n",
       "5                      Добавить страницу отзывов клиентов о магазине, что позволит увеличить количество заказов   \n",
       "6          Показать на главной странице баннеры с актуальными акциями и распродажами, чтобы увеличить конверсию   \n",
       "7              Добавить форму подписки на все основные страницы, чтобы собрать базу клиентов для email-рассылок   \n",
       "8                                                       Запустить акцию, дающую скидку на товар в день рождения   \n",
       "\n",
       "   Reach  Impact  Confidence  Efforts  \n",
       "0      3      10           8        6  \n",
       "1      2       5           4       10  \n",
       "2      8       3           7        3  \n",
       "3      8       3           3        8  \n",
       "4      3       1           1        1  \n",
       "5      3       2           2        3  \n",
       "6      5       3           8        3  \n",
       "7     10       7           8        5  \n",
       "8      1       9           9        5  "
      ]
     },
     "metadata": {},
     "output_type": "display_data"
    },
    {
     "name": "stdout",
     "output_type": "stream",
     "text": [
      "**************************************************\n",
      "\n",
      "Информация о данных:\n",
      "<class 'pandas.core.frame.DataFrame'>\n",
      "RangeIndex: 9 entries, 0 to 8\n",
      "Data columns (total 5 columns):\n",
      " #   Column      Non-Null Count  Dtype \n",
      "---  ------      --------------  ----- \n",
      " 0   Hypothesis  9 non-null      object\n",
      " 1   Reach       9 non-null      int64 \n",
      " 2   Impact      9 non-null      int64 \n",
      " 3   Confidence  9 non-null      int64 \n",
      " 4   Efforts     9 non-null      int64 \n",
      "dtypes: int64(4), object(1)\n",
      "memory usage: 492.0+ bytes\n"
     ]
    },
    {
     "data": {
      "text/plain": [
       "None"
      ]
     },
     "metadata": {},
     "output_type": "display_data"
    },
    {
     "name": "stdout",
     "output_type": "stream",
     "text": [
      "**************************************************\n",
      "\n",
      "Имена столбцов:\n"
     ]
    },
    {
     "data": {
      "text/plain": [
       "Index(['Hypothesis', 'Reach', 'Impact', 'Confidence', 'Efforts'], dtype='object')"
      ]
     },
     "metadata": {},
     "output_type": "display_data"
    },
    {
     "name": "stdout",
     "output_type": "stream",
     "text": [
      "**************************************************\n",
      "\n",
      "Описательная статистика:\n"
     ]
    },
    {
     "data": {
      "text/html": [
       "<div>\n",
       "<style scoped>\n",
       "    .dataframe tbody tr th:only-of-type {\n",
       "        vertical-align: middle;\n",
       "    }\n",
       "\n",
       "    .dataframe tbody tr th {\n",
       "        vertical-align: top;\n",
       "    }\n",
       "\n",
       "    .dataframe thead th {\n",
       "        text-align: right;\n",
       "    }\n",
       "</style>\n",
       "<table border=\"1\" class=\"dataframe\">\n",
       "  <thead>\n",
       "    <tr style=\"text-align: right;\">\n",
       "      <th></th>\n",
       "      <th>Reach</th>\n",
       "      <th>Impact</th>\n",
       "      <th>Confidence</th>\n",
       "      <th>Efforts</th>\n",
       "    </tr>\n",
       "  </thead>\n",
       "  <tbody>\n",
       "    <tr>\n",
       "      <th>count</th>\n",
       "      <td>9.000000</td>\n",
       "      <td>9.000000</td>\n",
       "      <td>9.000000</td>\n",
       "      <td>9.000000</td>\n",
       "    </tr>\n",
       "    <tr>\n",
       "      <th>mean</th>\n",
       "      <td>4.777778</td>\n",
       "      <td>4.777778</td>\n",
       "      <td>5.555556</td>\n",
       "      <td>4.888889</td>\n",
       "    </tr>\n",
       "    <tr>\n",
       "      <th>std</th>\n",
       "      <td>3.153481</td>\n",
       "      <td>3.192874</td>\n",
       "      <td>3.045944</td>\n",
       "      <td>2.803767</td>\n",
       "    </tr>\n",
       "    <tr>\n",
       "      <th>min</th>\n",
       "      <td>1.000000</td>\n",
       "      <td>1.000000</td>\n",
       "      <td>1.000000</td>\n",
       "      <td>1.000000</td>\n",
       "    </tr>\n",
       "    <tr>\n",
       "      <th>25%</th>\n",
       "      <td>3.000000</td>\n",
       "      <td>3.000000</td>\n",
       "      <td>3.000000</td>\n",
       "      <td>3.000000</td>\n",
       "    </tr>\n",
       "    <tr>\n",
       "      <th>50%</th>\n",
       "      <td>3.000000</td>\n",
       "      <td>3.000000</td>\n",
       "      <td>7.000000</td>\n",
       "      <td>5.000000</td>\n",
       "    </tr>\n",
       "    <tr>\n",
       "      <th>75%</th>\n",
       "      <td>8.000000</td>\n",
       "      <td>7.000000</td>\n",
       "      <td>8.000000</td>\n",
       "      <td>6.000000</td>\n",
       "    </tr>\n",
       "    <tr>\n",
       "      <th>max</th>\n",
       "      <td>10.000000</td>\n",
       "      <td>10.000000</td>\n",
       "      <td>9.000000</td>\n",
       "      <td>10.000000</td>\n",
       "    </tr>\n",
       "  </tbody>\n",
       "</table>\n",
       "</div>"
      ],
      "text/plain": [
       "           Reach     Impact  Confidence    Efforts\n",
       "count   9.000000   9.000000    9.000000   9.000000\n",
       "mean    4.777778   4.777778    5.555556   4.888889\n",
       "std     3.153481   3.192874    3.045944   2.803767\n",
       "min     1.000000   1.000000    1.000000   1.000000\n",
       "25%     3.000000   3.000000    3.000000   3.000000\n",
       "50%     3.000000   3.000000    7.000000   5.000000\n",
       "75%     8.000000   7.000000    8.000000   6.000000\n",
       "max    10.000000  10.000000    9.000000  10.000000"
      ]
     },
     "metadata": {},
     "output_type": "display_data"
    },
    {
     "name": "stdout",
     "output_type": "stream",
     "text": [
      "**************************************************\n",
      "\n",
      "Количество пропущенных значений в каждом столбце:\n"
     ]
    },
    {
     "data": {
      "text/plain": [
       "Hypothesis    0\n",
       "Reach         0\n",
       "Impact        0\n",
       "Confidence    0\n",
       "Efforts       0\n",
       "dtype: int64"
      ]
     },
     "metadata": {},
     "output_type": "display_data"
    },
    {
     "name": "stdout",
     "output_type": "stream",
     "text": [
      "**************************************************\n",
      "\n",
      "Количество дубликатов:\n"
     ]
    },
    {
     "data": {
      "text/plain": [
       "0"
      ]
     },
     "metadata": {},
     "output_type": "display_data"
    }
   ],
   "source": [
    "data_first_view(hypothesis)"
   ]
  },
  {
   "cell_type": "markdown",
   "metadata": {},
   "source": [
    "Данные подготовлены хорошо, так как нет пропусков и дубликатов. Стоит обратить внимание на названия столбцов, для удобной работы переведем их в нижний регистр."
   ]
  },
  {
   "cell_type": "code",
   "execution_count": 6,
   "metadata": {},
   "outputs": [
    {
     "data": {
      "text/plain": [
       "Index(['hypothesis', 'reach', 'impact', 'confidence', 'efforts'], dtype='object')"
      ]
     },
     "execution_count": 6,
     "metadata": {},
     "output_type": "execute_result"
    }
   ],
   "source": [
    "hypothesis.rename(columns=lambda x: x.lower(), inplace=True)\n",
    "hypothesis.columns"
   ]
  },
  {
   "cell_type": "markdown",
   "metadata": {},
   "source": [
    "#### Информация о файлах orders и visitors"
   ]
  },
  {
   "cell_type": "code",
   "execution_count": 7,
   "metadata": {},
   "outputs": [
    {
     "name": "stdout",
     "output_type": "stream",
     "text": [
      "**************************************************\n",
      "Первые 10 строк данных:\n"
     ]
    },
    {
     "data": {
      "text/html": [
       "<div>\n",
       "<style scoped>\n",
       "    .dataframe tbody tr th:only-of-type {\n",
       "        vertical-align: middle;\n",
       "    }\n",
       "\n",
       "    .dataframe tbody tr th {\n",
       "        vertical-align: top;\n",
       "    }\n",
       "\n",
       "    .dataframe thead th {\n",
       "        text-align: right;\n",
       "    }\n",
       "</style>\n",
       "<table border=\"1\" class=\"dataframe\">\n",
       "  <thead>\n",
       "    <tr style=\"text-align: right;\">\n",
       "      <th></th>\n",
       "      <th>transactionId</th>\n",
       "      <th>visitorId</th>\n",
       "      <th>date</th>\n",
       "      <th>revenue</th>\n",
       "      <th>group</th>\n",
       "    </tr>\n",
       "  </thead>\n",
       "  <tbody>\n",
       "    <tr>\n",
       "      <th>0</th>\n",
       "      <td>3667963787</td>\n",
       "      <td>3312258926</td>\n",
       "      <td>2019-08-15</td>\n",
       "      <td>1650</td>\n",
       "      <td>B</td>\n",
       "    </tr>\n",
       "    <tr>\n",
       "      <th>1</th>\n",
       "      <td>2804400009</td>\n",
       "      <td>3642806036</td>\n",
       "      <td>2019-08-15</td>\n",
       "      <td>730</td>\n",
       "      <td>B</td>\n",
       "    </tr>\n",
       "    <tr>\n",
       "      <th>2</th>\n",
       "      <td>2961555356</td>\n",
       "      <td>4069496402</td>\n",
       "      <td>2019-08-15</td>\n",
       "      <td>400</td>\n",
       "      <td>A</td>\n",
       "    </tr>\n",
       "    <tr>\n",
       "      <th>3</th>\n",
       "      <td>3797467345</td>\n",
       "      <td>1196621759</td>\n",
       "      <td>2019-08-15</td>\n",
       "      <td>9759</td>\n",
       "      <td>B</td>\n",
       "    </tr>\n",
       "    <tr>\n",
       "      <th>4</th>\n",
       "      <td>2282983706</td>\n",
       "      <td>2322279887</td>\n",
       "      <td>2019-08-15</td>\n",
       "      <td>2308</td>\n",
       "      <td>B</td>\n",
       "    </tr>\n",
       "    <tr>\n",
       "      <th>5</th>\n",
       "      <td>182168103</td>\n",
       "      <td>935554773</td>\n",
       "      <td>2019-08-15</td>\n",
       "      <td>2210</td>\n",
       "      <td>B</td>\n",
       "    </tr>\n",
       "    <tr>\n",
       "      <th>6</th>\n",
       "      <td>398296753</td>\n",
       "      <td>2900797465</td>\n",
       "      <td>2019-08-15</td>\n",
       "      <td>1860</td>\n",
       "      <td>B</td>\n",
       "    </tr>\n",
       "    <tr>\n",
       "      <th>7</th>\n",
       "      <td>2626614568</td>\n",
       "      <td>78758296</td>\n",
       "      <td>2019-08-15</td>\n",
       "      <td>1044</td>\n",
       "      <td>A</td>\n",
       "    </tr>\n",
       "    <tr>\n",
       "      <th>8</th>\n",
       "      <td>1576988021</td>\n",
       "      <td>295230930</td>\n",
       "      <td>2019-08-15</td>\n",
       "      <td>13710</td>\n",
       "      <td>A</td>\n",
       "    </tr>\n",
       "    <tr>\n",
       "      <th>9</th>\n",
       "      <td>1506739906</td>\n",
       "      <td>1882260405</td>\n",
       "      <td>2019-08-15</td>\n",
       "      <td>1855</td>\n",
       "      <td>B</td>\n",
       "    </tr>\n",
       "  </tbody>\n",
       "</table>\n",
       "</div>"
      ],
      "text/plain": [
       "   transactionId   visitorId        date  revenue group\n",
       "0     3667963787  3312258926  2019-08-15     1650     B\n",
       "1     2804400009  3642806036  2019-08-15      730     B\n",
       "2     2961555356  4069496402  2019-08-15      400     A\n",
       "3     3797467345  1196621759  2019-08-15     9759     B\n",
       "4     2282983706  2322279887  2019-08-15     2308     B\n",
       "5      182168103   935554773  2019-08-15     2210     B\n",
       "6      398296753  2900797465  2019-08-15     1860     B\n",
       "7     2626614568    78758296  2019-08-15     1044     A\n",
       "8     1576988021   295230930  2019-08-15    13710     A\n",
       "9     1506739906  1882260405  2019-08-15     1855     B"
      ]
     },
     "metadata": {},
     "output_type": "display_data"
    },
    {
     "name": "stdout",
     "output_type": "stream",
     "text": [
      "**************************************************\n",
      "\n",
      "Информация о данных:\n",
      "<class 'pandas.core.frame.DataFrame'>\n",
      "RangeIndex: 1197 entries, 0 to 1196\n",
      "Data columns (total 5 columns):\n",
      " #   Column         Non-Null Count  Dtype \n",
      "---  ------         --------------  ----- \n",
      " 0   transactionId  1197 non-null   int64 \n",
      " 1   visitorId      1197 non-null   int64 \n",
      " 2   date           1197 non-null   object\n",
      " 3   revenue        1197 non-null   int64 \n",
      " 4   group          1197 non-null   object\n",
      "dtypes: int64(3), object(2)\n",
      "memory usage: 46.9+ KB\n"
     ]
    },
    {
     "data": {
      "text/plain": [
       "None"
      ]
     },
     "metadata": {},
     "output_type": "display_data"
    },
    {
     "name": "stdout",
     "output_type": "stream",
     "text": [
      "**************************************************\n",
      "\n",
      "Имена столбцов:\n"
     ]
    },
    {
     "data": {
      "text/plain": [
       "Index(['transactionId', 'visitorId', 'date', 'revenue', 'group'], dtype='object')"
      ]
     },
     "metadata": {},
     "output_type": "display_data"
    },
    {
     "name": "stdout",
     "output_type": "stream",
     "text": [
      "**************************************************\n",
      "\n",
      "Описательная статистика:\n"
     ]
    },
    {
     "data": {
      "text/html": [
       "<div>\n",
       "<style scoped>\n",
       "    .dataframe tbody tr th:only-of-type {\n",
       "        vertical-align: middle;\n",
       "    }\n",
       "\n",
       "    .dataframe tbody tr th {\n",
       "        vertical-align: top;\n",
       "    }\n",
       "\n",
       "    .dataframe thead th {\n",
       "        text-align: right;\n",
       "    }\n",
       "</style>\n",
       "<table border=\"1\" class=\"dataframe\">\n",
       "  <thead>\n",
       "    <tr style=\"text-align: right;\">\n",
       "      <th></th>\n",
       "      <th>transactionId</th>\n",
       "      <th>visitorId</th>\n",
       "      <th>revenue</th>\n",
       "    </tr>\n",
       "  </thead>\n",
       "  <tbody>\n",
       "    <tr>\n",
       "      <th>count</th>\n",
       "      <td>1.197000e+03</td>\n",
       "      <td>1.197000e+03</td>\n",
       "      <td>1.197000e+03</td>\n",
       "    </tr>\n",
       "    <tr>\n",
       "      <th>mean</th>\n",
       "      <td>2.155621e+09</td>\n",
       "      <td>2.165960e+09</td>\n",
       "      <td>8.348006e+03</td>\n",
       "    </tr>\n",
       "    <tr>\n",
       "      <th>std</th>\n",
       "      <td>1.229085e+09</td>\n",
       "      <td>1.236014e+09</td>\n",
       "      <td>3.919113e+04</td>\n",
       "    </tr>\n",
       "    <tr>\n",
       "      <th>min</th>\n",
       "      <td>1.062393e+06</td>\n",
       "      <td>5.114589e+06</td>\n",
       "      <td>5.000000e+01</td>\n",
       "    </tr>\n",
       "    <tr>\n",
       "      <th>25%</th>\n",
       "      <td>1.166776e+09</td>\n",
       "      <td>1.111826e+09</td>\n",
       "      <td>1.220000e+03</td>\n",
       "    </tr>\n",
       "    <tr>\n",
       "      <th>50%</th>\n",
       "      <td>2.145194e+09</td>\n",
       "      <td>2.217985e+09</td>\n",
       "      <td>2.978000e+03</td>\n",
       "    </tr>\n",
       "    <tr>\n",
       "      <th>75%</th>\n",
       "      <td>3.237740e+09</td>\n",
       "      <td>3.177606e+09</td>\n",
       "      <td>8.290000e+03</td>\n",
       "    </tr>\n",
       "    <tr>\n",
       "      <th>max</th>\n",
       "      <td>4.293856e+09</td>\n",
       "      <td>4.283872e+09</td>\n",
       "      <td>1.294500e+06</td>\n",
       "    </tr>\n",
       "  </tbody>\n",
       "</table>\n",
       "</div>"
      ],
      "text/plain": [
       "       transactionId     visitorId       revenue\n",
       "count   1.197000e+03  1.197000e+03  1.197000e+03\n",
       "mean    2.155621e+09  2.165960e+09  8.348006e+03\n",
       "std     1.229085e+09  1.236014e+09  3.919113e+04\n",
       "min     1.062393e+06  5.114589e+06  5.000000e+01\n",
       "25%     1.166776e+09  1.111826e+09  1.220000e+03\n",
       "50%     2.145194e+09  2.217985e+09  2.978000e+03\n",
       "75%     3.237740e+09  3.177606e+09  8.290000e+03\n",
       "max     4.293856e+09  4.283872e+09  1.294500e+06"
      ]
     },
     "metadata": {},
     "output_type": "display_data"
    },
    {
     "name": "stdout",
     "output_type": "stream",
     "text": [
      "**************************************************\n",
      "\n",
      "Количество пропущенных значений в каждом столбце:\n"
     ]
    },
    {
     "data": {
      "text/plain": [
       "transactionId    0\n",
       "visitorId        0\n",
       "date             0\n",
       "revenue          0\n",
       "group            0\n",
       "dtype: int64"
      ]
     },
     "metadata": {},
     "output_type": "display_data"
    },
    {
     "name": "stdout",
     "output_type": "stream",
     "text": [
      "**************************************************\n",
      "\n",
      "Количество дубликатов:\n"
     ]
    },
    {
     "data": {
      "text/plain": [
       "0"
      ]
     },
     "metadata": {},
     "output_type": "display_data"
    }
   ],
   "source": [
    "data_first_view(orders)"
   ]
  },
  {
   "cell_type": "markdown",
   "metadata": {},
   "source": [
    "В этом случае для дальнейшей работы стоит перевести столбец с информацией о дате к типу datetime."
   ]
  },
  {
   "cell_type": "code",
   "execution_count": 8,
   "metadata": {},
   "outputs": [],
   "source": [
    "orders['date'] = pd.to_datetime(orders['date'])"
   ]
  },
  {
   "cell_type": "code",
   "execution_count": 9,
   "metadata": {},
   "outputs": [
    {
     "name": "stdout",
     "output_type": "stream",
     "text": [
      "**************************************************\n",
      "Первые 10 строк данных:\n"
     ]
    },
    {
     "data": {
      "text/html": [
       "<div>\n",
       "<style scoped>\n",
       "    .dataframe tbody tr th:only-of-type {\n",
       "        vertical-align: middle;\n",
       "    }\n",
       "\n",
       "    .dataframe tbody tr th {\n",
       "        vertical-align: top;\n",
       "    }\n",
       "\n",
       "    .dataframe thead th {\n",
       "        text-align: right;\n",
       "    }\n",
       "</style>\n",
       "<table border=\"1\" class=\"dataframe\">\n",
       "  <thead>\n",
       "    <tr style=\"text-align: right;\">\n",
       "      <th></th>\n",
       "      <th>date</th>\n",
       "      <th>group</th>\n",
       "      <th>visitors</th>\n",
       "    </tr>\n",
       "  </thead>\n",
       "  <tbody>\n",
       "    <tr>\n",
       "      <th>0</th>\n",
       "      <td>2019-08-01</td>\n",
       "      <td>A</td>\n",
       "      <td>719</td>\n",
       "    </tr>\n",
       "    <tr>\n",
       "      <th>1</th>\n",
       "      <td>2019-08-02</td>\n",
       "      <td>A</td>\n",
       "      <td>619</td>\n",
       "    </tr>\n",
       "    <tr>\n",
       "      <th>2</th>\n",
       "      <td>2019-08-03</td>\n",
       "      <td>A</td>\n",
       "      <td>507</td>\n",
       "    </tr>\n",
       "    <tr>\n",
       "      <th>3</th>\n",
       "      <td>2019-08-04</td>\n",
       "      <td>A</td>\n",
       "      <td>717</td>\n",
       "    </tr>\n",
       "    <tr>\n",
       "      <th>4</th>\n",
       "      <td>2019-08-05</td>\n",
       "      <td>A</td>\n",
       "      <td>756</td>\n",
       "    </tr>\n",
       "    <tr>\n",
       "      <th>5</th>\n",
       "      <td>2019-08-06</td>\n",
       "      <td>A</td>\n",
       "      <td>667</td>\n",
       "    </tr>\n",
       "    <tr>\n",
       "      <th>6</th>\n",
       "      <td>2019-08-07</td>\n",
       "      <td>A</td>\n",
       "      <td>644</td>\n",
       "    </tr>\n",
       "    <tr>\n",
       "      <th>7</th>\n",
       "      <td>2019-08-08</td>\n",
       "      <td>A</td>\n",
       "      <td>610</td>\n",
       "    </tr>\n",
       "    <tr>\n",
       "      <th>8</th>\n",
       "      <td>2019-08-09</td>\n",
       "      <td>A</td>\n",
       "      <td>617</td>\n",
       "    </tr>\n",
       "    <tr>\n",
       "      <th>9</th>\n",
       "      <td>2019-08-10</td>\n",
       "      <td>A</td>\n",
       "      <td>406</td>\n",
       "    </tr>\n",
       "  </tbody>\n",
       "</table>\n",
       "</div>"
      ],
      "text/plain": [
       "         date group  visitors\n",
       "0  2019-08-01     A       719\n",
       "1  2019-08-02     A       619\n",
       "2  2019-08-03     A       507\n",
       "3  2019-08-04     A       717\n",
       "4  2019-08-05     A       756\n",
       "5  2019-08-06     A       667\n",
       "6  2019-08-07     A       644\n",
       "7  2019-08-08     A       610\n",
       "8  2019-08-09     A       617\n",
       "9  2019-08-10     A       406"
      ]
     },
     "metadata": {},
     "output_type": "display_data"
    },
    {
     "name": "stdout",
     "output_type": "stream",
     "text": [
      "**************************************************\n",
      "\n",
      "Информация о данных:\n",
      "<class 'pandas.core.frame.DataFrame'>\n",
      "RangeIndex: 62 entries, 0 to 61\n",
      "Data columns (total 3 columns):\n",
      " #   Column    Non-Null Count  Dtype \n",
      "---  ------    --------------  ----- \n",
      " 0   date      62 non-null     object\n",
      " 1   group     62 non-null     object\n",
      " 2   visitors  62 non-null     int64 \n",
      "dtypes: int64(1), object(2)\n",
      "memory usage: 1.6+ KB\n"
     ]
    },
    {
     "data": {
      "text/plain": [
       "None"
      ]
     },
     "metadata": {},
     "output_type": "display_data"
    },
    {
     "name": "stdout",
     "output_type": "stream",
     "text": [
      "**************************************************\n",
      "\n",
      "Имена столбцов:\n"
     ]
    },
    {
     "data": {
      "text/plain": [
       "Index(['date', 'group', 'visitors'], dtype='object')"
      ]
     },
     "metadata": {},
     "output_type": "display_data"
    },
    {
     "name": "stdout",
     "output_type": "stream",
     "text": [
      "**************************************************\n",
      "\n",
      "Описательная статистика:\n"
     ]
    },
    {
     "data": {
      "text/html": [
       "<div>\n",
       "<style scoped>\n",
       "    .dataframe tbody tr th:only-of-type {\n",
       "        vertical-align: middle;\n",
       "    }\n",
       "\n",
       "    .dataframe tbody tr th {\n",
       "        vertical-align: top;\n",
       "    }\n",
       "\n",
       "    .dataframe thead th {\n",
       "        text-align: right;\n",
       "    }\n",
       "</style>\n",
       "<table border=\"1\" class=\"dataframe\">\n",
       "  <thead>\n",
       "    <tr style=\"text-align: right;\">\n",
       "      <th></th>\n",
       "      <th>visitors</th>\n",
       "    </tr>\n",
       "  </thead>\n",
       "  <tbody>\n",
       "    <tr>\n",
       "      <th>count</th>\n",
       "      <td>62.000000</td>\n",
       "    </tr>\n",
       "    <tr>\n",
       "      <th>mean</th>\n",
       "      <td>607.290323</td>\n",
       "    </tr>\n",
       "    <tr>\n",
       "      <th>std</th>\n",
       "      <td>114.400560</td>\n",
       "    </tr>\n",
       "    <tr>\n",
       "      <th>min</th>\n",
       "      <td>361.000000</td>\n",
       "    </tr>\n",
       "    <tr>\n",
       "      <th>25%</th>\n",
       "      <td>534.000000</td>\n",
       "    </tr>\n",
       "    <tr>\n",
       "      <th>50%</th>\n",
       "      <td>624.500000</td>\n",
       "    </tr>\n",
       "    <tr>\n",
       "      <th>75%</th>\n",
       "      <td>710.500000</td>\n",
       "    </tr>\n",
       "    <tr>\n",
       "      <th>max</th>\n",
       "      <td>770.000000</td>\n",
       "    </tr>\n",
       "  </tbody>\n",
       "</table>\n",
       "</div>"
      ],
      "text/plain": [
       "         visitors\n",
       "count   62.000000\n",
       "mean   607.290323\n",
       "std    114.400560\n",
       "min    361.000000\n",
       "25%    534.000000\n",
       "50%    624.500000\n",
       "75%    710.500000\n",
       "max    770.000000"
      ]
     },
     "metadata": {},
     "output_type": "display_data"
    },
    {
     "name": "stdout",
     "output_type": "stream",
     "text": [
      "**************************************************\n",
      "\n",
      "Количество пропущенных значений в каждом столбце:\n"
     ]
    },
    {
     "data": {
      "text/plain": [
       "date        0\n",
       "group       0\n",
       "visitors    0\n",
       "dtype: int64"
      ]
     },
     "metadata": {},
     "output_type": "display_data"
    },
    {
     "name": "stdout",
     "output_type": "stream",
     "text": [
      "**************************************************\n",
      "\n",
      "Количество дубликатов:\n"
     ]
    },
    {
     "data": {
      "text/plain": [
       "0"
      ]
     },
     "metadata": {},
     "output_type": "display_data"
    }
   ],
   "source": [
    "data_first_view(visitors)"
   ]
  },
  {
   "cell_type": "markdown",
   "metadata": {},
   "source": [
    "Также переведм столбец date к нужному формату."
   ]
  },
  {
   "cell_type": "code",
   "execution_count": 10,
   "metadata": {},
   "outputs": [],
   "source": [
    "visitors['date'] = pd.to_datetime(visitors['date'])"
   ]
  },
  {
   "cell_type": "markdown",
   "metadata": {},
   "source": [
    "**Промежуточный вывод по первому разделу:**\n",
    "\n",
    "Предоставленные данные хорошо подготовлены, пропусков и дубликатов нет. Однако, нужно обратить внимание на:\n",
    "\n",
    "* В файле с гипотезами стоит обратить внимание на название столбцов.\n",
    "\n",
    "* В файлах с информацией о заказах и количеством пользователей нужно перевести столбцы date к типу datetime"
   ]
  },
  {
   "cell_type": "markdown",
   "metadata": {},
   "source": [
    "## Приоритизация гипотез"
   ]
  },
  {
   "cell_type": "markdown",
   "metadata": {},
   "source": [
    "### Применим фреймворк ICE для приоритизации гипотез. "
   ]
  },
  {
   "cell_type": "code",
   "execution_count": 11,
   "metadata": {},
   "outputs": [],
   "source": [
    "hypothesis['ice'] = round((hypothesis['impact'] * hypothesis['confidence']) / hypothesis['efforts'], 2)"
   ]
  },
  {
   "cell_type": "code",
   "execution_count": 12,
   "metadata": {
    "scrolled": true
   },
   "outputs": [
    {
     "data": {
      "text/html": [
       "<div>\n",
       "<style scoped>\n",
       "    .dataframe tbody tr th:only-of-type {\n",
       "        vertical-align: middle;\n",
       "    }\n",
       "\n",
       "    .dataframe tbody tr th {\n",
       "        vertical-align: top;\n",
       "    }\n",
       "\n",
       "    .dataframe thead th {\n",
       "        text-align: right;\n",
       "    }\n",
       "</style>\n",
       "<table border=\"1\" class=\"dataframe\">\n",
       "  <thead>\n",
       "    <tr style=\"text-align: right;\">\n",
       "      <th></th>\n",
       "      <th>hypothesis</th>\n",
       "      <th>reach</th>\n",
       "      <th>impact</th>\n",
       "      <th>confidence</th>\n",
       "      <th>efforts</th>\n",
       "      <th>ice</th>\n",
       "    </tr>\n",
       "  </thead>\n",
       "  <tbody>\n",
       "    <tr>\n",
       "      <th>8</th>\n",
       "      <td>Запустить акцию, дающую скидку на товар в день рождения</td>\n",
       "      <td>1</td>\n",
       "      <td>9</td>\n",
       "      <td>9</td>\n",
       "      <td>5</td>\n",
       "      <td>16.20</td>\n",
       "    </tr>\n",
       "    <tr>\n",
       "      <th>0</th>\n",
       "      <td>Добавить два новых канала привлечения трафика, что позволит привлекать на 30% больше пользователей</td>\n",
       "      <td>3</td>\n",
       "      <td>10</td>\n",
       "      <td>8</td>\n",
       "      <td>6</td>\n",
       "      <td>13.33</td>\n",
       "    </tr>\n",
       "    <tr>\n",
       "      <th>7</th>\n",
       "      <td>Добавить форму подписки на все основные страницы, чтобы собрать базу клиентов для email-рассылок</td>\n",
       "      <td>10</td>\n",
       "      <td>7</td>\n",
       "      <td>8</td>\n",
       "      <td>5</td>\n",
       "      <td>11.20</td>\n",
       "    </tr>\n",
       "    <tr>\n",
       "      <th>6</th>\n",
       "      <td>Показать на главной странице баннеры с актуальными акциями и распродажами, чтобы увеличить конверсию</td>\n",
       "      <td>5</td>\n",
       "      <td>3</td>\n",
       "      <td>8</td>\n",
       "      <td>3</td>\n",
       "      <td>8.00</td>\n",
       "    </tr>\n",
       "    <tr>\n",
       "      <th>2</th>\n",
       "      <td>Добавить блоки рекомендаций товаров на сайт интернет магазина, чтобы повысить конверсию и средний чек заказа</td>\n",
       "      <td>8</td>\n",
       "      <td>3</td>\n",
       "      <td>7</td>\n",
       "      <td>3</td>\n",
       "      <td>7.00</td>\n",
       "    </tr>\n",
       "    <tr>\n",
       "      <th>1</th>\n",
       "      <td>Запустить собственную службу доставки, что сократит срок доставки заказов</td>\n",
       "      <td>2</td>\n",
       "      <td>5</td>\n",
       "      <td>4</td>\n",
       "      <td>10</td>\n",
       "      <td>2.00</td>\n",
       "    </tr>\n",
       "    <tr>\n",
       "      <th>5</th>\n",
       "      <td>Добавить страницу отзывов клиентов о магазине, что позволит увеличить количество заказов</td>\n",
       "      <td>3</td>\n",
       "      <td>2</td>\n",
       "      <td>2</td>\n",
       "      <td>3</td>\n",
       "      <td>1.33</td>\n",
       "    </tr>\n",
       "    <tr>\n",
       "      <th>3</th>\n",
       "      <td>Изменить структура категорий, что увеличит конверсию, т.к. пользователи быстрее найдут нужный товар</td>\n",
       "      <td>8</td>\n",
       "      <td>3</td>\n",
       "      <td>3</td>\n",
       "      <td>8</td>\n",
       "      <td>1.12</td>\n",
       "    </tr>\n",
       "    <tr>\n",
       "      <th>4</th>\n",
       "      <td>Изменить цвет фона главной страницы, чтобы увеличить вовлеченность пользователей</td>\n",
       "      <td>3</td>\n",
       "      <td>1</td>\n",
       "      <td>1</td>\n",
       "      <td>1</td>\n",
       "      <td>1.00</td>\n",
       "    </tr>\n",
       "  </tbody>\n",
       "</table>\n",
       "</div>"
      ],
      "text/plain": [
       "                                                                                                     hypothesis  \\\n",
       "8                                                       Запустить акцию, дающую скидку на товар в день рождения   \n",
       "0            Добавить два новых канала привлечения трафика, что позволит привлекать на 30% больше пользователей   \n",
       "7              Добавить форму подписки на все основные страницы, чтобы собрать базу клиентов для email-рассылок   \n",
       "6          Показать на главной странице баннеры с актуальными акциями и распродажами, чтобы увеличить конверсию   \n",
       "2  Добавить блоки рекомендаций товаров на сайт интернет магазина, чтобы повысить конверсию и средний чек заказа   \n",
       "1                                     Запустить собственную службу доставки, что сократит срок доставки заказов   \n",
       "5                      Добавить страницу отзывов клиентов о магазине, что позволит увеличить количество заказов   \n",
       "3           Изменить структура категорий, что увеличит конверсию, т.к. пользователи быстрее найдут нужный товар   \n",
       "4                              Изменить цвет фона главной страницы, чтобы увеличить вовлеченность пользователей   \n",
       "\n",
       "   reach  impact  confidence  efforts    ice  \n",
       "8      1       9           9        5  16.20  \n",
       "0      3      10           8        6  13.33  \n",
       "7     10       7           8        5  11.20  \n",
       "6      5       3           8        3   8.00  \n",
       "2      8       3           7        3   7.00  \n",
       "1      2       5           4       10   2.00  \n",
       "5      3       2           2        3   1.33  \n",
       "3      8       3           3        8   1.12  \n",
       "4      3       1           1        1   1.00  "
      ]
     },
     "execution_count": 12,
     "metadata": {},
     "output_type": "execute_result"
    }
   ],
   "source": [
    "hypothesis.sort_values(by='ice', ascending=False)\n"
   ]
  },
  {
   "cell_type": "code",
   "execution_count": 13,
   "metadata": {},
   "outputs": [
    {
     "data": {
      "text/html": [
       "<div>\n",
       "<style scoped>\n",
       "    .dataframe tbody tr th:only-of-type {\n",
       "        vertical-align: middle;\n",
       "    }\n",
       "\n",
       "    .dataframe tbody tr th {\n",
       "        vertical-align: top;\n",
       "    }\n",
       "\n",
       "    .dataframe thead th {\n",
       "        text-align: right;\n",
       "    }\n",
       "</style>\n",
       "<table border=\"1\" class=\"dataframe\">\n",
       "  <thead>\n",
       "    <tr style=\"text-align: right;\">\n",
       "      <th></th>\n",
       "      <th>hypothesis</th>\n",
       "      <th>ice</th>\n",
       "    </tr>\n",
       "  </thead>\n",
       "  <tbody>\n",
       "    <tr>\n",
       "      <th>8</th>\n",
       "      <td>Запустить акцию, дающую скидку на товар в день рождения</td>\n",
       "      <td>16.20</td>\n",
       "    </tr>\n",
       "    <tr>\n",
       "      <th>0</th>\n",
       "      <td>Добавить два новых канала привлечения трафика, что позволит привлекать на 30% больше пользователей</td>\n",
       "      <td>13.33</td>\n",
       "    </tr>\n",
       "    <tr>\n",
       "      <th>7</th>\n",
       "      <td>Добавить форму подписки на все основные страницы, чтобы собрать базу клиентов для email-рассылок</td>\n",
       "      <td>11.20</td>\n",
       "    </tr>\n",
       "    <tr>\n",
       "      <th>6</th>\n",
       "      <td>Показать на главной странице баннеры с актуальными акциями и распродажами, чтобы увеличить конверсию</td>\n",
       "      <td>8.00</td>\n",
       "    </tr>\n",
       "    <tr>\n",
       "      <th>2</th>\n",
       "      <td>Добавить блоки рекомендаций товаров на сайт интернет магазина, чтобы повысить конверсию и средний чек заказа</td>\n",
       "      <td>7.00</td>\n",
       "    </tr>\n",
       "    <tr>\n",
       "      <th>1</th>\n",
       "      <td>Запустить собственную службу доставки, что сократит срок доставки заказов</td>\n",
       "      <td>2.00</td>\n",
       "    </tr>\n",
       "    <tr>\n",
       "      <th>5</th>\n",
       "      <td>Добавить страницу отзывов клиентов о магазине, что позволит увеличить количество заказов</td>\n",
       "      <td>1.33</td>\n",
       "    </tr>\n",
       "    <tr>\n",
       "      <th>3</th>\n",
       "      <td>Изменить структура категорий, что увеличит конверсию, т.к. пользователи быстрее найдут нужный товар</td>\n",
       "      <td>1.12</td>\n",
       "    </tr>\n",
       "    <tr>\n",
       "      <th>4</th>\n",
       "      <td>Изменить цвет фона главной страницы, чтобы увеличить вовлеченность пользователей</td>\n",
       "      <td>1.00</td>\n",
       "    </tr>\n",
       "  </tbody>\n",
       "</table>\n",
       "</div>"
      ],
      "text/plain": [
       "                                                                                                     hypothesis  \\\n",
       "8                                                       Запустить акцию, дающую скидку на товар в день рождения   \n",
       "0            Добавить два новых канала привлечения трафика, что позволит привлекать на 30% больше пользователей   \n",
       "7              Добавить форму подписки на все основные страницы, чтобы собрать базу клиентов для email-рассылок   \n",
       "6          Показать на главной странице баннеры с актуальными акциями и распродажами, чтобы увеличить конверсию   \n",
       "2  Добавить блоки рекомендаций товаров на сайт интернет магазина, чтобы повысить конверсию и средний чек заказа   \n",
       "1                                     Запустить собственную службу доставки, что сократит срок доставки заказов   \n",
       "5                      Добавить страницу отзывов клиентов о магазине, что позволит увеличить количество заказов   \n",
       "3           Изменить структура категорий, что увеличит конверсию, т.к. пользователи быстрее найдут нужный товар   \n",
       "4                              Изменить цвет фона главной страницы, чтобы увеличить вовлеченность пользователей   \n",
       "\n",
       "     ice  \n",
       "8  16.20  \n",
       "0  13.33  \n",
       "7  11.20  \n",
       "6   8.00  \n",
       "2   7.00  \n",
       "1   2.00  \n",
       "5   1.33  \n",
       "3   1.12  \n",
       "4   1.00  "
      ]
     },
     "execution_count": 13,
     "metadata": {},
     "output_type": "execute_result"
    }
   ],
   "source": [
    "hypothesis[['hypothesis', 'ice']].sort_values(by='ice', ascending=False)"
   ]
  },
  {
   "cell_type": "markdown",
   "metadata": {},
   "source": [
    "**ICE** (от англ. impact, confidence, effort / ease «влияние, уверенность, усилия / простота») — один из самых популярных способов приоритизации задач. Данный способ состоит из следующих компонентов: \n",
    "\n",
    "* Impact — насколько сильно изменение повлияет на пользователей, их опыт и удовлетворение от продукта;\n",
    "\n",
    "* Confidence — насколько вы уверены, что это изменение повлияет на пользователей именно так; \n",
    "\n",
    "* Efforts — сколько стоит протестировать эту гипотезу. \n",
    "\n",
    "\n",
    "Согласно значению данного показателя мы видим, что в приорете стоит гипотеза №8 \"Запустить акцию, дающую скидку на товар в день рождения\"."
   ]
  },
  {
   "cell_type": "markdown",
   "metadata": {},
   "source": [
    "### Применим фреймворк RICE для приоритизации гипотез."
   ]
  },
  {
   "cell_type": "code",
   "execution_count": 14,
   "metadata": {},
   "outputs": [],
   "source": [
    "hypothesis['rice'] = round((hypothesis['reach'] * hypothesis['impact'] * hypothesis['confidence']) / hypothesis['efforts'], 2)"
   ]
  },
  {
   "cell_type": "code",
   "execution_count": 15,
   "metadata": {},
   "outputs": [
    {
     "data": {
      "text/html": [
       "<div>\n",
       "<style scoped>\n",
       "    .dataframe tbody tr th:only-of-type {\n",
       "        vertical-align: middle;\n",
       "    }\n",
       "\n",
       "    .dataframe tbody tr th {\n",
       "        vertical-align: top;\n",
       "    }\n",
       "\n",
       "    .dataframe thead th {\n",
       "        text-align: right;\n",
       "    }\n",
       "</style>\n",
       "<table border=\"1\" class=\"dataframe\">\n",
       "  <thead>\n",
       "    <tr style=\"text-align: right;\">\n",
       "      <th></th>\n",
       "      <th>hypothesis</th>\n",
       "      <th>reach</th>\n",
       "      <th>impact</th>\n",
       "      <th>confidence</th>\n",
       "      <th>efforts</th>\n",
       "      <th>ice</th>\n",
       "      <th>rice</th>\n",
       "    </tr>\n",
       "  </thead>\n",
       "  <tbody>\n",
       "    <tr>\n",
       "      <th>7</th>\n",
       "      <td>Добавить форму подписки на все основные страницы, чтобы собрать базу клиентов для email-рассылок</td>\n",
       "      <td>10</td>\n",
       "      <td>7</td>\n",
       "      <td>8</td>\n",
       "      <td>5</td>\n",
       "      <td>11.20</td>\n",
       "      <td>112.0</td>\n",
       "    </tr>\n",
       "    <tr>\n",
       "      <th>2</th>\n",
       "      <td>Добавить блоки рекомендаций товаров на сайт интернет магазина, чтобы повысить конверсию и средний чек заказа</td>\n",
       "      <td>8</td>\n",
       "      <td>3</td>\n",
       "      <td>7</td>\n",
       "      <td>3</td>\n",
       "      <td>7.00</td>\n",
       "      <td>56.0</td>\n",
       "    </tr>\n",
       "    <tr>\n",
       "      <th>0</th>\n",
       "      <td>Добавить два новых канала привлечения трафика, что позволит привлекать на 30% больше пользователей</td>\n",
       "      <td>3</td>\n",
       "      <td>10</td>\n",
       "      <td>8</td>\n",
       "      <td>6</td>\n",
       "      <td>13.33</td>\n",
       "      <td>40.0</td>\n",
       "    </tr>\n",
       "    <tr>\n",
       "      <th>6</th>\n",
       "      <td>Показать на главной странице баннеры с актуальными акциями и распродажами, чтобы увеличить конверсию</td>\n",
       "      <td>5</td>\n",
       "      <td>3</td>\n",
       "      <td>8</td>\n",
       "      <td>3</td>\n",
       "      <td>8.00</td>\n",
       "      <td>40.0</td>\n",
       "    </tr>\n",
       "    <tr>\n",
       "      <th>8</th>\n",
       "      <td>Запустить акцию, дающую скидку на товар в день рождения</td>\n",
       "      <td>1</td>\n",
       "      <td>9</td>\n",
       "      <td>9</td>\n",
       "      <td>5</td>\n",
       "      <td>16.20</td>\n",
       "      <td>16.2</td>\n",
       "    </tr>\n",
       "    <tr>\n",
       "      <th>3</th>\n",
       "      <td>Изменить структура категорий, что увеличит конверсию, т.к. пользователи быстрее найдут нужный товар</td>\n",
       "      <td>8</td>\n",
       "      <td>3</td>\n",
       "      <td>3</td>\n",
       "      <td>8</td>\n",
       "      <td>1.12</td>\n",
       "      <td>9.0</td>\n",
       "    </tr>\n",
       "    <tr>\n",
       "      <th>1</th>\n",
       "      <td>Запустить собственную службу доставки, что сократит срок доставки заказов</td>\n",
       "      <td>2</td>\n",
       "      <td>5</td>\n",
       "      <td>4</td>\n",
       "      <td>10</td>\n",
       "      <td>2.00</td>\n",
       "      <td>4.0</td>\n",
       "    </tr>\n",
       "    <tr>\n",
       "      <th>5</th>\n",
       "      <td>Добавить страницу отзывов клиентов о магазине, что позволит увеличить количество заказов</td>\n",
       "      <td>3</td>\n",
       "      <td>2</td>\n",
       "      <td>2</td>\n",
       "      <td>3</td>\n",
       "      <td>1.33</td>\n",
       "      <td>4.0</td>\n",
       "    </tr>\n",
       "    <tr>\n",
       "      <th>4</th>\n",
       "      <td>Изменить цвет фона главной страницы, чтобы увеличить вовлеченность пользователей</td>\n",
       "      <td>3</td>\n",
       "      <td>1</td>\n",
       "      <td>1</td>\n",
       "      <td>1</td>\n",
       "      <td>1.00</td>\n",
       "      <td>3.0</td>\n",
       "    </tr>\n",
       "  </tbody>\n",
       "</table>\n",
       "</div>"
      ],
      "text/plain": [
       "                                                                                                     hypothesis  \\\n",
       "7              Добавить форму подписки на все основные страницы, чтобы собрать базу клиентов для email-рассылок   \n",
       "2  Добавить блоки рекомендаций товаров на сайт интернет магазина, чтобы повысить конверсию и средний чек заказа   \n",
       "0            Добавить два новых канала привлечения трафика, что позволит привлекать на 30% больше пользователей   \n",
       "6          Показать на главной странице баннеры с актуальными акциями и распродажами, чтобы увеличить конверсию   \n",
       "8                                                       Запустить акцию, дающую скидку на товар в день рождения   \n",
       "3           Изменить структура категорий, что увеличит конверсию, т.к. пользователи быстрее найдут нужный товар   \n",
       "1                                     Запустить собственную службу доставки, что сократит срок доставки заказов   \n",
       "5                      Добавить страницу отзывов клиентов о магазине, что позволит увеличить количество заказов   \n",
       "4                              Изменить цвет фона главной страницы, чтобы увеличить вовлеченность пользователей   \n",
       "\n",
       "   reach  impact  confidence  efforts    ice   rice  \n",
       "7     10       7           8        5  11.20  112.0  \n",
       "2      8       3           7        3   7.00   56.0  \n",
       "0      3      10           8        6  13.33   40.0  \n",
       "6      5       3           8        3   8.00   40.0  \n",
       "8      1       9           9        5  16.20   16.2  \n",
       "3      8       3           3        8   1.12    9.0  \n",
       "1      2       5           4       10   2.00    4.0  \n",
       "5      3       2           2        3   1.33    4.0  \n",
       "4      3       1           1        1   1.00    3.0  "
      ]
     },
     "execution_count": 15,
     "metadata": {},
     "output_type": "execute_result"
    }
   ],
   "source": [
    "hypothesis.sort_values(by='rice', ascending=False)"
   ]
  },
  {
   "cell_type": "code",
   "execution_count": 16,
   "metadata": {},
   "outputs": [
    {
     "data": {
      "text/html": [
       "<div>\n",
       "<style scoped>\n",
       "    .dataframe tbody tr th:only-of-type {\n",
       "        vertical-align: middle;\n",
       "    }\n",
       "\n",
       "    .dataframe tbody tr th {\n",
       "        vertical-align: top;\n",
       "    }\n",
       "\n",
       "    .dataframe thead th {\n",
       "        text-align: right;\n",
       "    }\n",
       "</style>\n",
       "<table border=\"1\" class=\"dataframe\">\n",
       "  <thead>\n",
       "    <tr style=\"text-align: right;\">\n",
       "      <th></th>\n",
       "      <th>hypothesis</th>\n",
       "      <th>rice</th>\n",
       "    </tr>\n",
       "  </thead>\n",
       "  <tbody>\n",
       "    <tr>\n",
       "      <th>7</th>\n",
       "      <td>Добавить форму подписки на все основные страницы, чтобы собрать базу клиентов для email-рассылок</td>\n",
       "      <td>112.0</td>\n",
       "    </tr>\n",
       "    <tr>\n",
       "      <th>2</th>\n",
       "      <td>Добавить блоки рекомендаций товаров на сайт интернет магазина, чтобы повысить конверсию и средний чек заказа</td>\n",
       "      <td>56.0</td>\n",
       "    </tr>\n",
       "    <tr>\n",
       "      <th>0</th>\n",
       "      <td>Добавить два новых канала привлечения трафика, что позволит привлекать на 30% больше пользователей</td>\n",
       "      <td>40.0</td>\n",
       "    </tr>\n",
       "    <tr>\n",
       "      <th>6</th>\n",
       "      <td>Показать на главной странице баннеры с актуальными акциями и распродажами, чтобы увеличить конверсию</td>\n",
       "      <td>40.0</td>\n",
       "    </tr>\n",
       "    <tr>\n",
       "      <th>8</th>\n",
       "      <td>Запустить акцию, дающую скидку на товар в день рождения</td>\n",
       "      <td>16.2</td>\n",
       "    </tr>\n",
       "    <tr>\n",
       "      <th>3</th>\n",
       "      <td>Изменить структура категорий, что увеличит конверсию, т.к. пользователи быстрее найдут нужный товар</td>\n",
       "      <td>9.0</td>\n",
       "    </tr>\n",
       "    <tr>\n",
       "      <th>1</th>\n",
       "      <td>Запустить собственную службу доставки, что сократит срок доставки заказов</td>\n",
       "      <td>4.0</td>\n",
       "    </tr>\n",
       "    <tr>\n",
       "      <th>5</th>\n",
       "      <td>Добавить страницу отзывов клиентов о магазине, что позволит увеличить количество заказов</td>\n",
       "      <td>4.0</td>\n",
       "    </tr>\n",
       "    <tr>\n",
       "      <th>4</th>\n",
       "      <td>Изменить цвет фона главной страницы, чтобы увеличить вовлеченность пользователей</td>\n",
       "      <td>3.0</td>\n",
       "    </tr>\n",
       "  </tbody>\n",
       "</table>\n",
       "</div>"
      ],
      "text/plain": [
       "                                                                                                     hypothesis  \\\n",
       "7              Добавить форму подписки на все основные страницы, чтобы собрать базу клиентов для email-рассылок   \n",
       "2  Добавить блоки рекомендаций товаров на сайт интернет магазина, чтобы повысить конверсию и средний чек заказа   \n",
       "0            Добавить два новых канала привлечения трафика, что позволит привлекать на 30% больше пользователей   \n",
       "6          Показать на главной странице баннеры с актуальными акциями и распродажами, чтобы увеличить конверсию   \n",
       "8                                                       Запустить акцию, дающую скидку на товар в день рождения   \n",
       "3           Изменить структура категорий, что увеличит конверсию, т.к. пользователи быстрее найдут нужный товар   \n",
       "1                                     Запустить собственную службу доставки, что сократит срок доставки заказов   \n",
       "5                      Добавить страницу отзывов клиентов о магазине, что позволит увеличить количество заказов   \n",
       "4                              Изменить цвет фона главной страницы, чтобы увеличить вовлеченность пользователей   \n",
       "\n",
       "    rice  \n",
       "7  112.0  \n",
       "2   56.0  \n",
       "0   40.0  \n",
       "6   40.0  \n",
       "8   16.2  \n",
       "3    9.0  \n",
       "1    4.0  \n",
       "5    4.0  \n",
       "4    3.0  "
      ]
     },
     "execution_count": 16,
     "metadata": {},
     "output_type": "execute_result"
    }
   ],
   "source": [
    "hypothesis[['hypothesis', 'rice']].sort_values(by='rice', ascending=False)"
   ]
  },
  {
   "cell_type": "markdown",
   "metadata": {},
   "source": [
    "Фреймворк **RICE** является модификацией **ICE** и включает в себя ещё один компонент:\n",
    "\n",
    "* Reach — скольких пользователей затронет изменение, которое вы хотите внести.\n",
    "\n",
    "Согласно данному фреймворку самой приоретеной гипотезой является гипотеза №7 \"Добавить форму подписки на все основные страницы, чтобы собрать базу клиентов для email-рассылок\". "
   ]
  },
  {
   "cell_type": "markdown",
   "metadata": {},
   "source": [
    "**Промежуточный вывод по разделу 2:**\n",
    "\n",
    "* Согласно значению фреймворка **ICE** мы видим, что в приорете стоит гипотеза №8 \"Запустить акцию, дающую скидку на товар в день рождения\".\n",
    "\n",
    "* Согласно фреймворку самой приоретеной гипотезой является гипотеза №7 \"Добавить форму подписки на все основные страницы, чтобы собрать базу клиентов для email-рассылок\".\n",
    "\n",
    "* Такие расхождения вызваны дополнительным компонентом **Reach** в фрейморке **RICE**, благодаря которому мы можем оценить количество пользователей, которые будут затронуты из-за внесенного изменения.\n",
    "\n",
    "* Поэтому рекомендую ставить в приоритет гипотезу №7 \"Добавить форму подписки на все основные страницы, чтобы собрать базу клиентов для email-рассылок\", у которой фреймворк RICE наибольший и равен 112."
   ]
  },
  {
   "cell_type": "markdown",
   "metadata": {},
   "source": [
    "## Анализ A/B-теста"
   ]
  },
  {
   "cell_type": "markdown",
   "metadata": {},
   "source": [
    "### Подготовка данных"
   ]
  },
  {
   "cell_type": "code",
   "execution_count": 17,
   "metadata": {},
   "outputs": [],
   "source": [
    "# Куммулятивные данные файла visitors по датам для группы A\n",
    "visitorsADaily = visitors[visitors['group'] == 'A'][['date', 'visitors']]\n",
    "visitorsADaily.columns = ['date', 'visitorsPerDateA']\n",
    "\n",
    "visitorsACummulative = visitorsADaily.apply(\n",
    "    lambda x: visitorsADaily[visitorsADaily['date'] <= x['date']].agg(\n",
    "        {'date': 'max', 'visitorsPerDateA': 'sum'}\n",
    "    ),\n",
    "    axis=1,\n",
    ")\n",
    "visitorsACummulative.columns = ['date', 'visitorsCummulativeA']\n",
    "\n",
    "# Куммулятивные данные файла visitors по датам для группы A\n",
    "\n",
    "visitorsBDaily = visitors[visitors['group'] == 'B'][['date', 'visitors']]\n",
    "visitorsBDaily.columns = ['date', 'visitorsPerDateB']\n",
    "\n",
    "visitorsBCummulative = visitorsBDaily.apply(\n",
    "    lambda x: visitorsBDaily[visitorsBDaily['date'] <= x['date']].agg(\n",
    "        {'date': 'max', 'visitorsPerDateB': 'sum'}\n",
    "    ),\n",
    "    axis=1,\n",
    ")\n",
    "visitorsBCummulative.columns = ['date', 'visitorsCummulativeB']\n",
    "\n",
    "# Куммулятивные данные файла orders по датам для группы A\n",
    "\n",
    "ordersADaily = (\n",
    "    orders[orders['group'] == 'A'][['date', 'transactionId', 'visitorId', 'revenue']]\n",
    "    .groupby('date', as_index=False)\n",
    "    .agg({'transactionId': pd.Series.nunique, 'revenue': 'sum'})\n",
    ")\n",
    "ordersADaily.columns = ['date', 'ordersPerDateA', 'revenuePerDateA']\n",
    "\n",
    "ordersACummulative = ordersADaily.apply(\n",
    "    lambda x: ordersADaily[ordersADaily['date'] <= x['date']].agg(\n",
    "        {'date': 'max', 'ordersPerDateA': 'sum', 'revenuePerDateA': 'sum'}\n",
    "    ),\n",
    "    axis=1,\n",
    ").sort_values(by=['date'])\n",
    "ordersACummulative.columns = [\n",
    "    'date',\n",
    "    'ordersCummulativeA',\n",
    "    'revenueCummulativeA',\n",
    "]\n",
    "\n",
    "# Куммулятивные данные файла orders по датам для группы B\n",
    "\n",
    "ordersBDaily = (\n",
    "    orders[orders['group'] == 'B'][['date', 'transactionId', 'visitorId', 'revenue']]\n",
    "    .groupby('date', as_index=False)\n",
    "    .agg({'transactionId': pd.Series.nunique, 'revenue': 'sum'})\n",
    ")\n",
    "ordersBDaily.columns = ['date', 'ordersPerDateB', 'revenuePerDateB']\n",
    "\n",
    "ordersBCummulative = ordersBDaily.apply(\n",
    "    lambda x: ordersBDaily[ordersBDaily['date'] <= x['date']].agg(\n",
    "        {'date': 'max', 'ordersPerDateB': 'sum', 'revenuePerDateB': 'sum'}\n",
    "    ),\n",
    "    axis=1,\n",
    ").sort_values(by=['date'])\n",
    "ordersBCummulative.columns = [\n",
    "    'date',\n",
    "    'ordersCummulativeB',\n",
    "    'revenueCummulativeB',\n",
    "]\n",
    "\n",
    "# Отразим все собранные данные в едином датафрейме\n",
    "\n",
    "data = (\n",
    "    ordersADaily.merge(\n",
    "        ordersBDaily, left_on='date', right_on='date', how='left'\n",
    "    )\n",
    "    .merge(ordersACummulative, left_on='date', right_on='date', how='left')\n",
    "    .merge(ordersBCummulative, left_on='date', right_on='date', how='left')\n",
    "    .merge(visitorsADaily, left_on='date', right_on='date', how='left')\n",
    "    .merge(visitorsBDaily, left_on='date', right_on='date', how='left')\n",
    "    .merge(visitorsACummulative, left_on='date', right_on='date', how='left')\n",
    "    .merge(visitorsBCummulative, left_on='date', right_on='date', how='left')\n",
    ")\n",
    "\n"
   ]
  },
  {
   "cell_type": "code",
   "execution_count": 18,
   "metadata": {},
   "outputs": [
    {
     "data": {
      "text/html": [
       "<div>\n",
       "<style scoped>\n",
       "    .dataframe tbody tr th:only-of-type {\n",
       "        vertical-align: middle;\n",
       "    }\n",
       "\n",
       "    .dataframe tbody tr th {\n",
       "        vertical-align: top;\n",
       "    }\n",
       "\n",
       "    .dataframe thead th {\n",
       "        text-align: right;\n",
       "    }\n",
       "</style>\n",
       "<table border=\"1\" class=\"dataframe\">\n",
       "  <thead>\n",
       "    <tr style=\"text-align: right;\">\n",
       "      <th></th>\n",
       "      <th>date</th>\n",
       "      <th>ordersPerDateA</th>\n",
       "      <th>revenuePerDateA</th>\n",
       "      <th>ordersPerDateB</th>\n",
       "      <th>revenuePerDateB</th>\n",
       "      <th>ordersCummulativeA</th>\n",
       "      <th>revenueCummulativeA</th>\n",
       "      <th>ordersCummulativeB</th>\n",
       "      <th>revenueCummulativeB</th>\n",
       "      <th>visitorsPerDateA</th>\n",
       "      <th>visitorsPerDateB</th>\n",
       "      <th>visitorsCummulativeA</th>\n",
       "      <th>visitorsCummulativeB</th>\n",
       "    </tr>\n",
       "  </thead>\n",
       "  <tbody>\n",
       "    <tr>\n",
       "      <th>0</th>\n",
       "      <td>2019-08-01</td>\n",
       "      <td>24</td>\n",
       "      <td>148579</td>\n",
       "      <td>21</td>\n",
       "      <td>101217</td>\n",
       "      <td>24</td>\n",
       "      <td>148579</td>\n",
       "      <td>21</td>\n",
       "      <td>101217</td>\n",
       "      <td>719</td>\n",
       "      <td>713</td>\n",
       "      <td>719</td>\n",
       "      <td>713</td>\n",
       "    </tr>\n",
       "    <tr>\n",
       "      <th>1</th>\n",
       "      <td>2019-08-02</td>\n",
       "      <td>20</td>\n",
       "      <td>93822</td>\n",
       "      <td>24</td>\n",
       "      <td>165531</td>\n",
       "      <td>44</td>\n",
       "      <td>242401</td>\n",
       "      <td>45</td>\n",
       "      <td>266748</td>\n",
       "      <td>619</td>\n",
       "      <td>581</td>\n",
       "      <td>1338</td>\n",
       "      <td>1294</td>\n",
       "    </tr>\n",
       "    <tr>\n",
       "      <th>2</th>\n",
       "      <td>2019-08-03</td>\n",
       "      <td>24</td>\n",
       "      <td>112473</td>\n",
       "      <td>16</td>\n",
       "      <td>114248</td>\n",
       "      <td>68</td>\n",
       "      <td>354874</td>\n",
       "      <td>61</td>\n",
       "      <td>380996</td>\n",
       "      <td>507</td>\n",
       "      <td>509</td>\n",
       "      <td>1845</td>\n",
       "      <td>1803</td>\n",
       "    </tr>\n",
       "    <tr>\n",
       "      <th>3</th>\n",
       "      <td>2019-08-04</td>\n",
       "      <td>16</td>\n",
       "      <td>70825</td>\n",
       "      <td>17</td>\n",
       "      <td>108571</td>\n",
       "      <td>84</td>\n",
       "      <td>425699</td>\n",
       "      <td>78</td>\n",
       "      <td>489567</td>\n",
       "      <td>717</td>\n",
       "      <td>770</td>\n",
       "      <td>2562</td>\n",
       "      <td>2573</td>\n",
       "    </tr>\n",
       "    <tr>\n",
       "      <th>4</th>\n",
       "      <td>2019-08-05</td>\n",
       "      <td>25</td>\n",
       "      <td>124218</td>\n",
       "      <td>23</td>\n",
       "      <td>92428</td>\n",
       "      <td>109</td>\n",
       "      <td>549917</td>\n",
       "      <td>101</td>\n",
       "      <td>581995</td>\n",
       "      <td>756</td>\n",
       "      <td>707</td>\n",
       "      <td>3318</td>\n",
       "      <td>3280</td>\n",
       "    </tr>\n",
       "  </tbody>\n",
       "</table>\n",
       "</div>"
      ],
      "text/plain": [
       "        date  ordersPerDateA  revenuePerDateA  ordersPerDateB  \\\n",
       "0 2019-08-01              24           148579              21   \n",
       "1 2019-08-02              20            93822              24   \n",
       "2 2019-08-03              24           112473              16   \n",
       "3 2019-08-04              16            70825              17   \n",
       "4 2019-08-05              25           124218              23   \n",
       "\n",
       "   revenuePerDateB  ordersCummulativeA  revenueCummulativeA  \\\n",
       "0           101217                  24               148579   \n",
       "1           165531                  44               242401   \n",
       "2           114248                  68               354874   \n",
       "3           108571                  84               425699   \n",
       "4            92428                 109               549917   \n",
       "\n",
       "   ordersCummulativeB  revenueCummulativeB  visitorsPerDateA  \\\n",
       "0                  21               101217               719   \n",
       "1                  45               266748               619   \n",
       "2                  61               380996               507   \n",
       "3                  78               489567               717   \n",
       "4                 101               581995               756   \n",
       "\n",
       "   visitorsPerDateB  visitorsCummulativeA  visitorsCummulativeB  \n",
       "0               713                   719                   713  \n",
       "1               581                  1338                  1294  \n",
       "2               509                  1845                  1803  \n",
       "3               770                  2562                  2573  \n",
       "4               707                  3318                  3280  "
      ]
     },
     "execution_count": 18,
     "metadata": {},
     "output_type": "execute_result"
    }
   ],
   "source": [
    "data.head()"
   ]
  },
  {
   "cell_type": "code",
   "execution_count": 19,
   "metadata": {},
   "outputs": [
    {
     "name": "stdout",
     "output_type": "stream",
     "text": [
      "<class 'pandas.core.frame.DataFrame'>\n",
      "RangeIndex: 31 entries, 0 to 30\n",
      "Data columns (total 13 columns):\n",
      " #   Column                Non-Null Count  Dtype         \n",
      "---  ------                --------------  -----         \n",
      " 0   date                  31 non-null     datetime64[ns]\n",
      " 1   ordersPerDateA        31 non-null     int64         \n",
      " 2   revenuePerDateA       31 non-null     int64         \n",
      " 3   ordersPerDateB        31 non-null     int64         \n",
      " 4   revenuePerDateB       31 non-null     int64         \n",
      " 5   ordersCummulativeA    31 non-null     int64         \n",
      " 6   revenueCummulativeA   31 non-null     int64         \n",
      " 7   ordersCummulativeB    31 non-null     int64         \n",
      " 8   revenueCummulativeB   31 non-null     int64         \n",
      " 9   visitorsPerDateA      31 non-null     int64         \n",
      " 10  visitorsPerDateB      31 non-null     int64         \n",
      " 11  visitorsCummulativeA  31 non-null     int64         \n",
      " 12  visitorsCummulativeB  31 non-null     int64         \n",
      "dtypes: datetime64[ns](1), int64(12)\n",
      "memory usage: 3.3 KB\n"
     ]
    }
   ],
   "source": [
    "data.info()"
   ]
  },
  {
   "cell_type": "markdown",
   "metadata": {},
   "source": [
    "Для удобной работы мы создали единый датафрейм с данными по группам:\n",
    "\n",
    "* date — дата;\n",
    "* ordersPerDateA — количество заказов в выбранную дату в группе A;\n",
    "* revenuePerDateA — суммарная выручка в выбранную дату в группе A;\n",
    "* ordersPerDateB — количество заказов в выбранную дату в группе B;\n",
    "* revenuePerDateB — суммарная выручка в выбранную дату в группе B;\n",
    "* ordersCummulativeA — суммарное число заказов до выбранной даты включительно в группе A;\n",
    "* revenueCummulativeA — суммарная выручка до выбранной даты включительно в группе A;\n",
    "* ordersCummulativeB — суммарное количество заказов до выбранной даты включительно в группе B;\n",
    "* revenueCummulativeB — суммарная выручка до выбранной даты включительно в группе B;\n",
    "* visitorsPerDateA — количество пользователей в выбранную дату в группе A;\n",
    "* visitorsPerDateB — количество пользователей в выбранную дату в группе B;\n",
    "* visitorsCummulativeA — количество пользователей до выбранной даты включительно в группе A;\n",
    "* visitorsCummulativeB — количество пользователей до выбранной даты включительно в группе B."
   ]
  },
  {
   "cell_type": "markdown",
   "metadata": {},
   "source": [
    "###  График кумулятивной выручки по группам."
   ]
  },
  {
   "cell_type": "code",
   "execution_count": 20,
   "metadata": {},
   "outputs": [
    {
     "data": {
      "image/png": "[encoded data removed]",
      "text/plain": [
       "<Figure size 1500x500 with 1 Axes>"
      ]
     },
     "metadata": {},
     "output_type": "display_data"
    }
   ],
   "source": [
    "plt.figure(figsize=(15,5))\n",
    "plt.plot(data['date'], data['revenueCummulativeA'], label='Кумулятивная выручка группы A')\n",
    "plt.plot(data['date'], data['revenueCummulativeB'], label='Кумулятивная выручка группы B')\n",
    "\n",
    "plt.grid(True)\n",
    "plt.title('Кумулятивная выручка по группам')\n",
    "plt.xlabel('Дата')\n",
    "plt.ylabel('Выручка')\n",
    "plt.legend()\n",
    "\n",
    "plt.show()"
   ]
  },
  {
   "cell_type": "markdown",
   "metadata": {},
   "source": [
    "Из графика куммулятивной выручки по группам мы видим, что кривая группы B превосходит кривую группы А, однако, стоит обратить внимание на резкий скачок кривой B после 17 августа 2018 года. Такое изменнение могло произойти из-за аномальных заказов, которые нужно будет позже отсечь. "
   ]
  },
  {
   "cell_type": "markdown",
   "metadata": {},
   "source": [
    "### График кумулятивного среднего чека по группам"
   ]
  },
  {
   "cell_type": "code",
   "execution_count": 21,
   "metadata": {},
   "outputs": [],
   "source": [
    "data['averageCheckCummulativeA'] = data['revenueCummulativeA'] / data['ordersCummulativeA']\n",
    "data['averageCheckCummulativeB'] = data['revenueCummulativeB'] / data['ordersCummulativeB']"
   ]
  },
  {
   "cell_type": "code",
   "execution_count": 22,
   "metadata": {},
   "outputs": [
    {
     "data": {
      "image/png": "[encoded data removed]",
      "text/plain": [
       "<Figure size 1500x500 with 1 Axes>"
      ]
     },
     "metadata": {},
     "output_type": "display_data"
    }
   ],
   "source": [
    "plt.figure(figsize=(15,5))\n",
    "plt.plot(data['date'], data['averageCheckCummulativeA'], label='Кумулятивный средний чек группы A')\n",
    "plt.plot(data['date'], data['averageCheckCummulativeB'], label='Кумулятивный средний чек группы B')\n",
    "\n",
    "plt.grid(True)\n",
    "plt.title('Кумулятивный средний чек по группам')\n",
    "plt.xlabel('Дата')\n",
    "plt.ylabel('Средний чек')\n",
    "plt.legend()\n",
    "\n",
    "plt.show()"
   ]
  },
  {
   "cell_type": "markdown",
   "metadata": {},
   "source": [
    "Из графика видим, что кривая группы B опережает кривую группы А на протяжении почти всего периода исследования, видим резкий скачок группы А 13 августа. Также мы видим резкое изменение куммулятивного среднего чека группы В после 17 августа, затем рост замедляется, что дает повод задуматься об аномальных заказах, сумма которых сильно превышает среднее значение. "
   ]
  },
  {
   "cell_type": "markdown",
   "metadata": {},
   "source": [
    "### График относительного изменения кумулятивного среднего чека группы B к группе A"
   ]
  },
  {
   "cell_type": "code",
   "execution_count": 23,
   "metadata": {},
   "outputs": [],
   "source": [
    "data['averageCheckCummulative'] = data['averageCheckCummulativeB'] / data['averageCheckCummulativeA'] - 1"
   ]
  },
  {
   "cell_type": "code",
   "execution_count": 24,
   "metadata": {},
   "outputs": [
    {
     "data": {
      "image/png": "[encoded data removed]",
      "text/plain": [
       "<Figure size 1500x500 with 1 Axes>"
      ]
     },
     "metadata": {},
     "output_type": "display_data"
    }
   ],
   "source": [
    "plt.figure(figsize=(15,5))\n",
    "plt.plot(data['date'], data['averageCheckCummulative'], label='Кумулятивный средний чек')\n",
    "\n",
    "plt.grid(True)\n",
    "plt.title('График относительного изменения кумулятивного среднего чека группы B к группе A')\n",
    "plt.xlabel('Дата')\n",
    "plt.ylabel('Средний чек')\n",
    "plt.legend()\n",
    "plt.axhline(y=0, linestyle='--', color='red')\n",
    "\n",
    "plt.show()"
   ]
  },
  {
   "cell_type": "markdown",
   "metadata": {},
   "source": [
    "\"График относительного изменения кумулятивного среднего чека группы B к группе A\" показывает, что в основном значения среднего чека группы B значительно превышает значения среднего чека группы А, но линия нестабильна. Видим резкие скачки, к примеру с 1 по 9 августа и с 17 по 19 августа, а также резкие падения, с 7 по 13 августа и с 19 августа до конца периода исследования.\n",
    "Все три графика демонстрируют одну картину, на это могут влиять выбросы."
   ]
  },
  {
   "cell_type": "markdown",
   "metadata": {},
   "source": [
    "### График кумулятивного среднего количества заказов на посетителя по группам"
   ]
  },
  {
   "cell_type": "code",
   "execution_count": 25,
   "metadata": {},
   "outputs": [],
   "source": [
    "data['averageOrdersCummulativeA'] = data['ordersCummulativeA'] / data['visitorsCummulativeA']\n",
    "data['averageOrdersCummulativeB'] = data['ordersCummulativeB'] / data['visitorsCummulativeB']"
   ]
  },
  {
   "cell_type": "code",
   "execution_count": 26,
   "metadata": {},
   "outputs": [
    {
     "data": {
      "image/png": "[encoded data removed]",
      "text/plain": [
       "<Figure size 1500x500 with 1 Axes>"
      ]
     },
     "metadata": {},
     "output_type": "display_data"
    }
   ],
   "source": [
    "plt.figure(figsize=(15,5))\n",
    "plt.plot(data['date'], data['averageOrdersCummulativeA'], label='Кумулятивное среднее количество заказов на поситителя группы A')\n",
    "plt.plot(data['date'], data['averageOrdersCummulativeB'], label='Кумулятивное среднее количество заказов на поситителя группы B')\n",
    "\n",
    "plt.grid(True)\n",
    "plt.title('График кумулятивного среднего количества заказов на посетителя по группам')\n",
    "plt.xlabel('Дата')\n",
    "plt.ylabel('Кумулятивное среднее количества заказов')\n",
    "plt.legend()\n",
    "\n",
    "plt.show()"
   ]
  },
  {
   "cell_type": "markdown",
   "metadata": {},
   "source": [
    "В начале рассматриваемого периода среднее количество заказов на поситителя группы А превышало среднее количество заказов на поситителя группы В, но с 6 августа картина поменялась и кривая группы В значительно опережала кривую группы А.  "
   ]
  },
  {
   "cell_type": "markdown",
   "metadata": {},
   "source": [
    "### График относительного изменения кумулятивного среднего количества заказов на посетителя группы B к группе A"
   ]
  },
  {
   "cell_type": "code",
   "execution_count": 27,
   "metadata": {},
   "outputs": [],
   "source": [
    "data['averageOrdersCummulative'] = data['averageOrdersCummulativeB'] / data['averageOrdersCummulativeA'] - 1"
   ]
  },
  {
   "cell_type": "code",
   "execution_count": 28,
   "metadata": {},
   "outputs": [
    {
     "data": {
      "image/png": "[encoded data removed]",
      "text/plain": [
       "<Figure size 1500x500 with 1 Axes>"
      ]
     },
     "metadata": {},
     "output_type": "display_data"
    }
   ],
   "source": [
    "plt.figure(figsize=(15,5))\n",
    "plt.plot(data['date'], data['averageOrdersCummulative'], label='Кумулятивное среднее заказов на посетителя')\n",
    "\n",
    "plt.grid(True)\n",
    "plt.title('График относительного изменения кумулятивного среднего количества заказов на посетителя группы B к группе A')\n",
    "plt.xlabel('Дата')\n",
    "plt.ylabel('Кумулятивное среднее количества заказов')\n",
    "plt.legend()\n",
    "plt.axhline(y=0, linestyle='--', color='black')\n",
    "plt.axhline(y=0.15, linestyle='--', color='grey')\n",
    "\n",
    "plt.show()"
   ]
  },
  {
   "cell_type": "markdown",
   "metadata": {},
   "source": [
    "Видим, что с 5 августа начался резкий рост показателя кумулятивного среднего количества заказов на посетителя группы B, однако с 17 августа видим спад показателя. На протяжении всего периода показатели группы B опережали показатели группы A. Однако, делать выводы по тесту ещё рано, так как кривая ещё не вышла на плато, также стоит рассмотреть показатели \"сырых\" и \"очищенных\" данных."
   ]
  },
  {
   "cell_type": "markdown",
   "metadata": {},
   "source": [
    "### Точечный график количества заказов по пользователям"
   ]
  },
  {
   "cell_type": "markdown",
   "metadata": {},
   "source": [
    "Создадим переменные ordersByUsersA и ordersByUsersB со столбцами ['visitorId', 'transactionId']. В них для пользователей, которые заказывали хотя бы 1 раз, укажем число совершённых заказов. "
   ]
  },
  {
   "cell_type": "code",
   "execution_count": 29,
   "metadata": {},
   "outputs": [],
   "source": [
    "ordersByUsersA = (\n",
    "    orders[orders['group'] == 'A']\n",
    "    .groupby('visitorId', as_index=False)\n",
    "    .agg({'transactionId': pd.Series.nunique})\n",
    ")\n",
    "ordersByUsersA.columns = ['visitorId', 'orders']\n",
    "\n",
    "ordersByUsersB = (\n",
    "    orders[orders['group'] == 'B']\n",
    "    .groupby('visitorId', as_index=False)\n",
    "    .agg({'transactionId': pd.Series.nunique})\n",
    ")\n",
    "ordersByUsersB.columns = ['visitorId', 'orders'] "
   ]
  },
  {
   "cell_type": "code",
   "execution_count": 30,
   "metadata": {},
   "outputs": [
    {
     "data": {
      "image/png": "[encoded data removed]",
      "text/plain": [
       "<Figure size 1500x500 with 2 Axes>"
      ]
     },
     "metadata": {},
     "output_type": "display_data"
    }
   ],
   "source": [
    "plt.figure(figsize=(15,5))\n",
    "\n",
    "plt.subplot(1, 2, 1)\n",
    "a_values = pd.Series(range(0, len(ordersByUsersA)))\n",
    "plt.scatter(a_values, ordersByUsersA['orders'])\n",
    "plt.grid(True)\n",
    "plt.title('Точечный график количества заказов по пользователям')\n",
    "plt.xlabel('Заказ')\n",
    "plt.ylabel('Количество заказов группы А')\n",
    "\n",
    "\n",
    "plt.subplot(1, 2, 2)\n",
    "a_values = pd.Series(range(0, len(ordersByUsersB)))\n",
    "plt.scatter(a_values, ordersByUsersB['orders'])\n",
    "plt.grid(True)\n",
    "plt.title('Точечный график количества заказов по пользователям')\n",
    "plt.xlabel('Заказ')\n",
    "plt.ylabel('Количество заказов группы B')\n",
    "\n",
    "plt.show()"
   ]
  },
  {
   "cell_type": "markdown",
   "metadata": {},
   "source": [
    "На основе точечных графиков мы можем сделать вывод о том, что в основном группы совершали один заказ, также присутствуют случаи с 2-мя или 3-мя заказами, то что выше этих значений может быть аномалиями. "
   ]
  },
  {
   "cell_type": "markdown",
   "metadata": {},
   "source": [
    "### Найдем 95-й и 99-й перцентили количества заказов на пользователя."
   ]
  },
  {
   "cell_type": "code",
   "execution_count": 31,
   "metadata": {},
   "outputs": [
    {
     "name": "stdout",
     "output_type": "stream",
     "text": [
      "95-й перцентиль количества заказов на пользователя группы A: 2.0\n",
      "99-й перцентиль количества заказов на пользователя группы A: 3.98\n",
      "\n",
      "95-й перцентиль количества заказов на пользователя группы B: 2.0\n",
      "99-й перцентиль количества заказов на пользователя группы B: 3.15\n"
     ]
    }
   ],
   "source": [
    "# Рассчитываем перцентили для группы A\n",
    "percentiles_A = np.percentile(ordersByUsersA['orders'], [95, 99])\n",
    "print('95-й перцентиль количества заказов на пользователя группы A:', percentiles_A[0])\n",
    "print('99-й перцентиль количества заказов на пользователя группы A:', round(percentiles_A[1], 2))\n",
    "print()\n",
    "# Рассчитываем перцентили для группы B\n",
    "percentiles_B = np.percentile(ordersByUsersB['orders'], [95, 99])\n",
    "print('95-й перцентиль количества заказов на пользователя группы B:', percentiles_B[0])\n",
    "print('99-й перцентиль количества заказов на пользователя группы B:', round(percentiles_B[1], 2))"
   ]
  },
  {
   "cell_type": "markdown",
   "metadata": {},
   "source": [
    "Исходя из полученных данных следует принять за аномальное значение количество заказов превышающее 3 заказа, так как не более 5% пользователей в обеих группах совершали более 2-х заказов, а более 3 заказов совершали не более 1% пользователей."
   ]
  },
  {
   "cell_type": "markdown",
   "metadata": {},
   "source": [
    "### Точечный график стоимостей заказов"
   ]
  },
  {
   "cell_type": "code",
   "execution_count": 32,
   "metadata": {},
   "outputs": [],
   "source": [
    "revenueByUsersA = orders.query('group == \"A\"')['revenue']\n",
    "revenueByUsersB = orders.query('group == \"B\"')['revenue']"
   ]
  },
  {
   "cell_type": "code",
   "execution_count": 33,
   "metadata": {},
   "outputs": [
    {
     "data": {
      "image/png": "[encoded data removed]",
      "text/plain": [
       "<Figure size 1500x500 with 2 Axes>"
      ]
     },
     "metadata": {},
     "output_type": "display_data"
    }
   ],
   "source": [
    "plt.figure(figsize=(15,5))\n",
    "\n",
    "plt.subplot(1, 2, 1)\n",
    "a_values = pd.Series(range(0, len(revenueByUsersA)))\n",
    "plt.scatter(a_values, revenueByUsersA)\n",
    "plt.grid(True)\n",
    "plt.title('Точечный график стоимости заказов группы А')\n",
    "plt.xlabel('Заказ')\n",
    "plt.ylabel('Стоимость заказов группы А')\n",
    "plt.ylim(0, 150000)\n",
    "\n",
    "\n",
    "plt.subplot(1, 2, 2)\n",
    "b_values = pd.Series(range(0, len(revenueByUsersB)))\n",
    "plt.scatter(b_values, revenueByUsersB)\n",
    "plt.grid(True)\n",
    "plt.title('Точечный график стоимости заказов группы B')\n",
    "plt.xlabel('Заказ')\n",
    "plt.ylabel('Стоимость заказов группы B')\n",
    "\n",
    "\n",
    "plt.show()"
   ]
  },
  {
   "cell_type": "markdown",
   "metadata": {},
   "source": [
    "Видим, что в основном стоимость заказа не превышала 20 000 в обеих группах, однако стоит обратить внимание на особый аномальный выброс группы B равный 1 200 000, который может являтсся причиной резкого роста по показателю выручки и среднего чека на графиках выше."
   ]
  },
  {
   "cell_type": "markdown",
   "metadata": {},
   "source": [
    "### Посчитаем 95-й и 99-й перцентили стоимости заказов"
   ]
  },
  {
   "cell_type": "code",
   "execution_count": 34,
   "metadata": {},
   "outputs": [
    {
     "name": "stdout",
     "output_type": "stream",
     "text": [
      "95-й перцентиль стоимости заказа группы A: 26718.0\n",
      "99-й перцентиль стоимости заказа группы A: 62764.4\n",
      "\n",
      "95-й перцентиль стоимости заказа группы B: 28787.45\n",
      "99-й перцентиль стоимости заказа группы B: 55579.06\n"
     ]
    }
   ],
   "source": [
    "# Рассчитываем перцентили для группы A\n",
    "percentiles_A = np.percentile(revenueByUsersA, [95, 99])\n",
    "print('95-й перцентиль стоимости заказа группы A:', round(percentiles_A[0], 2))\n",
    "print('99-й перцентиль стоимости заказа группы A:', round(percentiles_A[1], 2))\n",
    "print()\n",
    "# Рассчитываем перцентили для группы B\n",
    "percentiles_B = np.percentile(revenueByUsersB, [95, 99])\n",
    "print('95-й перцентиль стоимости заказа группы B:', round(percentiles_B[0], 2))\n",
    "print('99-й перцентиль стоимости заказа группы B:', round(percentiles_B[1], 2))"
   ]
  },
  {
   "cell_type": "markdown",
   "metadata": {},
   "source": [
    "На основе данных о перцентилях можем принять границу стоимости заказа в 30 000, свыше этого будут находится аномальные заказы, так как для группы А 95-й перцентиль составляет 26 718,0, а для группы В 95-й перцентиль составляет 28 787,45."
   ]
  },
  {
   "cell_type": "markdown",
   "metadata": {},
   "source": [
    "### Посчитаем статистическую значимость различий в среднем количестве заказов на посетителя между группами по «сырым» данным"
   ]
  },
  {
   "cell_type": "markdown",
   "metadata": {},
   "source": [
    "Для начала сформулируем гипотезы:\n",
    "\n",
    "**H0:** Различий между средним количеством заказов на посетителя в группах нет\n",
    "\n",
    "\n",
    "**H1:** Различия между средним количеством заказов на посетителя в группых есть\n",
    "\n",
    "\n",
    "Уровень статистической значимости примем за 0.05, применим статистический критерий Манна-Уитни для того, чтобы провести тестирование."
   ]
  },
  {
   "cell_type": "code",
   "execution_count": 35,
   "metadata": {},
   "outputs": [],
   "source": [
    "average_ordersA = pd.concat(\n",
    "    [ordersByUsersA['orders'],\n",
    "        pd.Series(\n",
    "            0,\n",
    "            index=np.arange(\n",
    "                data['visitorsPerDateA'].sum() - len(ordersByUsersA['orders'])\n",
    "            ),\n",
    "            name='orders',\n",
    "        ),\n",
    "    ],\n",
    "    axis=0,\n",
    ")\n",
    "\n",
    "average_ordersB = pd.concat(\n",
    "    [\n",
    "        ordersByUsersB['orders'],\n",
    "        pd.Series(\n",
    "            0,\n",
    "            index=np.arange(\n",
    "                data['visitorsPerDateB'].sum() - len(ordersByUsersB['orders'])\n",
    "            ),\n",
    "            name='orders',\n",
    "        ),\n",
    "    ],\n",
    "    axis=0,\n",
    ")"
   ]
  },
  {
   "cell_type": "code",
   "execution_count": 36,
   "metadata": {},
   "outputs": [
    {
     "name": "stdout",
     "output_type": "stream",
     "text": [
      "P-value: 0.017\n",
      "Относительная разница: 0.138\n"
     ]
    }
   ],
   "source": [
    "print(\"P-value: {0:.3f}\".format(st.mannwhitneyu(average_ordersA, average_ordersB)[1]))\n",
    "\n",
    "print(\"Относительная разница: {0:.3f}\".format(average_ordersB.mean() / average_ordersA.mean() - 1))"
   ]
  },
  {
   "cell_type": "markdown",
   "metadata": {},
   "source": [
    "* По \"сырым\" данным мы получили p-value равное 0.017, тем самым мы можем отвергнуть нулевую гипотезу о том, что различий между средним количеством заказов на посетителя в группах нет.\n",
    "\n",
    "\n",
    "* Относительная разница между показателями среднего количества заказов на посетителя составляет 0.138, то есть среднее количество заказов на посетителя группы B на 13.8% больше группы А."
   ]
  },
  {
   "cell_type": "markdown",
   "metadata": {},
   "source": [
    "### Посчитаем статистическую значимость различий в среднем чеке заказа между группами по «сырым» данным"
   ]
  },
  {
   "cell_type": "markdown",
   "metadata": {},
   "source": [
    "Также сначала сформулируем гипотезы.\n",
    "\n",
    "**H0:** Статистически значимых различий в среднем чеке заказов между группами нет\n",
    "\n",
    "\n",
    "**H1:** Статистически значимые различия в среднем чеке заказов между группами есть\n",
    "\n",
    "Уровень статистической значимости примем за 0.05."
   ]
  },
  {
   "cell_type": "code",
   "execution_count": 37,
   "metadata": {},
   "outputs": [
    {
     "name": "stdout",
     "output_type": "stream",
     "text": [
      "P-value: 0.729\n",
      "Различие в среднем чеке: 0.259\n"
     ]
    }
   ],
   "source": [
    "print('P-value: {0:.3f}'.format(st.mannwhitneyu(revenueByUsersA, revenueByUsersB)[1]))\n",
    "print('Различие в среднем чеке: {0:.3f}'.format(revenueByUsersB.mean()/revenueByUsersA.mean()-1))"
   ]
  },
  {
   "cell_type": "markdown",
   "metadata": {},
   "source": [
    "По \"сырым\" данным мы установили, что p-value равняется 0.729, что значительно больше уровня статистической значимости, значит причин отвергать нулевую гипотезу у нас нет, то есть статистически значимых различий в среднем чеке заказов между группами нет.\n",
    "\n",
    "Различие в среднем чеке между группой B и А составляет 25.9%."
   ]
  },
  {
   "cell_type": "markdown",
   "metadata": {},
   "source": [
    "### Посчитаем статистическую значимость различий в среднем количестве заказов на посетителя между группами по «очищенным» данным"
   ]
  },
  {
   "cell_type": "markdown",
   "metadata": {},
   "source": [
    "Для начала отберем пользователей, которые освершили более 3-х заказов, а также заказы, сумма которых превысила 30 000, и объединим их в одну таблицу. Такие значения мы принимаем за аномалии на основе ранее вычесленных перцентилей."
   ]
  },
  {
   "cell_type": "code",
   "execution_count": 38,
   "metadata": {},
   "outputs": [
    {
     "name": "stdout",
     "output_type": "stream",
     "text": [
      "57\n"
     ]
    }
   ],
   "source": [
    "usersWithManyOrders = pd.concat(\n",
    "    [\n",
    "        ordersByUsersA[ordersByUsersA['orders'] > 3]['visitorId'],\n",
    "        ordersByUsersB[ordersByUsersB['orders'] > 3]['visitorId'],\n",
    "    ],\n",
    "    axis=0,\n",
    ")\n",
    "usersWithExpensiveOrders = orders[orders['revenue'] > 30000]['visitorId']\n",
    "abnormalUsers = (\n",
    "    pd.concat([usersWithManyOrders, usersWithExpensiveOrders], axis=0)\n",
    "    .drop_duplicates()\n",
    "    .sort_values()\n",
    ")\n",
    "print(abnormalUsers.shape[0])"
   ]
  },
  {
   "cell_type": "markdown",
   "metadata": {},
   "source": [
    "Всего аномальных значений у нас 57. Узнаем как их действия повлияли на результат теста, оценив следующие гипотезы:\n",
    "\n",
    "**H0:** Различий между средним количеством заказов на посетителя в группах нет\n",
    "\n",
    "**H1:** Различия между средним количеством заказов на посетителя в группых есть\n",
    "\n",
    "Уровень значимости примем за 0.05"
   ]
  },
  {
   "cell_type": "code",
   "execution_count": 39,
   "metadata": {},
   "outputs": [],
   "source": [
    "averageOrdersAFiltered = pd.concat(\n",
    "    [\n",
    "        ordersByUsersA[\n",
    "            np.logical_not(ordersByUsersA['visitorId'].isin(abnormalUsers))\n",
    "        ]['orders'],\n",
    "        pd.Series(\n",
    "            0,\n",
    "            index=np.arange(\n",
    "                data['visitorsPerDateA'].sum() - len(ordersByUsersA['orders'])\n",
    "            ),\n",
    "            name='orders',\n",
    "        ),\n",
    "    ],\n",
    "    axis=0,\n",
    ")\n",
    "\n",
    "averageOrdersBFiltered = pd.concat(\n",
    "    [\n",
    "        ordersByUsersB[\n",
    "            np.logical_not(ordersByUsersB['visitorId'].isin(abnormalUsers))\n",
    "        ]['orders'],\n",
    "        pd.Series(\n",
    "            0,\n",
    "            index=np.arange(\n",
    "                data['visitorsPerDateB'].sum() - len(ordersByUsersB['orders'])\n",
    "            ),\n",
    "            name='orders',\n",
    "        ),\n",
    "    ],\n",
    "    axis=0,\n",
    ") "
   ]
  },
  {
   "cell_type": "code",
   "execution_count": 40,
   "metadata": {},
   "outputs": [
    {
     "name": "stdout",
     "output_type": "stream",
     "text": [
      "P-value: 0.018\n",
      "Относительная разница: 0.148\n"
     ]
    }
   ],
   "source": [
    "print('P-value: {0:.3f}'.format(st.mannwhitneyu(averageOrdersAFiltered, averageOrdersBFiltered)[1]))\n",
    "print('Относительная разница: {0:.3f}'.format(averageOrdersBFiltered.mean()/averageOrdersAFiltered.mean()-1))"
   ]
  },
  {
   "cell_type": "markdown",
   "metadata": {},
   "source": [
    "P-value составило 0.018, что значительно меньше статистического уровня значимости (как и по сырым данным), поэтом нулевую гипотезу о том, что \"Различий между средним количеством заказов на посетителя в группах нет\", мы отвергаем.\n",
    "\n",
    "Разница между средним количеством заказов группы B и группы A в этом случае составляет 14.8%."
   ]
  },
  {
   "cell_type": "markdown",
   "metadata": {},
   "source": [
    "### Посчитаем статистическую значимость различий в среднем чеке заказа между группами по «очищенным» данным"
   ]
  },
  {
   "cell_type": "markdown",
   "metadata": {},
   "source": [
    "**H0:** Статистически значимых различий в среднем чеке заказов между группами нет\n",
    "\n",
    "**H1:** Статистически значимые различия в среднем чеке заказов между группами есть\n",
    "\n",
    "Уровень статистической значимости примем за 0.05."
   ]
  },
  {
   "cell_type": "code",
   "execution_count": 41,
   "metadata": {},
   "outputs": [
    {
     "name": "stdout",
     "output_type": "stream",
     "text": [
      "P-value: 0.958\n",
      "Относительная разница: -0.020\n"
     ]
    }
   ],
   "source": [
    "print(\n",
    "    'P-value: {0:.3f}'.format(\n",
    "        st.mannwhitneyu(\n",
    "            orders[\n",
    "                np.logical_and(\n",
    "                    orders['group'] == 'A',\n",
    "                    np.logical_not(orders['visitorId'].isin(abnormalUsers)),\n",
    "                )\n",
    "            ]['revenue'],\n",
    "            orders[\n",
    "                np.logical_and(\n",
    "                    orders['group'] == 'B',\n",
    "                    np.logical_not(orders['visitorId'].isin(abnormalUsers)),\n",
    "                )\n",
    "            ]['revenue'],\n",
    "        )[1]\n",
    "    )\n",
    ")\n",
    "\n",
    "print(\n",
    "    \"Относительная разница: {0:.3f}\".format(\n",
    "        orders[\n",
    "            np.logical_and(\n",
    "                orders['group'] == 'B',\n",
    "                np.logical_not(orders['visitorId'].isin(abnormalUsers)),\n",
    "            )\n",
    "        ]['revenue'].mean()\n",
    "        / orders[\n",
    "            np.logical_and(\n",
    "                orders['group'] == 'A',\n",
    "                np.logical_not(orders['visitorId'].isin(abnormalUsers)),\n",
    "            )\n",
    "        ]['revenue'].mean()\n",
    "        - 1\n",
    "    )\n",
    ")"
   ]
  },
  {
   "cell_type": "markdown",
   "metadata": {},
   "source": [
    "P-value в данном случае увеличился до 0.958, что значительно больше уровня статистической значимости, поэтому основания для того, чтобы отвергнуть нулевую гипотезу у нас нет.\n",
    "\n",
    "Обратим внимание, что различия в среднем чеке по \"очищенным\" данным между группой B и группой А, составили (-2.0%), в то время как по сырым данным данный показатель равнялся 25.9%."
   ]
  },
  {
   "cell_type": "markdown",
   "metadata": {},
   "source": [
    "### Решения по результатам А/В теста"
   ]
  },
  {
   "cell_type": "markdown",
   "metadata": {},
   "source": [
    "Основной задачей было определить поможет ли выбранная стратегия увеличить выручку интернет-магазина. На выручку непосредственно влияет количество заказов на пользователя. По результатам А/В теста мы определили, что различия по данному показателю между группами есть и оно статистически значимо. По \"очищенным\" данным мы увидили, что среднее количество заказов на пользоватля группы В превышает среднее количество заказов на пользователей группы А на 14,8%, поэтому рекомендую остановить тест и зафиксировать победу группы В, несмотря на то, что различий в среднем чеке между группами нет. "
   ]
  },
  {
   "cell_type": "markdown",
   "metadata": {},
   "source": [
    "**Промежуточный вывод по разделу 3.**\n",
    "\n",
    "* На данном шаге для удобной работы мы создали единый датафрейм data с кумулятивными данными, на основе которого были проведены следующие исследования:\n",
    "\n",
    "\n",
    "1) Из графика куммулятивной мы выручки по группам выяснили, что кривая группы B превосходит кривую группы А, однако, стоит обратить внимание на резкий скачок кривой B после 17 августа 2018 года. Такое изменнение могло произойти из-за аномальных заказов.\n",
    "\n",
    "\n",
    "2) По графику кумулятивного средне чека мы увидели, что кривая группы B опережает кривую группы А на протяжении почти всего периода исследования, видим резкий скачок группы А 13 августа. Также есть резкое изменение куммулятивного среднего чека группы В после 17 августа, затем рост замедляется, что дает повод задуматься об аномальных заказах, сумма которых сильно превышает среднее значение.\n",
    "\n",
    "\n",
    "3) \"График относительного изменения кумулятивного среднего чека группы B к группе A\" показал, что в основном значения среднего чека группы B значительно превышает значения среднего чека группы А, но линия нестабильна. Видим резкие скачки, к примеру с 1 по 9 августа и с 17 по 19 августа, а также резкие падения, с 7 по 13 августа и с 19 августа до конца периода исследования. Все три графика продемонстрировали одну картину.\n",
    "\n",
    "\n",
    "4) В начале рассматриваемого периода среднее количество заказов на поситителя группы А превышало среднее количество заказов на поситителя группы В, но с 6 августа картина поменялась и кривая группы В значительно опережала кривую группы А.\n",
    "\n",
    "\n",
    "5) График относительного изменения кумулятивного среднего количества заказов на посетителя группы B к группе показал, что с 5 августа начался резкий рост данного показателя у группы B, однако с 17 августа произошел спад. На протяжении всего периода показатели группы B опережали показатели группы A.\n",
    "\n",
    "\n",
    "6) На основе точечных графиков количества заказов мы сдели вывод о том, что в основном группы совершали один заказ, также присутствуют случаи с 2-мя или 3-мя заказами, то что выше этих значений может быть аномалиями.\n",
    "\n",
    "\n",
    "7) Нашли 95-й и 99-й перцентили количества закзов, исходя из полученных данных следует принять за аномальное значение количество заказов превышающее 3 заказа, так как не более 5% пользователей в обеих группах совершали более 2-х заказов, а более 3 заказов совершали не более 1% пользователей.\n",
    "\n",
    "\n",
    "8) Точечный график стоимости заказа дал понять, что в основном стоимость заказа не превышала 20 000 в обеих группах, однако стоит обратить внимание на особый аномальный выброс группы B равный 1 200 000, который может являтсся причиной резкого роста по показателю выручки и среднего чека на графиках выше.\n",
    "\n",
    "\n",
    "9) На основе данных о перцентилях приняли границу стоимости заказа в 30 000, свыше этого будут находится аномальные заказы, так как для группы А 95-й перцентиль составляет 26 718,0, а для группы В 95-й перцентиль составляет 28 787,45.\n",
    "\n",
    "\n",
    "10) Посчитали статистическую значимость различий в среднем количестве заказов на посетителя между группами по «сырым» данным. В ходе тестирования мы выяснили, что получили p-value равное 0.017, которое значительно меньше уровня статистической значимости, тем самым мы можем отвергнуть нулевую гипотезу о том, что различий между средним количеством заказов на посетителя в группах нет. Относительная разница между показателями среднего количества заказов на посетителя составляет 0.138, то есть среднее количесвто заказов на посетителя группы B на 13.8% больше группы А.\n",
    "\n",
    "\n",
    "11) Посчитали статистическую значимость различий в среднем чеке заказа между группами по «сырым» данным. По \"сырым\" данным мы установили, что p-value равняется 0.729, что значительно больше уровня статистической значимости, значит причин отвергать нулевую гипотезу у нас нет, то есть статистически значимых различий в среднем чеке заказов между группами нет. Различие в среднем чеке между группой B и А составляет 25.9%. \n",
    "\n",
    "\n",
    "12) Посчитали статистическую значимость различий в среднем количестве заказов на посетителя между группами по «очищенным» данным. P-value составило 0.018, что значительно меньше статистического уровня значимости (как и по сырым данным), поэтом нулевую гипотезу о том, что \"Различий между средним количеством заказов на посетителя в группах нет\", мы отвергаем. Разница между средним количеством заказов группы B и группы A в этом случае составляет 14.8%.\n",
    "\n",
    "\n",
    "13) Посчитали статистическую значимость различий в среднем чеке заказа между группами по «очищенным» данным. P-value в данном случае увеличился до 0.958, что значительно бельше уровня статистической значимости, поэтому основания для того, чтобы отвергнуть нулевую гипотезу у нас нет. Обратим внимание, что различия в среднем чеке по \"очищенным\" данным между группой B и группой А, составили (-2.0%), в то время как по сырым данным данный показатель равнялся 25.9%.\n",
    "\n",
    "\n",
    "14) Основной задачей было определить поможет ли выбранная стратегия увеличить выручку интернет-магазина. На выручку непосредственно влияет количество заказов на пользователя. По результатам А/В теста мы определили, что различия по данному показателю между группами есть и оно статистически значимо. По \"очищенным\" данным мы увидили, что среднее количество заказов на пользоватля группы В превышает среднее количество заказов на пользователей группы А на 14,8%, поэтому рекомендую остановить тест и зафиксировать победу группы В, несмотря на то, что различий в среднем чеке между группами нет. "
   ]
  },
  {
   "cell_type": "markdown",
   "metadata": {},
   "source": [
    "## Итоговый вывод"
   ]
  },
  {
   "cell_type": "markdown",
   "metadata": {},
   "source": [
    "1) Подводя итог, можно сказать о том, что исходные данные предоставленные нам хорошо подготовлены, пропусков и дубликатов нет. Однако, нужно обратить внимание на:\n",
    "\n",
    "* В файле с гипотезами стоит обратить внимание на название столбцов. Привести их к нижнему регистру.\n",
    "\n",
    "* В файлах с информацией о заказах и количеством пользователей нужно перевести столбцы date к типу datetime\n",
    "\n",
    "2) В ходе выполнения проекта мы расчитывали два фреймворка ICE и RICE. \n",
    "\n",
    "\n",
    "* Согласно значению фреймворка ICE мы видим, что в приорете стоит гипотеза №8 \"Запустить акцию, дающую скидку на товар в день рождения\". Согласно фреймворку RICE самой приоретеной гипотезой является гипотеза №7 \"Добавить форму подписки на все основные страницы, чтобы собрать базу клиентов для email-рассылок\".\n",
    "\n",
    "\n",
    "* Такие расхождения вызваны дополнительным компонентом Reach в фрейморке RICE, благодаря которому мы можем оценить количество пользователей, которые будут затронуты из-за внесенного изменения. Поэтому рекомендую ставить в приоритет гипотезу №7 \"Добавить форму подписки на все основные страницы, чтобы собрать базу клиентов для email-рассылок\", у которой фреймворк RICE наибольший и равен 112.\n",
    "\n",
    "3) При анализе A/B теста мы выяснили следующее:\n",
    "\n",
    "\n",
    "**Выручка и средний чек:**\n",
    "\n",
    "* График кумулятивной выручки показал, что группа B опережает группу A. Однако после 17 августа 2018 года наблюдается резкий скачок выручки в группе B, возможно из-за аномальных заказов.\n",
    "\n",
    "* Средний чек группы B также превосходит группу A, но есть нестабильности. Резкие скачки и падения в относительном изменении среднего чека подтверждают это.\n",
    "\n",
    "* Статистически значимых различий в среднем чеке между группа не обнаружилось.\n",
    "\n",
    "**Среднее количество заказов на посетителя:**\n",
    "\n",
    "* Изначально среднее количество заказов на посетителя у группы A было выше, но с 6 августа группа B начала опережать группу A.\n",
    "\n",
    "* По “сырым” данным разница в среднем количестве заказов на посетителя составляет 13.8% в пользу группы B.\n",
    "\n",
    "* По “очищенным” данным разница в среднем количестве заказов на посетителя также в пользу группы B – 14.8%.\n",
    "\n",
    "\n",
    "**Аномалии:**\n",
    "\n",
    "* Аномальные заказы существуют. По перцентилям, заказы свыше 3-х можно считать аномальными.\n",
    "\n",
    "* Стоимость заказа в группе B имеет выброс в 1 200 000, который может повлиять на общую выручку.\n",
    "\n",
    "\n",
    "Основной задачей было определить поможет ли выбранная стратегия увеличить выручку интернет-магазина. На выручку непосредственно влияет количество заказов на пользователя. По результатам А/В теста мы определили, что различия по данному показателю между группами есть и оно статистически значимо. По \"очищенным\" данным мы увидили, что среднее количество заказов на пользоватля группы В превышает среднее количество заказов на пользователей группы А на 14,8%, поэтому рекомендую остановить тест и зафиксировать победу группы В, несмотря на то, что различий в среднем чеке между группами нет.\n"
   ]
  },
  {
   "cell_type": "code",
   "execution_count": null,
   "metadata": {},
   "outputs": [],
   "source": []
  }
 ],
 "metadata": {
  "ExecuteTimeLog": [
   {
    "duration": 904,
    "start_time": "2024-07-17T08:33:14.440Z"
   },
   {
    "duration": 3,
    "start_time": "2024-07-17T08:34:24.977Z"
   },
   {
    "duration": 532,
    "start_time": "2024-07-17T08:34:29.819Z"
   },
   {
    "duration": 6,
    "start_time": "2024-07-17T08:36:50.726Z"
   },
   {
    "duration": 266,
    "start_time": "2024-07-17T08:39:11.017Z"
   },
   {
    "duration": 71,
    "start_time": "2024-07-17T08:39:42.593Z"
   },
   {
    "duration": 5,
    "start_time": "2024-07-17T08:39:43.430Z"
   },
   {
    "duration": 50,
    "start_time": "2024-07-17T08:40:26.158Z"
   },
   {
    "duration": 105,
    "start_time": "2024-07-17T08:44:22.883Z"
   },
   {
    "duration": 31,
    "start_time": "2024-07-17T08:45:12.614Z"
   },
   {
    "duration": 3,
    "start_time": "2024-07-17T08:45:35.753Z"
   },
   {
    "duration": 5,
    "start_time": "2024-07-17T08:45:45.818Z"
   },
   {
    "duration": 49,
    "start_time": "2024-07-17T08:47:32.899Z"
   },
   {
    "duration": 5,
    "start_time": "2024-07-17T08:47:34.270Z"
   },
   {
    "duration": 51,
    "start_time": "2024-07-17T08:47:49.922Z"
   },
   {
    "duration": 66,
    "start_time": "2024-07-17T08:48:53.860Z"
   },
   {
    "duration": 15,
    "start_time": "2024-07-17T08:49:30.629Z"
   },
   {
    "duration": 6,
    "start_time": "2024-07-17T08:50:07.803Z"
   },
   {
    "duration": 12,
    "start_time": "2024-07-17T08:50:16.189Z"
   },
   {
    "duration": 32,
    "start_time": "2024-07-17T08:51:23.340Z"
   },
   {
    "duration": 124,
    "start_time": "2024-07-17T08:51:52.653Z"
   },
   {
    "duration": 4,
    "start_time": "2024-07-17T08:52:24.678Z"
   },
   {
    "duration": 11,
    "start_time": "2024-07-17T08:52:31.565Z"
   },
   {
    "duration": 46,
    "start_time": "2024-07-17T18:10:22.073Z"
   },
   {
    "duration": 1179,
    "start_time": "2024-07-17T18:11:09.058Z"
   },
   {
    "duration": 219,
    "start_time": "2024-07-17T18:11:10.238Z"
   },
   {
    "duration": 4,
    "start_time": "2024-07-17T18:11:10.459Z"
   },
   {
    "duration": 47,
    "start_time": "2024-07-17T18:11:10.465Z"
   },
   {
    "duration": 4,
    "start_time": "2024-07-17T18:11:10.513Z"
   },
   {
    "duration": 94,
    "start_time": "2024-07-17T18:11:10.518Z"
   },
   {
    "duration": 5,
    "start_time": "2024-07-17T18:11:10.614Z"
   },
   {
    "duration": 32,
    "start_time": "2024-07-17T18:11:10.621Z"
   },
   {
    "duration": 4,
    "start_time": "2024-07-17T18:11:10.655Z"
   },
   {
    "duration": 5,
    "start_time": "2024-07-17T18:11:10.661Z"
   },
   {
    "duration": 10,
    "start_time": "2024-07-17T18:11:45.176Z"
   },
   {
    "duration": 9,
    "start_time": "2024-07-17T18:11:54.674Z"
   },
   {
    "duration": 8,
    "start_time": "2024-07-17T18:12:46.193Z"
   },
   {
    "duration": 4,
    "start_time": "2024-07-17T18:15:38.373Z"
   },
   {
    "duration": 12,
    "start_time": "2024-07-17T18:15:38.998Z"
   },
   {
    "duration": 10,
    "start_time": "2024-07-17T18:15:40.113Z"
   },
   {
    "duration": 3,
    "start_time": "2024-07-17T18:18:02.391Z"
   },
   {
    "duration": 10,
    "start_time": "2024-07-17T18:18:08.618Z"
   },
   {
    "duration": 3,
    "start_time": "2024-07-17T18:18:16.967Z"
   },
   {
    "duration": 8,
    "start_time": "2024-07-17T18:18:17.509Z"
   },
   {
    "duration": 7,
    "start_time": "2024-07-17T18:18:19.565Z"
   },
   {
    "duration": 1114,
    "start_time": "2024-07-17T18:18:31.428Z"
   },
   {
    "duration": 74,
    "start_time": "2024-07-17T18:18:32.543Z"
   },
   {
    "duration": 45,
    "start_time": "2024-07-17T18:18:32.618Z"
   },
   {
    "duration": 43,
    "start_time": "2024-07-17T18:18:32.665Z"
   },
   {
    "duration": 4,
    "start_time": "2024-07-17T18:18:32.710Z"
   },
   {
    "duration": 38,
    "start_time": "2024-07-17T18:18:32.715Z"
   },
   {
    "duration": 4,
    "start_time": "2024-07-17T18:18:32.754Z"
   },
   {
    "duration": 64,
    "start_time": "2024-07-17T18:18:32.760Z"
   },
   {
    "duration": 3,
    "start_time": "2024-07-17T18:18:32.825Z"
   },
   {
    "duration": 16,
    "start_time": "2024-07-17T18:18:32.830Z"
   },
   {
    "duration": 9,
    "start_time": "2024-07-17T18:18:32.847Z"
   },
   {
    "duration": 11,
    "start_time": "2024-07-17T18:18:32.857Z"
   },
   {
    "duration": 3,
    "start_time": "2024-07-17T18:18:46.834Z"
   },
   {
    "duration": 47,
    "start_time": "2024-07-17T18:18:47.513Z"
   },
   {
    "duration": 4,
    "start_time": "2024-07-17T18:18:50.883Z"
   },
   {
    "duration": 43,
    "start_time": "2024-07-17T18:18:52.465Z"
   },
   {
    "duration": 1042,
    "start_time": "2024-07-17T18:19:00.459Z"
   },
   {
    "duration": 74,
    "start_time": "2024-07-17T18:19:01.502Z"
   },
   {
    "duration": 4,
    "start_time": "2024-07-17T18:19:01.577Z"
   },
   {
    "duration": 31,
    "start_time": "2024-07-17T18:19:01.583Z"
   },
   {
    "duration": 108,
    "start_time": "2024-07-17T18:19:01.615Z"
   },
   {
    "duration": 18,
    "start_time": "2024-07-17T18:19:01.724Z"
   },
   {
    "duration": 78,
    "start_time": "2024-07-17T18:19:01.744Z"
   },
   {
    "duration": 5,
    "start_time": "2024-07-17T18:19:01.823Z"
   },
   {
    "duration": 80,
    "start_time": "2024-07-17T18:19:01.829Z"
   },
   {
    "duration": 3,
    "start_time": "2024-07-17T18:19:01.911Z"
   },
   {
    "duration": 36,
    "start_time": "2024-07-17T18:19:01.915Z"
   },
   {
    "duration": 71,
    "start_time": "2024-07-17T18:19:01.953Z"
   },
   {
    "duration": 70,
    "start_time": "2024-07-17T18:19:02.026Z"
   },
   {
    "duration": 4,
    "start_time": "2024-07-17T18:22:36.765Z"
   },
   {
    "duration": 9,
    "start_time": "2024-07-17T18:22:55.425Z"
   },
   {
    "duration": 9,
    "start_time": "2024-07-17T18:23:09.045Z"
   },
   {
    "duration": 8,
    "start_time": "2024-07-17T18:23:42.307Z"
   },
   {
    "duration": 176,
    "start_time": "2024-07-17T18:49:04.289Z"
   },
   {
    "duration": 94,
    "start_time": "2024-07-17T18:51:51.794Z"
   },
   {
    "duration": 138,
    "start_time": "2024-07-17T18:52:20.335Z"
   },
   {
    "duration": 184,
    "start_time": "2024-07-17T18:52:32.611Z"
   },
   {
    "duration": 9,
    "start_time": "2024-07-17T18:52:38.236Z"
   },
   {
    "duration": 177,
    "start_time": "2024-07-17T18:55:56.517Z"
   },
   {
    "duration": 9,
    "start_time": "2024-07-17T18:55:58.491Z"
   },
   {
    "duration": 11,
    "start_time": "2024-07-17T18:56:18.600Z"
   },
   {
    "duration": 117,
    "start_time": "2024-07-17T19:01:39.245Z"
   },
   {
    "duration": 224,
    "start_time": "2024-07-17T19:01:57.022Z"
   },
   {
    "duration": 193,
    "start_time": "2024-07-17T19:03:11.956Z"
   },
   {
    "duration": 193,
    "start_time": "2024-07-17T19:03:21.654Z"
   },
   {
    "duration": 207,
    "start_time": "2024-07-17T19:03:47.642Z"
   },
   {
    "duration": 202,
    "start_time": "2024-07-17T19:04:43.133Z"
   },
   {
    "duration": 205,
    "start_time": "2024-07-17T19:04:55.845Z"
   },
   {
    "duration": 199,
    "start_time": "2024-07-17T19:05:03.981Z"
   },
   {
    "duration": 62,
    "start_time": "2024-07-17T19:06:01.071Z"
   },
   {
    "duration": 253,
    "start_time": "2024-07-17T19:06:16.007Z"
   },
   {
    "duration": 180,
    "start_time": "2024-07-17T19:06:21.584Z"
   },
   {
    "duration": 61,
    "start_time": "2024-07-17T19:06:34.491Z"
   },
   {
    "duration": 210,
    "start_time": "2024-07-17T19:06:39.904Z"
   },
   {
    "duration": 160,
    "start_time": "2024-07-17T19:11:43.430Z"
   },
   {
    "duration": 143,
    "start_time": "2024-07-17T19:12:02.304Z"
   },
   {
    "duration": 132,
    "start_time": "2024-07-17T19:12:10.354Z"
   },
   {
    "duration": 256,
    "start_time": "2024-07-17T19:12:48.720Z"
   },
   {
    "duration": 173,
    "start_time": "2024-07-17T19:13:08.461Z"
   },
   {
    "duration": 155,
    "start_time": "2024-07-17T19:13:17.442Z"
   },
   {
    "duration": 182,
    "start_time": "2024-07-17T19:13:32.563Z"
   },
   {
    "duration": 4,
    "start_time": "2024-07-17T19:19:21.201Z"
   },
   {
    "duration": 4,
    "start_time": "2024-07-17T19:19:44.871Z"
   },
   {
    "duration": 178,
    "start_time": "2024-07-17T19:20:35.401Z"
   },
   {
    "duration": 191,
    "start_time": "2024-07-17T19:23:00.257Z"
   },
   {
    "duration": 260,
    "start_time": "2024-07-17T19:23:09.042Z"
   },
   {
    "duration": 190,
    "start_time": "2024-07-17T19:26:01.197Z"
   },
   {
    "duration": 187,
    "start_time": "2024-07-17T19:26:31.269Z"
   },
   {
    "duration": 192,
    "start_time": "2024-07-17T19:26:53.652Z"
   },
   {
    "duration": 185,
    "start_time": "2024-07-17T19:26:58.905Z"
   },
   {
    "duration": 3,
    "start_time": "2024-07-17T19:26:59.987Z"
   },
   {
    "duration": 200,
    "start_time": "2024-07-17T19:27:00.379Z"
   },
   {
    "duration": 3,
    "start_time": "2024-07-17T19:29:59.340Z"
   },
   {
    "duration": 187,
    "start_time": "2024-07-17T19:31:29.728Z"
   },
   {
    "duration": 3,
    "start_time": "2024-07-17T19:32:15.316Z"
   },
   {
    "duration": 302,
    "start_time": "2024-07-17T19:32:15.677Z"
   },
   {
    "duration": 316,
    "start_time": "2024-07-17T19:32:27.305Z"
   },
   {
    "duration": 294,
    "start_time": "2024-07-17T19:32:31.370Z"
   },
   {
    "duration": 203,
    "start_time": "2024-07-17T19:32:37.187Z"
   },
   {
    "duration": 247,
    "start_time": "2024-07-17T19:32:43.498Z"
   },
   {
    "duration": 358,
    "start_time": "2024-07-17T19:33:05.190Z"
   },
   {
    "duration": 202,
    "start_time": "2024-07-17T19:33:39.296Z"
   },
   {
    "duration": 324,
    "start_time": "2024-07-17T19:33:42.289Z"
   },
   {
    "duration": 3,
    "start_time": "2024-07-17T19:46:18.100Z"
   },
   {
    "duration": 4,
    "start_time": "2024-07-17T19:46:32.121Z"
   },
   {
    "duration": 215,
    "start_time": "2024-07-17T19:48:26.098Z"
   },
   {
    "duration": 228,
    "start_time": "2024-07-17T19:48:50.338Z"
   },
   {
    "duration": 4,
    "start_time": "2024-07-17T19:59:11.385Z"
   },
   {
    "duration": 214,
    "start_time": "2024-07-17T20:00:20.401Z"
   },
   {
    "duration": 317,
    "start_time": "2024-07-17T20:00:34.722Z"
   },
   {
    "duration": 990,
    "start_time": "2024-07-17T20:12:06.500Z"
   },
   {
    "duration": 113,
    "start_time": "2024-07-17T20:12:45.253Z"
   },
   {
    "duration": 104,
    "start_time": "2024-07-17T20:13:02.987Z"
   },
   {
    "duration": 121,
    "start_time": "2024-07-17T20:16:00.515Z"
   },
   {
    "duration": 1020,
    "start_time": "2024-07-17T20:16:18.716Z"
   },
   {
    "duration": 181,
    "start_time": "2024-07-17T20:16:39.488Z"
   },
   {
    "duration": 215,
    "start_time": "2024-07-17T20:17:02.090Z"
   },
   {
    "duration": 266,
    "start_time": "2024-07-17T20:18:18.076Z"
   },
   {
    "duration": 106,
    "start_time": "2024-07-17T20:20:23.448Z"
   },
   {
    "duration": 287,
    "start_time": "2024-07-17T20:22:46.882Z"
   },
   {
    "duration": 242,
    "start_time": "2024-07-17T20:23:01.825Z"
   },
   {
    "duration": 236,
    "start_time": "2024-07-17T20:23:15.483Z"
   },
   {
    "duration": 5,
    "start_time": "2024-07-17T20:44:14.709Z"
   },
   {
    "duration": 7,
    "start_time": "2024-07-17T20:44:29.256Z"
   },
   {
    "duration": 5,
    "start_time": "2024-07-17T20:44:50.497Z"
   },
   {
    "duration": 5,
    "start_time": "2024-07-17T20:45:03.068Z"
   },
   {
    "duration": 4,
    "start_time": "2024-07-17T20:45:19.405Z"
   },
   {
    "duration": 5,
    "start_time": "2024-07-17T20:45:28.444Z"
   },
   {
    "duration": 5,
    "start_time": "2024-07-17T20:46:44.163Z"
   },
   {
    "duration": 5,
    "start_time": "2024-07-17T20:46:57.879Z"
   },
   {
    "duration": 6,
    "start_time": "2024-07-17T20:47:12.214Z"
   },
   {
    "duration": 6,
    "start_time": "2024-07-17T20:47:27.118Z"
   },
   {
    "duration": 85,
    "start_time": "2024-07-17T20:53:44.087Z"
   },
   {
    "duration": 68,
    "start_time": "2024-07-17T20:54:35.796Z"
   },
   {
    "duration": 80,
    "start_time": "2024-07-17T20:54:44.545Z"
   },
   {
    "duration": 429,
    "start_time": "2024-07-17T20:55:12.975Z"
   },
   {
    "duration": 73,
    "start_time": "2024-07-17T20:55:22.629Z"
   },
   {
    "duration": 11,
    "start_time": "2024-07-17T20:56:05.109Z"
   },
   {
    "duration": 10,
    "start_time": "2024-07-17T20:56:15.301Z"
   },
   {
    "duration": 93,
    "start_time": "2024-07-17T20:57:24.480Z"
   },
   {
    "duration": 1243,
    "start_time": "2024-07-17T20:58:04.377Z"
   },
   {
    "duration": 1208,
    "start_time": "2024-07-17T20:58:36.215Z"
   },
   {
    "duration": 129,
    "start_time": "2024-07-17T20:58:46.308Z"
   },
   {
    "duration": 240,
    "start_time": "2024-07-17T20:58:46.831Z"
   },
   {
    "duration": 216,
    "start_time": "2024-07-17T20:59:01.588Z"
   },
   {
    "duration": 11,
    "start_time": "2024-07-17T20:59:20.198Z"
   },
   {
    "duration": 1243,
    "start_time": "2024-07-17T20:59:25.701Z"
   },
   {
    "duration": 121,
    "start_time": "2024-07-17T20:59:31.663Z"
   },
   {
    "duration": 221,
    "start_time": "2024-07-17T20:59:37.866Z"
   },
   {
    "duration": 247,
    "start_time": "2024-07-17T21:03:03.230Z"
   },
   {
    "duration": 223,
    "start_time": "2024-07-17T21:04:30.260Z"
   },
   {
    "duration": 240,
    "start_time": "2024-07-17T21:05:09.154Z"
   },
   {
    "duration": 240,
    "start_time": "2024-07-17T21:05:17.200Z"
   },
   {
    "duration": 6,
    "start_time": "2024-07-17T21:08:28.783Z"
   },
   {
    "duration": 875,
    "start_time": "2024-07-17T21:08:29.400Z"
   },
   {
    "duration": 229,
    "start_time": "2024-07-17T21:09:18.886Z"
   },
   {
    "duration": 232,
    "start_time": "2024-07-17T21:09:33.116Z"
   },
   {
    "duration": 237,
    "start_time": "2024-07-17T21:09:46.553Z"
   },
   {
    "duration": 237,
    "start_time": "2024-07-17T21:09:52.165Z"
   },
   {
    "duration": 338,
    "start_time": "2024-07-17T21:10:19.136Z"
   },
   {
    "duration": 797,
    "start_time": "2024-07-17T21:23:51.363Z"
   },
   {
    "duration": 5,
    "start_time": "2024-07-17T21:24:17.459Z"
   },
   {
    "duration": 6,
    "start_time": "2024-07-17T21:24:51.274Z"
   },
   {
    "duration": 6,
    "start_time": "2024-07-17T21:25:16.060Z"
   },
   {
    "duration": 5,
    "start_time": "2024-07-17T21:30:32.226Z"
   },
   {
    "duration": 6,
    "start_time": "2024-07-17T21:33:19.598Z"
   },
   {
    "duration": 8,
    "start_time": "2024-07-17T21:33:43.999Z"
   },
   {
    "duration": 24,
    "start_time": "2024-07-17T21:34:12.893Z"
   },
   {
    "duration": 9,
    "start_time": "2024-07-17T21:42:50.677Z"
   },
   {
    "duration": 6,
    "start_time": "2024-07-17T21:43:14.856Z"
   },
   {
    "duration": 7,
    "start_time": "2024-07-17T21:43:42.427Z"
   },
   {
    "duration": 1034,
    "start_time": "2024-07-17T21:57:16.288Z"
   },
   {
    "duration": 1128,
    "start_time": "2024-07-17T21:58:00.038Z"
   },
   {
    "duration": 124,
    "start_time": "2024-07-17T21:58:59.399Z"
   },
   {
    "duration": 213,
    "start_time": "2024-07-17T21:58:59.778Z"
   },
   {
    "duration": 6,
    "start_time": "2024-07-17T21:59:00.292Z"
   },
   {
    "duration": 7,
    "start_time": "2024-07-17T21:59:00.717Z"
   },
   {
    "duration": 247,
    "start_time": "2024-07-17T21:59:00.856Z"
   },
   {
    "duration": 5,
    "start_time": "2024-07-17T21:59:01.302Z"
   },
   {
    "duration": 6,
    "start_time": "2024-07-17T21:59:01.982Z"
   },
   {
    "duration": 20,
    "start_time": "2024-07-17T21:59:02.856Z"
   },
   {
    "duration": 6,
    "start_time": "2024-07-17T21:59:03.148Z"
   },
   {
    "duration": 7,
    "start_time": "2024-07-17T21:59:03.773Z"
   },
   {
    "duration": 8,
    "start_time": "2024-07-17T22:00:00.312Z"
   },
   {
    "duration": 8,
    "start_time": "2024-07-17T22:01:24.763Z"
   },
   {
    "duration": 7,
    "start_time": "2024-07-17T22:05:34.051Z"
   },
   {
    "duration": 10,
    "start_time": "2024-07-17T22:05:37.655Z"
   },
   {
    "duration": 7,
    "start_time": "2024-07-17T22:05:44.052Z"
   },
   {
    "duration": 34,
    "start_time": "2024-07-17T22:05:44.479Z"
   },
   {
    "duration": 10,
    "start_time": "2024-07-17T22:11:46.393Z"
   },
   {
    "duration": 12,
    "start_time": "2024-07-17T22:11:52.904Z"
   },
   {
    "duration": 1313,
    "start_time": "2024-07-18T09:07:00.779Z"
   },
   {
    "duration": 266,
    "start_time": "2024-07-18T09:07:02.094Z"
   },
   {
    "duration": 5,
    "start_time": "2024-07-18T09:07:02.362Z"
   },
   {
    "duration": 13,
    "start_time": "2024-07-18T09:07:02.369Z"
   },
   {
    "duration": 51,
    "start_time": "2024-07-18T09:07:02.384Z"
   },
   {
    "duration": 6,
    "start_time": "2024-07-18T09:07:02.437Z"
   },
   {
    "duration": 81,
    "start_time": "2024-07-18T09:07:02.445Z"
   },
   {
    "duration": 5,
    "start_time": "2024-07-18T09:07:02.527Z"
   },
   {
    "duration": 75,
    "start_time": "2024-07-18T09:07:02.534Z"
   },
   {
    "duration": 4,
    "start_time": "2024-07-18T09:07:02.611Z"
   },
   {
    "duration": 7,
    "start_time": "2024-07-18T09:07:02.617Z"
   },
   {
    "duration": 11,
    "start_time": "2024-07-18T09:07:02.625Z"
   },
   {
    "duration": 13,
    "start_time": "2024-07-18T09:07:02.637Z"
   },
   {
    "duration": 7,
    "start_time": "2024-07-18T09:07:02.653Z"
   },
   {
    "duration": 41,
    "start_time": "2024-07-18T09:07:02.661Z"
   },
   {
    "duration": 14,
    "start_time": "2024-07-18T09:07:02.707Z"
   },
   {
    "duration": 245,
    "start_time": "2024-07-18T09:07:02.722Z"
   },
   {
    "duration": 10,
    "start_time": "2024-07-18T09:07:02.969Z"
   },
   {
    "duration": 12,
    "start_time": "2024-07-18T09:07:02.980Z"
   },
   {
    "duration": 316,
    "start_time": "2024-07-18T09:07:03.008Z"
   },
   {
    "duration": 4,
    "start_time": "2024-07-18T09:07:03.326Z"
   },
   {
    "duration": 244,
    "start_time": "2024-07-18T09:07:03.332Z"
   },
   {
    "duration": 4,
    "start_time": "2024-07-18T09:07:03.578Z"
   },
   {
    "duration": 414,
    "start_time": "2024-07-18T09:07:03.583Z"
   },
   {
    "duration": 9,
    "start_time": "2024-07-18T09:07:03.999Z"
   },
   {
    "duration": 279,
    "start_time": "2024-07-18T09:07:04.009Z"
   },
   {
    "duration": 4,
    "start_time": "2024-07-18T09:07:04.289Z"
   },
   {
    "duration": 349,
    "start_time": "2024-07-18T09:07:04.295Z"
   },
   {
    "duration": 164,
    "start_time": "2024-07-18T09:07:04.646Z"
   },
   {
    "duration": 268,
    "start_time": "2024-07-18T09:07:04.813Z"
   },
   {
    "duration": 6,
    "start_time": "2024-07-18T09:07:05.083Z"
   },
   {
    "duration": 21,
    "start_time": "2024-07-18T09:07:05.091Z"
   },
   {
    "duration": 285,
    "start_time": "2024-07-18T09:07:05.113Z"
   },
   {
    "duration": 11,
    "start_time": "2024-07-18T09:07:05.400Z"
   },
   {
    "duration": 9,
    "start_time": "2024-07-18T09:07:05.412Z"
   },
   {
    "duration": 31,
    "start_time": "2024-07-18T09:07:05.423Z"
   },
   {
    "duration": 6,
    "start_time": "2024-07-18T09:07:05.455Z"
   },
   {
    "duration": 8,
    "start_time": "2024-07-18T09:07:05.463Z"
   },
   {
    "duration": 8,
    "start_time": "2024-07-18T09:07:05.473Z"
   },
   {
    "duration": 27,
    "start_time": "2024-07-18T09:07:05.507Z"
   },
   {
    "duration": 14,
    "start_time": "2024-07-18T09:07:05.537Z"
   },
   {
    "duration": 51,
    "start_time": "2024-07-19T16:56:23.568Z"
   },
   {
    "duration": 1407,
    "start_time": "2024-07-19T16:56:31.647Z"
   },
   {
    "duration": 225,
    "start_time": "2024-07-19T16:56:33.056Z"
   },
   {
    "duration": 6,
    "start_time": "2024-07-19T16:56:33.283Z"
   },
   {
    "duration": 5,
    "start_time": "2024-07-19T16:56:33.291Z"
   },
   {
    "duration": 51,
    "start_time": "2024-07-19T16:56:33.297Z"
   },
   {
    "duration": 17,
    "start_time": "2024-07-19T16:56:33.350Z"
   },
   {
    "duration": 42,
    "start_time": "2024-07-19T16:56:33.368Z"
   },
   {
    "duration": 5,
    "start_time": "2024-07-19T16:56:33.411Z"
   },
   {
    "duration": 66,
    "start_time": "2024-07-19T16:56:33.417Z"
   },
   {
    "duration": 4,
    "start_time": "2024-07-19T16:56:33.486Z"
   },
   {
    "duration": 7,
    "start_time": "2024-07-19T16:56:33.491Z"
   },
   {
    "duration": 10,
    "start_time": "2024-07-19T16:56:33.500Z"
   },
   {
    "duration": 13,
    "start_time": "2024-07-19T16:56:33.511Z"
   },
   {
    "duration": 40,
    "start_time": "2024-07-19T16:56:33.525Z"
   },
   {
    "duration": 10,
    "start_time": "2024-07-19T16:56:33.567Z"
   },
   {
    "duration": 9,
    "start_time": "2024-07-19T16:56:33.578Z"
   },
   {
    "duration": 230,
    "start_time": "2024-07-19T16:56:33.588Z"
   },
   {
    "duration": 11,
    "start_time": "2024-07-19T16:56:33.819Z"
   },
   {
    "duration": 11,
    "start_time": "2024-07-19T16:56:33.832Z"
   },
   {
    "duration": 337,
    "start_time": "2024-07-19T16:56:33.845Z"
   },
   {
    "duration": 5,
    "start_time": "2024-07-19T16:56:34.184Z"
   },
   {
    "duration": 265,
    "start_time": "2024-07-19T16:56:34.191Z"
   },
   {
    "duration": 7,
    "start_time": "2024-07-19T16:56:34.458Z"
   },
   {
    "duration": 380,
    "start_time": "2024-07-19T16:56:34.467Z"
   },
   {
    "duration": 5,
    "start_time": "2024-07-19T16:56:34.849Z"
   },
   {
    "duration": 271,
    "start_time": "2024-07-19T16:56:34.865Z"
   },
   {
    "duration": 4,
    "start_time": "2024-07-19T16:56:35.138Z"
   },
   {
    "duration": 374,
    "start_time": "2024-07-19T16:56:35.145Z"
   },
   {
    "duration": 149,
    "start_time": "2024-07-19T16:56:35.520Z"
   },
   {
    "duration": 280,
    "start_time": "2024-07-19T16:56:35.671Z"
   },
   {
    "duration": 15,
    "start_time": "2024-07-19T16:56:35.953Z"
   },
   {
    "duration": 19,
    "start_time": "2024-07-19T16:56:35.970Z"
   },
   {
    "duration": 308,
    "start_time": "2024-07-19T16:56:35.990Z"
   },
   {
    "duration": 6,
    "start_time": "2024-07-19T16:56:36.300Z"
   },
   {
    "duration": 6,
    "start_time": "2024-07-19T16:56:36.307Z"
   },
   {
    "duration": 24,
    "start_time": "2024-07-19T16:56:36.314Z"
   },
   {
    "duration": 25,
    "start_time": "2024-07-19T16:56:36.340Z"
   },
   {
    "duration": 8,
    "start_time": "2024-07-19T16:56:36.367Z"
   },
   {
    "duration": 8,
    "start_time": "2024-07-19T16:56:36.376Z"
   },
   {
    "duration": 24,
    "start_time": "2024-07-19T16:56:36.386Z"
   },
   {
    "duration": 14,
    "start_time": "2024-07-19T16:56:36.412Z"
   },
   {
    "duration": 343,
    "start_time": "2024-07-19T16:56:50.336Z"
   },
   {
    "duration": 416,
    "start_time": "2024-07-19T16:57:14.726Z"
   },
   {
    "duration": 348,
    "start_time": "2024-07-19T16:57:20.840Z"
   },
   {
    "duration": 24,
    "start_time": "2024-07-19T16:58:44.721Z"
   },
   {
    "duration": 7,
    "start_time": "2024-07-19T17:00:04.532Z"
   },
   {
    "duration": 26,
    "start_time": "2024-07-19T17:08:52.786Z"
   },
   {
    "duration": 17,
    "start_time": "2024-07-19T17:09:15.045Z"
   },
   {
    "duration": 1503,
    "start_time": "2024-07-19T17:38:35.176Z"
   },
   {
    "duration": 219,
    "start_time": "2024-07-19T17:38:36.682Z"
   },
   {
    "duration": 6,
    "start_time": "2024-07-19T17:38:36.904Z"
   },
   {
    "duration": 20,
    "start_time": "2024-07-19T17:38:36.912Z"
   },
   {
    "duration": 67,
    "start_time": "2024-07-19T17:38:36.934Z"
   },
   {
    "duration": 6,
    "start_time": "2024-07-19T17:38:37.003Z"
   },
   {
    "duration": 82,
    "start_time": "2024-07-19T17:38:37.010Z"
   },
   {
    "duration": 5,
    "start_time": "2024-07-19T17:38:37.093Z"
   },
   {
    "duration": 119,
    "start_time": "2024-07-19T17:38:37.101Z"
   },
   {
    "duration": 5,
    "start_time": "2024-07-19T17:38:37.223Z"
   },
   {
    "duration": 8,
    "start_time": "2024-07-19T17:38:37.230Z"
   },
   {
    "duration": 46,
    "start_time": "2024-07-19T17:38:37.240Z"
   },
   {
    "duration": 10,
    "start_time": "2024-07-19T17:38:37.288Z"
   },
   {
    "duration": 5,
    "start_time": "2024-07-19T17:38:37.300Z"
   },
   {
    "duration": 19,
    "start_time": "2024-07-19T17:38:37.307Z"
   },
   {
    "duration": 13,
    "start_time": "2024-07-19T17:38:37.329Z"
   },
   {
    "duration": 363,
    "start_time": "2024-07-19T17:38:37.345Z"
   },
   {
    "duration": 15,
    "start_time": "2024-07-19T17:38:37.710Z"
   },
   {
    "duration": 27,
    "start_time": "2024-07-19T17:38:37.727Z"
   },
   {
    "duration": 354,
    "start_time": "2024-07-19T17:38:37.758Z"
   },
   {
    "duration": 6,
    "start_time": "2024-07-19T17:38:38.113Z"
   },
   {
    "duration": 250,
    "start_time": "2024-07-19T17:38:38.120Z"
   },
   {
    "duration": 4,
    "start_time": "2024-07-19T17:38:38.381Z"
   },
   {
    "duration": 385,
    "start_time": "2024-07-19T17:38:38.387Z"
   },
   {
    "duration": 11,
    "start_time": "2024-07-19T17:38:38.773Z"
   },
   {
    "duration": 323,
    "start_time": "2024-07-19T17:38:38.786Z"
   },
   {
    "duration": 5,
    "start_time": "2024-07-19T17:38:39.111Z"
   },
   {
    "duration": 368,
    "start_time": "2024-07-19T17:38:39.119Z"
   },
   {
    "duration": 203,
    "start_time": "2024-07-19T17:38:39.490Z"
   },
   {
    "duration": 294,
    "start_time": "2024-07-19T17:38:39.695Z"
   },
   {
    "duration": 8,
    "start_time": "2024-07-19T17:38:39.991Z"
   },
   {
    "duration": 48,
    "start_time": "2024-07-19T17:38:40.001Z"
   },
   {
    "duration": 305,
    "start_time": "2024-07-19T17:38:40.051Z"
   },
   {
    "duration": 7,
    "start_time": "2024-07-19T17:38:40.358Z"
   },
   {
    "duration": 6,
    "start_time": "2024-07-19T17:38:40.382Z"
   },
   {
    "duration": 79,
    "start_time": "2024-07-19T17:38:40.390Z"
   },
   {
    "duration": 46,
    "start_time": "2024-07-19T17:38:40.471Z"
   },
   {
    "duration": 13,
    "start_time": "2024-07-19T17:38:40.518Z"
   },
   {
    "duration": 8,
    "start_time": "2024-07-19T17:38:40.533Z"
   },
   {
    "duration": 33,
    "start_time": "2024-07-19T17:38:40.542Z"
   },
   {
    "duration": 14,
    "start_time": "2024-07-19T17:38:40.577Z"
   }
  ],
  "kernelspec": {
   "display_name": "Python 3 (ipykernel)",
   "language": "python",
   "name": "python3"
  },
  "language_info": {
   "codemirror_mode": {
    "name": "ipython",
    "version": 3
   },
   "file_extension": ".py",
   "mimetype": "text/x-python",
   "name": "python",
   "nbconvert_exporter": "python",
   "pygments_lexer": "ipython3",
   "version": "3.11.5"
  },
  "toc": {
   "base_numbering": 1,
   "nav_menu": {},
   "number_sections": true,
   "sideBar": true,
   "skip_h1_title": true,
   "title_cell": "Table of Contents",
   "title_sidebar": "Contents",
   "toc_cell": false,
   "toc_position": {},
   "toc_section_display": true,
   "toc_window_display": false
  }
 },
 "nbformat": 4,
 "nbformat_minor": 2
}
