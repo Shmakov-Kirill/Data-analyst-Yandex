{
 "cells": [
  {
   "cell_type": "markdown",
   "id": "386f2ae7",
   "metadata": {
    "deletable": false,
    "editable": false,
    "id": "386f2ae7"
   },
   "source": [
    "# Исследование надежности заемщиков\n"
   ]
  },
  {
   "cell_type": "markdown",
   "id": "ffe86f65",
   "metadata": {
    "deletable": false,
    "editable": false,
    "id": "ffe86f65"
   },
   "source": [
    "Во второй части проекта вы выполните шаги 3 и 4. Их вручную проверит ревьюер.\n",
    "Чтобы вам не пришлось писать код заново для шагов 1 и 2, мы добавили авторские решения в ячейки с кодом. \n",
    "\n"
   ]
  },
  {
   "cell_type": "markdown",
   "id": "26613308",
   "metadata": {
    "deletable": false,
    "editable": false,
    "id": "26613308"
   },
   "source": [
    "## Откройте таблицу и изучите общую информацию о данных"
   ]
  },
  {
   "cell_type": "markdown",
   "id": "3c9f838e",
   "metadata": {
    "deletable": false,
    "editable": false,
    "id": "3c9f838e"
   },
   "source": [
    "**Задание 1. Импортируйте библиотеку pandas. Считайте данные из csv-файла в датафрейм и сохраните в переменную `data`. Путь к файлу:**\n",
    "\n",
    "`/datasets/data.csv`"
   ]
  },
  {
   "cell_type": "code",
   "execution_count": 1,
   "id": "77a68a90",
   "metadata": {
    "deletable": false,
    "id": "77a68a90"
   },
   "outputs": [],
   "source": [
    "import pandas as pd\n",
    "\n",
    "try:\n",
    "    data = pd.read_csv('/datasets/data.csv')\n",
    "except:\n",
    "    data = pd.read_csv('https://code.s3.yandex.net/datasets/data.csv')"
   ]
  },
  {
   "cell_type": "markdown",
   "id": "45365635",
   "metadata": {
    "deletable": false,
    "editable": false,
    "id": "45365635"
   },
   "source": [
    "**Задание 2. Выведите первые 20 строчек датафрейма `data` на экран.**"
   ]
  },
  {
   "cell_type": "code",
   "execution_count": 2,
   "id": "b0451a9a",
   "metadata": {
    "deletable": false,
    "id": "b0451a9a",
    "outputId": "1a8f3ef2-d323-4ec2-ddf7-89670b5944c4"
   },
   "outputs": [
    {
     "data": {
      "text/html": [
       "<div>\n",
       "<style scoped>\n",
       "    .dataframe tbody tr th:only-of-type {\n",
       "        vertical-align: middle;\n",
       "    }\n",
       "\n",
       "    .dataframe tbody tr th {\n",
       "        vertical-align: top;\n",
       "    }\n",
       "\n",
       "    .dataframe thead th {\n",
       "        text-align: right;\n",
       "    }\n",
       "</style>\n",
       "<table border=\"1\" class=\"dataframe\">\n",
       "  <thead>\n",
       "    <tr style=\"text-align: right;\">\n",
       "      <th></th>\n",
       "      <th>children</th>\n",
       "      <th>days_employed</th>\n",
       "      <th>dob_years</th>\n",
       "      <th>education</th>\n",
       "      <th>education_id</th>\n",
       "      <th>family_status</th>\n",
       "      <th>family_status_id</th>\n",
       "      <th>gender</th>\n",
       "      <th>income_type</th>\n",
       "      <th>debt</th>\n",
       "      <th>total_income</th>\n",
       "      <th>purpose</th>\n",
       "    </tr>\n",
       "  </thead>\n",
       "  <tbody>\n",
       "    <tr>\n",
       "      <th>0</th>\n",
       "      <td>1</td>\n",
       "      <td>-8437.673028</td>\n",
       "      <td>42</td>\n",
       "      <td>высшее</td>\n",
       "      <td>0</td>\n",
       "      <td>женат / замужем</td>\n",
       "      <td>0</td>\n",
       "      <td>F</td>\n",
       "      <td>сотрудник</td>\n",
       "      <td>0</td>\n",
       "      <td>253875.639453</td>\n",
       "      <td>покупка жилья</td>\n",
       "    </tr>\n",
       "    <tr>\n",
       "      <th>1</th>\n",
       "      <td>1</td>\n",
       "      <td>-4024.803754</td>\n",
       "      <td>36</td>\n",
       "      <td>среднее</td>\n",
       "      <td>1</td>\n",
       "      <td>женат / замужем</td>\n",
       "      <td>0</td>\n",
       "      <td>F</td>\n",
       "      <td>сотрудник</td>\n",
       "      <td>0</td>\n",
       "      <td>112080.014102</td>\n",
       "      <td>приобретение автомобиля</td>\n",
       "    </tr>\n",
       "    <tr>\n",
       "      <th>2</th>\n",
       "      <td>0</td>\n",
       "      <td>-5623.422610</td>\n",
       "      <td>33</td>\n",
       "      <td>Среднее</td>\n",
       "      <td>1</td>\n",
       "      <td>женат / замужем</td>\n",
       "      <td>0</td>\n",
       "      <td>M</td>\n",
       "      <td>сотрудник</td>\n",
       "      <td>0</td>\n",
       "      <td>145885.952297</td>\n",
       "      <td>покупка жилья</td>\n",
       "    </tr>\n",
       "    <tr>\n",
       "      <th>3</th>\n",
       "      <td>3</td>\n",
       "      <td>-4124.747207</td>\n",
       "      <td>32</td>\n",
       "      <td>среднее</td>\n",
       "      <td>1</td>\n",
       "      <td>женат / замужем</td>\n",
       "      <td>0</td>\n",
       "      <td>M</td>\n",
       "      <td>сотрудник</td>\n",
       "      <td>0</td>\n",
       "      <td>267628.550329</td>\n",
       "      <td>дополнительное образование</td>\n",
       "    </tr>\n",
       "    <tr>\n",
       "      <th>4</th>\n",
       "      <td>0</td>\n",
       "      <td>340266.072047</td>\n",
       "      <td>53</td>\n",
       "      <td>среднее</td>\n",
       "      <td>1</td>\n",
       "      <td>гражданский брак</td>\n",
       "      <td>1</td>\n",
       "      <td>F</td>\n",
       "      <td>пенсионер</td>\n",
       "      <td>0</td>\n",
       "      <td>158616.077870</td>\n",
       "      <td>сыграть свадьбу</td>\n",
       "    </tr>\n",
       "    <tr>\n",
       "      <th>5</th>\n",
       "      <td>0</td>\n",
       "      <td>-926.185831</td>\n",
       "      <td>27</td>\n",
       "      <td>высшее</td>\n",
       "      <td>0</td>\n",
       "      <td>гражданский брак</td>\n",
       "      <td>1</td>\n",
       "      <td>M</td>\n",
       "      <td>компаньон</td>\n",
       "      <td>0</td>\n",
       "      <td>255763.565419</td>\n",
       "      <td>покупка жилья</td>\n",
       "    </tr>\n",
       "    <tr>\n",
       "      <th>6</th>\n",
       "      <td>0</td>\n",
       "      <td>-2879.202052</td>\n",
       "      <td>43</td>\n",
       "      <td>высшее</td>\n",
       "      <td>0</td>\n",
       "      <td>женат / замужем</td>\n",
       "      <td>0</td>\n",
       "      <td>F</td>\n",
       "      <td>компаньон</td>\n",
       "      <td>0</td>\n",
       "      <td>240525.971920</td>\n",
       "      <td>операции с жильем</td>\n",
       "    </tr>\n",
       "    <tr>\n",
       "      <th>7</th>\n",
       "      <td>0</td>\n",
       "      <td>-152.779569</td>\n",
       "      <td>50</td>\n",
       "      <td>СРЕДНЕЕ</td>\n",
       "      <td>1</td>\n",
       "      <td>женат / замужем</td>\n",
       "      <td>0</td>\n",
       "      <td>M</td>\n",
       "      <td>сотрудник</td>\n",
       "      <td>0</td>\n",
       "      <td>135823.934197</td>\n",
       "      <td>образование</td>\n",
       "    </tr>\n",
       "    <tr>\n",
       "      <th>8</th>\n",
       "      <td>2</td>\n",
       "      <td>-6929.865299</td>\n",
       "      <td>35</td>\n",
       "      <td>ВЫСШЕЕ</td>\n",
       "      <td>0</td>\n",
       "      <td>гражданский брак</td>\n",
       "      <td>1</td>\n",
       "      <td>F</td>\n",
       "      <td>сотрудник</td>\n",
       "      <td>0</td>\n",
       "      <td>95856.832424</td>\n",
       "      <td>на проведение свадьбы</td>\n",
       "    </tr>\n",
       "    <tr>\n",
       "      <th>9</th>\n",
       "      <td>0</td>\n",
       "      <td>-2188.756445</td>\n",
       "      <td>41</td>\n",
       "      <td>среднее</td>\n",
       "      <td>1</td>\n",
       "      <td>женат / замужем</td>\n",
       "      <td>0</td>\n",
       "      <td>M</td>\n",
       "      <td>сотрудник</td>\n",
       "      <td>0</td>\n",
       "      <td>144425.938277</td>\n",
       "      <td>покупка жилья для семьи</td>\n",
       "    </tr>\n",
       "    <tr>\n",
       "      <th>10</th>\n",
       "      <td>2</td>\n",
       "      <td>-4171.483647</td>\n",
       "      <td>36</td>\n",
       "      <td>высшее</td>\n",
       "      <td>0</td>\n",
       "      <td>женат / замужем</td>\n",
       "      <td>0</td>\n",
       "      <td>M</td>\n",
       "      <td>компаньон</td>\n",
       "      <td>0</td>\n",
       "      <td>113943.491460</td>\n",
       "      <td>покупка недвижимости</td>\n",
       "    </tr>\n",
       "    <tr>\n",
       "      <th>11</th>\n",
       "      <td>0</td>\n",
       "      <td>-792.701887</td>\n",
       "      <td>40</td>\n",
       "      <td>среднее</td>\n",
       "      <td>1</td>\n",
       "      <td>женат / замужем</td>\n",
       "      <td>0</td>\n",
       "      <td>F</td>\n",
       "      <td>сотрудник</td>\n",
       "      <td>0</td>\n",
       "      <td>77069.234271</td>\n",
       "      <td>покупка коммерческой недвижимости</td>\n",
       "    </tr>\n",
       "    <tr>\n",
       "      <th>12</th>\n",
       "      <td>0</td>\n",
       "      <td>NaN</td>\n",
       "      <td>65</td>\n",
       "      <td>среднее</td>\n",
       "      <td>1</td>\n",
       "      <td>гражданский брак</td>\n",
       "      <td>1</td>\n",
       "      <td>M</td>\n",
       "      <td>пенсионер</td>\n",
       "      <td>0</td>\n",
       "      <td>NaN</td>\n",
       "      <td>сыграть свадьбу</td>\n",
       "    </tr>\n",
       "    <tr>\n",
       "      <th>13</th>\n",
       "      <td>0</td>\n",
       "      <td>-1846.641941</td>\n",
       "      <td>54</td>\n",
       "      <td>неоконченное высшее</td>\n",
       "      <td>2</td>\n",
       "      <td>женат / замужем</td>\n",
       "      <td>0</td>\n",
       "      <td>F</td>\n",
       "      <td>сотрудник</td>\n",
       "      <td>0</td>\n",
       "      <td>130458.228857</td>\n",
       "      <td>приобретение автомобиля</td>\n",
       "    </tr>\n",
       "    <tr>\n",
       "      <th>14</th>\n",
       "      <td>0</td>\n",
       "      <td>-1844.956182</td>\n",
       "      <td>56</td>\n",
       "      <td>высшее</td>\n",
       "      <td>0</td>\n",
       "      <td>гражданский брак</td>\n",
       "      <td>1</td>\n",
       "      <td>F</td>\n",
       "      <td>компаньон</td>\n",
       "      <td>1</td>\n",
       "      <td>165127.911772</td>\n",
       "      <td>покупка жилой недвижимости</td>\n",
       "    </tr>\n",
       "    <tr>\n",
       "      <th>15</th>\n",
       "      <td>1</td>\n",
       "      <td>-972.364419</td>\n",
       "      <td>26</td>\n",
       "      <td>среднее</td>\n",
       "      <td>1</td>\n",
       "      <td>женат / замужем</td>\n",
       "      <td>0</td>\n",
       "      <td>F</td>\n",
       "      <td>сотрудник</td>\n",
       "      <td>0</td>\n",
       "      <td>116820.904450</td>\n",
       "      <td>строительство собственной недвижимости</td>\n",
       "    </tr>\n",
       "    <tr>\n",
       "      <th>16</th>\n",
       "      <td>0</td>\n",
       "      <td>-1719.934226</td>\n",
       "      <td>35</td>\n",
       "      <td>среднее</td>\n",
       "      <td>1</td>\n",
       "      <td>женат / замужем</td>\n",
       "      <td>0</td>\n",
       "      <td>F</td>\n",
       "      <td>сотрудник</td>\n",
       "      <td>0</td>\n",
       "      <td>289202.704229</td>\n",
       "      <td>недвижимость</td>\n",
       "    </tr>\n",
       "    <tr>\n",
       "      <th>17</th>\n",
       "      <td>0</td>\n",
       "      <td>-2369.999720</td>\n",
       "      <td>33</td>\n",
       "      <td>высшее</td>\n",
       "      <td>0</td>\n",
       "      <td>гражданский брак</td>\n",
       "      <td>1</td>\n",
       "      <td>M</td>\n",
       "      <td>сотрудник</td>\n",
       "      <td>0</td>\n",
       "      <td>90410.586745</td>\n",
       "      <td>строительство недвижимости</td>\n",
       "    </tr>\n",
       "    <tr>\n",
       "      <th>18</th>\n",
       "      <td>0</td>\n",
       "      <td>400281.136913</td>\n",
       "      <td>53</td>\n",
       "      <td>среднее</td>\n",
       "      <td>1</td>\n",
       "      <td>вдовец / вдова</td>\n",
       "      <td>2</td>\n",
       "      <td>F</td>\n",
       "      <td>пенсионер</td>\n",
       "      <td>0</td>\n",
       "      <td>56823.777243</td>\n",
       "      <td>на покупку подержанного автомобиля</td>\n",
       "    </tr>\n",
       "    <tr>\n",
       "      <th>19</th>\n",
       "      <td>0</td>\n",
       "      <td>-10038.818549</td>\n",
       "      <td>48</td>\n",
       "      <td>СРЕДНЕЕ</td>\n",
       "      <td>1</td>\n",
       "      <td>в разводе</td>\n",
       "      <td>3</td>\n",
       "      <td>F</td>\n",
       "      <td>сотрудник</td>\n",
       "      <td>0</td>\n",
       "      <td>242831.107982</td>\n",
       "      <td>на покупку своего автомобиля</td>\n",
       "    </tr>\n",
       "  </tbody>\n",
       "</table>\n",
       "</div>"
      ],
      "text/plain": [
       "    children  days_employed  dob_years            education  education_id  \\\n",
       "0          1   -8437.673028         42               высшее             0   \n",
       "1          1   -4024.803754         36              среднее             1   \n",
       "2          0   -5623.422610         33              Среднее             1   \n",
       "3          3   -4124.747207         32              среднее             1   \n",
       "4          0  340266.072047         53              среднее             1   \n",
       "5          0    -926.185831         27               высшее             0   \n",
       "6          0   -2879.202052         43               высшее             0   \n",
       "7          0    -152.779569         50              СРЕДНЕЕ             1   \n",
       "8          2   -6929.865299         35               ВЫСШЕЕ             0   \n",
       "9          0   -2188.756445         41              среднее             1   \n",
       "10         2   -4171.483647         36               высшее             0   \n",
       "11         0    -792.701887         40              среднее             1   \n",
       "12         0            NaN         65              среднее             1   \n",
       "13         0   -1846.641941         54  неоконченное высшее             2   \n",
       "14         0   -1844.956182         56               высшее             0   \n",
       "15         1    -972.364419         26              среднее             1   \n",
       "16         0   -1719.934226         35              среднее             1   \n",
       "17         0   -2369.999720         33               высшее             0   \n",
       "18         0  400281.136913         53              среднее             1   \n",
       "19         0  -10038.818549         48              СРЕДНЕЕ             1   \n",
       "\n",
       "       family_status  family_status_id gender income_type  debt  \\\n",
       "0    женат / замужем                 0      F   сотрудник     0   \n",
       "1    женат / замужем                 0      F   сотрудник     0   \n",
       "2    женат / замужем                 0      M   сотрудник     0   \n",
       "3    женат / замужем                 0      M   сотрудник     0   \n",
       "4   гражданский брак                 1      F   пенсионер     0   \n",
       "5   гражданский брак                 1      M   компаньон     0   \n",
       "6    женат / замужем                 0      F   компаньон     0   \n",
       "7    женат / замужем                 0      M   сотрудник     0   \n",
       "8   гражданский брак                 1      F   сотрудник     0   \n",
       "9    женат / замужем                 0      M   сотрудник     0   \n",
       "10   женат / замужем                 0      M   компаньон     0   \n",
       "11   женат / замужем                 0      F   сотрудник     0   \n",
       "12  гражданский брак                 1      M   пенсионер     0   \n",
       "13   женат / замужем                 0      F   сотрудник     0   \n",
       "14  гражданский брак                 1      F   компаньон     1   \n",
       "15   женат / замужем                 0      F   сотрудник     0   \n",
       "16   женат / замужем                 0      F   сотрудник     0   \n",
       "17  гражданский брак                 1      M   сотрудник     0   \n",
       "18    вдовец / вдова                 2      F   пенсионер     0   \n",
       "19         в разводе                 3      F   сотрудник     0   \n",
       "\n",
       "     total_income                                 purpose  \n",
       "0   253875.639453                           покупка жилья  \n",
       "1   112080.014102                 приобретение автомобиля  \n",
       "2   145885.952297                           покупка жилья  \n",
       "3   267628.550329              дополнительное образование  \n",
       "4   158616.077870                         сыграть свадьбу  \n",
       "5   255763.565419                           покупка жилья  \n",
       "6   240525.971920                       операции с жильем  \n",
       "7   135823.934197                             образование  \n",
       "8    95856.832424                   на проведение свадьбы  \n",
       "9   144425.938277                 покупка жилья для семьи  \n",
       "10  113943.491460                    покупка недвижимости  \n",
       "11   77069.234271       покупка коммерческой недвижимости  \n",
       "12            NaN                         сыграть свадьбу  \n",
       "13  130458.228857                 приобретение автомобиля  \n",
       "14  165127.911772              покупка жилой недвижимости  \n",
       "15  116820.904450  строительство собственной недвижимости  \n",
       "16  289202.704229                            недвижимость  \n",
       "17   90410.586745              строительство недвижимости  \n",
       "18   56823.777243      на покупку подержанного автомобиля  \n",
       "19  242831.107982            на покупку своего автомобиля  "
      ]
     },
     "execution_count": 2,
     "metadata": {},
     "output_type": "execute_result"
    }
   ],
   "source": [
    "data.head(20)"
   ]
  },
  {
   "cell_type": "markdown",
   "id": "1a00e1df",
   "metadata": {},
   "source": [
    "**Наблюдение:** из первых 20 строк датафрейма видно, что в столбце **days_employed** присутствуют некорректные данные (отрицательные значения), которые нужно будет исправить. "
   ]
  },
  {
   "cell_type": "markdown",
   "id": "0ed8f27f",
   "metadata": {
    "deletable": false,
    "editable": false,
    "id": "0ed8f27f"
   },
   "source": [
    "**Задание 3. Выведите основную информацию о датафрейме с помощью метода `info()`.**"
   ]
  },
  {
   "cell_type": "code",
   "execution_count": 3,
   "id": "ab3f863b",
   "metadata": {
    "deletable": false,
    "id": "ab3f863b",
    "outputId": "15376089-8dad-46c9-b520-c05248d43158"
   },
   "outputs": [
    {
     "name": "stdout",
     "output_type": "stream",
     "text": [
      "<class 'pandas.core.frame.DataFrame'>\n",
      "RangeIndex: 21525 entries, 0 to 21524\n",
      "Data columns (total 12 columns):\n",
      " #   Column            Non-Null Count  Dtype  \n",
      "---  ------            --------------  -----  \n",
      " 0   children          21525 non-null  int64  \n",
      " 1   days_employed     19351 non-null  float64\n",
      " 2   dob_years         21525 non-null  int64  \n",
      " 3   education         21525 non-null  object \n",
      " 4   education_id      21525 non-null  int64  \n",
      " 5   family_status     21525 non-null  object \n",
      " 6   family_status_id  21525 non-null  int64  \n",
      " 7   gender            21525 non-null  object \n",
      " 8   income_type       21525 non-null  object \n",
      " 9   debt              21525 non-null  int64  \n",
      " 10  total_income      19351 non-null  float64\n",
      " 11  purpose           21525 non-null  object \n",
      "dtypes: float64(2), int64(5), object(5)\n",
      "memory usage: 2.0+ MB\n"
     ]
    }
   ],
   "source": [
    "data.info()"
   ]
  },
  {
   "cell_type": "markdown",
   "id": "60e3e22d",
   "metadata": {
    "deletable": false,
    "editable": false,
    "id": "60e3e22d"
   },
   "source": [
    "## Предобработка данных"
   ]
  },
  {
   "cell_type": "markdown",
   "id": "03dc170c",
   "metadata": {
    "deletable": false,
    "editable": false,
    "id": "03dc170c"
   },
   "source": [
    "### Удаление пропусков"
   ]
  },
  {
   "cell_type": "markdown",
   "id": "a4f54eef",
   "metadata": {
    "deletable": false,
    "editable": false,
    "id": "a4f54eef"
   },
   "source": [
    "**Задание 4. Выведите количество пропущенных значений для каждого столбца. Используйте комбинацию двух методов.**"
   ]
  },
  {
   "cell_type": "code",
   "execution_count": 4,
   "id": "2dc372b2",
   "metadata": {
    "deletable": false,
    "id": "2dc372b2",
    "outputId": "81f4d817-781c-465c-ed15-91ce4446810d"
   },
   "outputs": [
    {
     "data": {
      "text/plain": [
       "children               0\n",
       "days_employed       2174\n",
       "dob_years              0\n",
       "education              0\n",
       "education_id           0\n",
       "family_status          0\n",
       "family_status_id       0\n",
       "gender                 0\n",
       "income_type            0\n",
       "debt                   0\n",
       "total_income        2174\n",
       "purpose                0\n",
       "dtype: int64"
      ]
     },
     "execution_count": 4,
     "metadata": {},
     "output_type": "execute_result"
    }
   ],
   "source": [
    "data.isna().sum()"
   ]
  },
  {
   "cell_type": "markdown",
   "id": "04e2a5de",
   "metadata": {},
   "source": [
    "В данном датафрейме присутствуют пропущенные значения в столбцах **days_employed** и **total_income**."
   ]
  },
  {
   "cell_type": "markdown",
   "id": "14f011b1",
   "metadata": {
    "deletable": false,
    "editable": false,
    "id": "14f011b1"
   },
   "source": [
    "**Задание 5. В двух столбцах есть пропущенные значения. Один из них — `days_employed`. Пропуски в этом столбце вы обработаете на следующем этапе. Другой столбец с пропущенными значениями — `total_income` — хранит данные о доходах. На сумму дохода сильнее всего влияет тип занятости, поэтому заполнить пропуски в этом столбце нужно медианным значением по каждому типу из столбца `income_type`. Например, у человека с типом занятости `сотрудник` пропуск в столбце `total_income` должен быть заполнен медианным доходом среди всех записей с тем же типом.**"
   ]
  },
  {
   "cell_type": "code",
   "execution_count": 5,
   "id": "bdabfb6e",
   "metadata": {
    "deletable": false,
    "id": "bdabfb6e"
   },
   "outputs": [],
   "source": [
    "for t in data['income_type'].unique():\n",
    "    data.loc[(data['income_type'] == t) & (data['total_income'].isna()), 'total_income'] = \\\n",
    "    data.loc[(data['income_type'] == t), 'total_income'].median()"
   ]
  },
  {
   "cell_type": "markdown",
   "id": "b722f831",
   "metadata": {},
   "source": [
    "Опишем данный цикл.\n",
    "Мы проходимся по уникальным значениям из столбца **income_type**, затем ищем строки, которые соответствуют двум условиям: \n",
    "1) Значение **income_type** равно текущему значению\n",
    "\n",
    "2) Значение в **total_income** пропущено\n",
    "\n",
    "Далее заменяем пропущенные значения в 'total_income' медианным значением дохода для текущего типа дохода t."
   ]
  },
  {
   "cell_type": "markdown",
   "id": "5be34059",
   "metadata": {
    "deletable": false,
    "editable": false,
    "id": "5be34059"
   },
   "source": [
    "### Обработка аномальных значений"
   ]
  },
  {
   "cell_type": "markdown",
   "id": "a87606cb",
   "metadata": {
    "deletable": false,
    "editable": false,
    "id": "a87606cb"
   },
   "source": [
    "**Задание 6. В данных могут встречаться артефакты (аномалии) — значения, которые не отражают действительность и появились по какой-то ошибке. таким артефактом будет отрицательное количество дней трудового стажа в столбце `days_employed`. Для реальных данных это нормально. Обработайте значения в этом столбце: замените все отрицательные значения положительными с помощью метода `abs()`.**"
   ]
  },
  {
   "cell_type": "code",
   "execution_count": 6,
   "id": "020c46cc",
   "metadata": {
    "deletable": false,
    "id": "020c46cc"
   },
   "outputs": [],
   "source": [
    "data['days_employed'] = data['days_employed'].abs()"
   ]
  },
  {
   "cell_type": "markdown",
   "id": "45538a3a",
   "metadata": {
    "deletable": false,
    "editable": false,
    "id": "45538a3a"
   },
   "source": [
    "**Задание 7. Для каждого типа занятости выведите медианное значение трудового стажа `days_employed` в днях.**"
   ]
  },
  {
   "cell_type": "code",
   "execution_count": 7,
   "id": "cd3e6328",
   "metadata": {
    "deletable": false,
    "id": "cd3e6328",
    "outputId": "801ef80e-522b-4668-f34e-565af7432bcf"
   },
   "outputs": [
    {
     "data": {
      "text/plain": [
       "income_type\n",
       "безработный        366413.652744\n",
       "в декрете            3296.759962\n",
       "госслужащий          2689.368353\n",
       "компаньон            1547.382223\n",
       "пенсионер          365213.306266\n",
       "предприниматель       520.848083\n",
       "сотрудник            1574.202821\n",
       "студент               578.751554\n",
       "Name: days_employed, dtype: float64"
      ]
     },
     "execution_count": 7,
     "metadata": {},
     "output_type": "execute_result"
    }
   ],
   "source": [
    "data.groupby('income_type')['days_employed'].agg('median')"
   ]
  },
  {
   "cell_type": "markdown",
   "id": "90c5f058",
   "metadata": {
    "deletable": false,
    "editable": false,
    "id": "90c5f058"
   },
   "source": [
    "У двух типов (безработные и пенсионеры) получатся аномально большие значения. Исправить такие значения сложно, поэтому оставьте их как есть."
   ]
  },
  {
   "cell_type": "markdown",
   "id": "9652e50d",
   "metadata": {
    "deletable": false,
    "editable": false,
    "id": "9652e50d"
   },
   "source": [
    "**Задание 8. Выведите перечень уникальных значений столбца `children`.**"
   ]
  },
  {
   "cell_type": "code",
   "execution_count": 8,
   "id": "dbb37b8e",
   "metadata": {
    "deletable": false,
    "id": "dbb37b8e",
    "outputId": "6975b15c-7f95-4697-d16d-a0c79b657b03"
   },
   "outputs": [
    {
     "data": {
      "text/plain": [
       "array([ 1,  0,  3,  2, -1,  4, 20,  5])"
      ]
     },
     "execution_count": 8,
     "metadata": {},
     "output_type": "execute_result"
    }
   ],
   "source": [
    "data['children'].unique()"
   ]
  },
  {
   "cell_type": "markdown",
   "id": "239a0096",
   "metadata": {},
   "source": [
    "Видим, что присутствуют аномальные значения: **-1** и **20**."
   ]
  },
  {
   "cell_type": "markdown",
   "id": "2b8b0715",
   "metadata": {
    "deletable": false,
    "editable": false,
    "id": "2b8b0715"
   },
   "source": [
    "**Задание 9. В столбце `children` есть два аномальных значения. Удалите строки, в которых встречаются такие аномальные значения из датафрейма `data`.**"
   ]
  },
  {
   "cell_type": "code",
   "execution_count": 9,
   "id": "20009df8",
   "metadata": {
    "deletable": false,
    "id": "20009df8"
   },
   "outputs": [],
   "source": [
    "data = data[(data['children'] != -1) & (data['children'] != 20)]"
   ]
  },
  {
   "cell_type": "markdown",
   "id": "7d16746e",
   "metadata": {},
   "source": [
    "Перезаписал датафрейм с условием, что в столбце **children** нет значений, которые равняются -1 и 20."
   ]
  },
  {
   "cell_type": "markdown",
   "id": "8c6ac9f1",
   "metadata": {
    "deletable": false,
    "editable": false,
    "id": "8c6ac9f1"
   },
   "source": [
    "**Задание 10. Ещё раз выведите перечень уникальных значений столбца `children`, чтобы убедиться, что артефакты удалены.**"
   ]
  },
  {
   "cell_type": "code",
   "execution_count": 10,
   "id": "07337b81",
   "metadata": {
    "deletable": false,
    "id": "07337b81",
    "outputId": "b2097101-d49d-44d9-901b-32a65c9463d1"
   },
   "outputs": [
    {
     "data": {
      "text/plain": [
       "array([1, 0, 3, 2, 4, 5])"
      ]
     },
     "execution_count": 10,
     "metadata": {},
     "output_type": "execute_result"
    }
   ],
   "source": [
    "data['children'].unique()"
   ]
  },
  {
   "cell_type": "markdown",
   "id": "ee3f52d4",
   "metadata": {
    "deletable": false,
    "editable": false,
    "id": "ee3f52d4"
   },
   "source": [
    "### Удаление пропусков (продолжение)"
   ]
  },
  {
   "cell_type": "markdown",
   "id": "a700b0e4",
   "metadata": {
    "deletable": false,
    "editable": false,
    "id": "a700b0e4"
   },
   "source": [
    "**Задание 11. Заполните пропуски в столбце `days_employed` медианными значениями по каждого типа занятости `income_type`.**"
   ]
  },
  {
   "cell_type": "code",
   "execution_count": 11,
   "id": "61946b83",
   "metadata": {
    "deletable": false,
    "id": "61946b83"
   },
   "outputs": [],
   "source": [
    "for t in data['income_type'].unique():\n",
    "    data.loc[(data['income_type'] == t) & (data['days_employed'].isna()), 'days_employed'] = \\\n",
    "    data.loc[(data['income_type'] == t), 'days_employed'].median()"
   ]
  },
  {
   "cell_type": "markdown",
   "id": "c305f4cd",
   "metadata": {},
   "source": [
    "Проделал такую же процедуру, как в задании 5, однако, теперь заменял пропущенные значения в столбце **days_employed**."
   ]
  },
  {
   "cell_type": "markdown",
   "id": "550dcd9b",
   "metadata": {
    "deletable": false,
    "editable": false,
    "id": "550dcd9b"
   },
   "source": [
    "**Задание 12. Убедитесь, что все пропуски заполнены. Проверьте себя и ещё раз выведите количество пропущенных значений для каждого столбца с помощью двух методов.**"
   ]
  },
  {
   "cell_type": "code",
   "execution_count": 12,
   "id": "937c7014",
   "metadata": {
    "deletable": false,
    "id": "937c7014",
    "outputId": "8da1e4e1-358e-4e87-98c9-f261bce0a7b2"
   },
   "outputs": [
    {
     "data": {
      "text/plain": [
       "children            0\n",
       "days_employed       0\n",
       "dob_years           0\n",
       "education           0\n",
       "education_id        0\n",
       "family_status       0\n",
       "family_status_id    0\n",
       "gender              0\n",
       "income_type         0\n",
       "debt                0\n",
       "total_income        0\n",
       "purpose             0\n",
       "dtype: int64"
      ]
     },
     "execution_count": 12,
     "metadata": {},
     "output_type": "execute_result"
    }
   ],
   "source": [
    "data.isna().sum()"
   ]
  },
  {
   "cell_type": "markdown",
   "id": "b64bdc71",
   "metadata": {},
   "source": [
    "Пропуски были успешно удалены!"
   ]
  },
  {
   "cell_type": "markdown",
   "id": "d522e295",
   "metadata": {
    "deletable": false,
    "editable": false,
    "id": "d522e295"
   },
   "source": [
    "### Изменение типов данных"
   ]
  },
  {
   "cell_type": "markdown",
   "id": "c229c581",
   "metadata": {
    "deletable": false,
    "editable": false,
    "id": "c229c581"
   },
   "source": [
    "**Задание 13. Замените вещественный тип данных в столбце `total_income` на целочисленный с помощью метода `astype()`.**"
   ]
  },
  {
   "cell_type": "code",
   "execution_count": 13,
   "id": "31036462",
   "metadata": {
    "deletable": false,
    "id": "31036462"
   },
   "outputs": [],
   "source": [
    "data['total_income'] = data['total_income'].astype(int)"
   ]
  },
  {
   "cell_type": "markdown",
   "id": "b8e3d1d9",
   "metadata": {
    "deletable": false,
    "editable": false,
    "id": "b8e3d1d9"
   },
   "source": [
    "### Обработка дубликатов"
   ]
  },
  {
   "cell_type": "markdown",
   "id": "9be53c49",
   "metadata": {
    "deletable": false,
    "editable": false,
    "id": "9be53c49"
   },
   "source": [
    "**Задание 14. Обработайте неявные дубликаты в столбце `education`. В этом столбце есть одни и те же значения, но записанные по-разному: с использованием заглавных и строчных букв. Приведите их к нижнему регистру.**"
   ]
  },
  {
   "cell_type": "code",
   "execution_count": 14,
   "id": "d89e73e1",
   "metadata": {
    "deletable": false,
    "id": "d89e73e1"
   },
   "outputs": [],
   "source": [
    "data['education'] = data['education'].str.lower()"
   ]
  },
  {
   "cell_type": "markdown",
   "id": "01d4500e",
   "metadata": {
    "deletable": false,
    "editable": false,
    "id": "01d4500e"
   },
   "source": [
    "**Задание 15. Выведите на экран количество строк-дубликатов в данных. Если такие строки присутствуют, удалите их.**"
   ]
  },
  {
   "cell_type": "code",
   "execution_count": 15,
   "id": "e10efb23",
   "metadata": {
    "deletable": false,
    "id": "e10efb23",
    "outputId": "9684deba-1934-42d1-99e1-cda61740f822"
   },
   "outputs": [
    {
     "data": {
      "text/plain": [
       "71"
      ]
     },
     "execution_count": 15,
     "metadata": {},
     "output_type": "execute_result"
    }
   ],
   "source": [
    "data.duplicated().sum()"
   ]
  },
  {
   "cell_type": "code",
   "execution_count": 16,
   "id": "df853f20",
   "metadata": {
    "deletable": false,
    "id": "df853f20"
   },
   "outputs": [],
   "source": [
    "data = data.drop_duplicates()"
   ]
  },
  {
   "cell_type": "markdown",
   "id": "9b0cda59",
   "metadata": {},
   "source": [
    "Явные дупликаты были удалены с помощью метода **drop_duplicates()**."
   ]
  },
  {
   "cell_type": "markdown",
   "id": "627be38f",
   "metadata": {
    "deletable": false,
    "editable": false,
    "id": "627be38f"
   },
   "source": [
    "### Категоризация данных"
   ]
  },
  {
   "cell_type": "markdown",
   "id": "4684c3e0",
   "metadata": {
    "deletable": false,
    "editable": false,
    "id": "4684c3e0"
   },
   "source": [
    "**Задание 16. На основании диапазонов, указанных ниже, создайте в датафрейме `data` столбец `total_income_category` с категориями:**\n",
    "\n",
    "- 0–30000 — `'E'`;\n",
    "- 30001–50000 — `'D'`;\n",
    "- 50001–200000 — `'C'`;\n",
    "- 200001–1000000 — `'B'`;\n",
    "- 1000001 и выше — `'A'`.\n",
    "\n",
    "\n",
    "**Например, кредитополучателю с доходом 25000 нужно назначить категорию `'E'`, а клиенту, получающему 235000, — `'B'`. Используйте собственную функцию с именем `categorize_income()` и метод `apply()`.**"
   ]
  },
  {
   "cell_type": "code",
   "execution_count": 17,
   "id": "78965238",
   "metadata": {
    "deletable": false,
    "id": "78965238"
   },
   "outputs": [],
   "source": [
    "def categorize_income(income):\n",
    "    try:\n",
    "        if 0 <= income <= 30000:\n",
    "            return 'E'\n",
    "        elif 30001 <= income <= 50000:\n",
    "            return 'D'\n",
    "        elif 50001 <= income <= 200000:\n",
    "            return 'C'\n",
    "        elif 200001 <= income <= 1000000:\n",
    "            return 'B'\n",
    "        elif income >= 1000001:\n",
    "            return 'A'\n",
    "    except:\n",
    "        pass"
   ]
  },
  {
   "cell_type": "code",
   "execution_count": 18,
   "id": "0980ada1",
   "metadata": {
    "deletable": false,
    "id": "0980ada1"
   },
   "outputs": [],
   "source": [
    "data['total_income_category'] = data['total_income'].apply(categorize_income)"
   ]
  },
  {
   "cell_type": "markdown",
   "id": "9917bba0",
   "metadata": {
    "deletable": false,
    "editable": false,
    "id": "9917bba0"
   },
   "source": [
    "**Задание 17. Выведите на экран перечень уникальных целей взятия кредита из столбца `purpose`.**"
   ]
  },
  {
   "cell_type": "code",
   "execution_count": 19,
   "id": "ee07b65e",
   "metadata": {
    "deletable": false,
    "id": "ee07b65e",
    "outputId": "673c12d9-7d7e-4ae0-9812-c622c89dd244"
   },
   "outputs": [
    {
     "data": {
      "text/plain": [
       "array(['покупка жилья', 'приобретение автомобиля',\n",
       "       'дополнительное образование', 'сыграть свадьбу',\n",
       "       'операции с жильем', 'образование', 'на проведение свадьбы',\n",
       "       'покупка жилья для семьи', 'покупка недвижимости',\n",
       "       'покупка коммерческой недвижимости', 'покупка жилой недвижимости',\n",
       "       'строительство собственной недвижимости', 'недвижимость',\n",
       "       'строительство недвижимости', 'на покупку подержанного автомобиля',\n",
       "       'на покупку своего автомобиля',\n",
       "       'операции с коммерческой недвижимостью',\n",
       "       'строительство жилой недвижимости', 'жилье',\n",
       "       'операции со своей недвижимостью', 'автомобили',\n",
       "       'заняться образованием', 'сделка с подержанным автомобилем',\n",
       "       'получение образования', 'автомобиль', 'свадьба',\n",
       "       'получение дополнительного образования', 'покупка своего жилья',\n",
       "       'операции с недвижимостью', 'получение высшего образования',\n",
       "       'свой автомобиль', 'сделка с автомобилем',\n",
       "       'профильное образование', 'высшее образование',\n",
       "       'покупка жилья для сдачи', 'на покупку автомобиля', 'ремонт жилью',\n",
       "       'заняться высшим образованием'], dtype=object)"
      ]
     },
     "execution_count": 19,
     "metadata": {},
     "output_type": "execute_result"
    }
   ],
   "source": [
    "data['purpose'].unique()"
   ]
  },
  {
   "cell_type": "markdown",
   "id": "52b79d56",
   "metadata": {
    "deletable": false,
    "editable": false,
    "id": "52b79d56"
   },
   "source": [
    "**Задание 18. Создайте функцию, которая на основании данных из столбца `purpose` сформирует новый столбец `purpose_category`, в который войдут следующие категории:**\n",
    "\n",
    "- `'операции с автомобилем'`,\n",
    "- `'операции с недвижимостью'`,\n",
    "- `'проведение свадьбы'`,\n",
    "- `'получение образования'`.\n",
    "\n",
    "**Например, если в столбце `purpose` находится подстрока `'на покупку автомобиля'`, то в столбце `purpose_category` должна появиться строка `'операции с автомобилем'`.**\n",
    "\n",
    "**Используйте собственную функцию с именем `categorize_purpose()` и метод `apply()`. Изучите данные в столбце `purpose` и определите, какие подстроки помогут вам правильно определить категорию.**"
   ]
  },
  {
   "cell_type": "code",
   "execution_count": 20,
   "id": "be41da5d",
   "metadata": {
    "deletable": false,
    "id": "be41da5d"
   },
   "outputs": [],
   "source": [
    "def categorize_purpose(row):\n",
    "    try:\n",
    "        if 'автом' in row:\n",
    "            return 'операции с автомобилем'\n",
    "        elif 'жил' in row or 'недвиж' in row:\n",
    "            return 'операции с недвижимостью'\n",
    "        elif 'свад' in row:\n",
    "            return 'проведение свадьбы'\n",
    "        elif 'образов' in row:\n",
    "            return 'получение образования'\n",
    "    except:\n",
    "        return 'нет категории'"
   ]
  },
  {
   "cell_type": "code",
   "execution_count": 21,
   "id": "94c4a19a",
   "metadata": {
    "deletable": false,
    "id": "94c4a19a"
   },
   "outputs": [],
   "source": [
    "data['purpose_category'] = data['purpose'].apply(categorize_purpose)"
   ]
  },
  {
   "cell_type": "markdown",
   "id": "3d596c34",
   "metadata": {
    "deletable": false,
    "editable": false,
    "id": "3d596c34"
   },
   "source": [
    "### Шаг 3. Исследуйте данные и ответьте на вопросы"
   ]
  },
  {
   "cell_type": "markdown",
   "id": "648db036",
   "metadata": {
    "deletable": false,
    "editable": false,
    "id": "648db036"
   },
   "source": [
    "#### 3.1 Есть ли зависимость между количеством детей и возвратом кредита в срок?"
   ]
  },
  {
   "cell_type": "markdown",
   "id": "0e133bc6",
   "metadata": {},
   "source": [
    "<a id=\"children\"></a>\n"
   ]
  },
  {
   "cell_type": "code",
   "execution_count": 22,
   "id": "7fcff25e",
   "metadata": {
    "deletable": false,
    "id": "7fcff25e",
    "scrolled": true
   },
   "outputs": [],
   "source": [
    "addiction_children_debt = data.pivot_table(index='children', values='debt', aggfunc={'debt': 'sum'})\n",
    "addiction_children_debt['count'] = data.groupby('children')['debt'].count()\n",
    "addiction_children_debt['debt_percentage'] = (addiction_children_debt['debt'] / addiction_children_debt['count']) * 100"
   ]
  },
  {
   "cell_type": "markdown",
   "id": "d7fe71b5",
   "metadata": {},
   "source": [
    "Создадим сводную таблицу **addiction_children_debt**, сгруппировав данные по столбцу **children**, также добавим столбец **debt**, по значениям которого будет происходить группировка, но с помощью **aggfunc** возьмём сумму (число задолженностей).\n",
    "\n",
    "Далее в сводной таблице создадим столбец **count**, т.е. общее количество заемщиков по каждой группе.\n",
    "\n",
    "Затем создадим столбец **debt_percentage**, который будет находится как отношение числа задолженностей к общему числу заемщиков, умножим на 100, чтобы посмотреть на процент невозврата."
   ]
  },
  {
   "cell_type": "code",
   "execution_count": 23,
   "id": "ce2f06d3",
   "metadata": {},
   "outputs": [
    {
     "data": {
      "text/html": [
       "<div>\n",
       "<style scoped>\n",
       "    .dataframe tbody tr th:only-of-type {\n",
       "        vertical-align: middle;\n",
       "    }\n",
       "\n",
       "    .dataframe tbody tr th {\n",
       "        vertical-align: top;\n",
       "    }\n",
       "\n",
       "    .dataframe thead th {\n",
       "        text-align: right;\n",
       "    }\n",
       "</style>\n",
       "<table border=\"1\" class=\"dataframe\">\n",
       "  <thead>\n",
       "    <tr style=\"text-align: right;\">\n",
       "      <th></th>\n",
       "      <th>debt</th>\n",
       "      <th>count</th>\n",
       "      <th>debt_percentage</th>\n",
       "    </tr>\n",
       "    <tr>\n",
       "      <th>children</th>\n",
       "      <th></th>\n",
       "      <th></th>\n",
       "      <th></th>\n",
       "    </tr>\n",
       "  </thead>\n",
       "  <tbody>\n",
       "    <tr>\n",
       "      <th>5</th>\n",
       "      <td>0</td>\n",
       "      <td>9</td>\n",
       "      <td>0.000000</td>\n",
       "    </tr>\n",
       "    <tr>\n",
       "      <th>0</th>\n",
       "      <td>1063</td>\n",
       "      <td>14091</td>\n",
       "      <td>7.543822</td>\n",
       "    </tr>\n",
       "    <tr>\n",
       "      <th>3</th>\n",
       "      <td>27</td>\n",
       "      <td>330</td>\n",
       "      <td>8.181818</td>\n",
       "    </tr>\n",
       "    <tr>\n",
       "      <th>1</th>\n",
       "      <td>444</td>\n",
       "      <td>4808</td>\n",
       "      <td>9.234609</td>\n",
       "    </tr>\n",
       "    <tr>\n",
       "      <th>2</th>\n",
       "      <td>194</td>\n",
       "      <td>2052</td>\n",
       "      <td>9.454191</td>\n",
       "    </tr>\n",
       "    <tr>\n",
       "      <th>4</th>\n",
       "      <td>4</td>\n",
       "      <td>41</td>\n",
       "      <td>9.756098</td>\n",
       "    </tr>\n",
       "  </tbody>\n",
       "</table>\n",
       "</div>"
      ],
      "text/plain": [
       "          debt  count  debt_percentage\n",
       "children                              \n",
       "5            0      9         0.000000\n",
       "0         1063  14091         7.543822\n",
       "3           27    330         8.181818\n",
       "1          444   4808         9.234609\n",
       "2          194   2052         9.454191\n",
       "4            4     41         9.756098"
      ]
     },
     "execution_count": 23,
     "metadata": {},
     "output_type": "execute_result"
    }
   ],
   "source": [
    "addiction_children_debt.sort_values(by='debt_percentage', ascending=True)\n",
    "\n"
   ]
  },
  {
   "cell_type": "markdown",
   "id": "2eb9088e",
   "metadata": {
    "deletable": false,
    "id": "2eb9088e"
   },
   "source": [
    "**Промежуточный вывод:** Из полученной таблицы видим, что семьи, в которых 4 и более детей это редкость и судить об их ответственности в выплате кредита довольно сложно. Поэтому стоить отфильтровать таблицу, в которую войдут заёмщики, общее количество которых превышает хотя бы 100 человек.\n",
    "\n",
    "Но до фильтрации мы имеем следующие результаты:\n",
    "\n",
    "**Самые ответственные в выплате кредита:** семьи, в которых 5 детей.\n",
    "\n",
    "**2 место:** семьи, у которых нет детей.\n",
    "\n",
    "**3 место:** семьи, у которых 3 ребенка.\n",
    "\n",
    "**4 место:** семьи, у которых 1 ребенок.\n",
    "\n",
    "**5 место:** семьи, у которых 2 ребенка.\n",
    "\n",
    "**6 место:** семьи, у которых 4 ребенка."
   ]
  },
  {
   "cell_type": "code",
   "execution_count": 24,
   "id": "25208d06",
   "metadata": {},
   "outputs": [
    {
     "data": {
      "text/html": [
       "<div>\n",
       "<style scoped>\n",
       "    .dataframe tbody tr th:only-of-type {\n",
       "        vertical-align: middle;\n",
       "    }\n",
       "\n",
       "    .dataframe tbody tr th {\n",
       "        vertical-align: top;\n",
       "    }\n",
       "\n",
       "    .dataframe thead th {\n",
       "        text-align: right;\n",
       "    }\n",
       "</style>\n",
       "<table border=\"1\" class=\"dataframe\">\n",
       "  <thead>\n",
       "    <tr style=\"text-align: right;\">\n",
       "      <th></th>\n",
       "      <th>debt</th>\n",
       "      <th>count</th>\n",
       "      <th>debt_percentage</th>\n",
       "    </tr>\n",
       "    <tr>\n",
       "      <th>children</th>\n",
       "      <th></th>\n",
       "      <th></th>\n",
       "      <th></th>\n",
       "    </tr>\n",
       "  </thead>\n",
       "  <tbody>\n",
       "    <tr>\n",
       "      <th>0</th>\n",
       "      <td>1063</td>\n",
       "      <td>14091</td>\n",
       "      <td>7.543822</td>\n",
       "    </tr>\n",
       "    <tr>\n",
       "      <th>3</th>\n",
       "      <td>27</td>\n",
       "      <td>330</td>\n",
       "      <td>8.181818</td>\n",
       "    </tr>\n",
       "    <tr>\n",
       "      <th>1</th>\n",
       "      <td>444</td>\n",
       "      <td>4808</td>\n",
       "      <td>9.234609</td>\n",
       "    </tr>\n",
       "    <tr>\n",
       "      <th>2</th>\n",
       "      <td>194</td>\n",
       "      <td>2052</td>\n",
       "      <td>9.454191</td>\n",
       "    </tr>\n",
       "  </tbody>\n",
       "</table>\n",
       "</div>"
      ],
      "text/plain": [
       "          debt  count  debt_percentage\n",
       "children                              \n",
       "0         1063  14091         7.543822\n",
       "3           27    330         8.181818\n",
       "1          444   4808         9.234609\n",
       "2          194   2052         9.454191"
      ]
     },
     "execution_count": 24,
     "metadata": {},
     "output_type": "execute_result"
    }
   ],
   "source": [
    "addiction_children_debt.loc[(addiction_children_debt['count'] > 100)].sort_values(by='debt_percentage', ascending=True)\n"
   ]
  },
  {
   "cell_type": "markdown",
   "id": "5ee00625",
   "metadata": {},
   "source": [
    "**Вывод:** После применения фильтра можно сделать вывод о том, что самые ответственные семьи (**1 место**), у которых нет детей, так как процент невозврата кредита у таких семей наименьший, возможно это связано с тем, что у них нет незапланируемых расходов связанных с детьми. \n",
    "\n",
    "Затем идут семьи (**2 место**), у которых три ребенка, в этом случае появляются незапланируемые расходы связанные с детьми и ответственности у таких семей намного больше, поэтому шанс просрочить выплату увеличивается, но также стоит учитывать количество таких семей.\n",
    "\n",
    "Инересно, что семьи с одним ребенком заняли **3 место**, возможно, семьи берут единоразовый кредит и не сильно волнуются по поводу просроченных выплат.\n",
    "\n",
    "**4 место** заняли семьи с двумя детьми, в этом случае имеет место предположение о внезапных расходах на детей и единоразовых кредитах. "
   ]
  },
  {
   "cell_type": "markdown",
   "id": "74c9b3a7",
   "metadata": {
    "deletable": false,
    "editable": false,
    "id": "74c9b3a7"
   },
   "source": [
    "#### 3.2 Есть ли зависимость между семейным положением и возвратом кредита в срок?"
   ]
  },
  {
   "cell_type": "markdown",
   "id": "612a635e",
   "metadata": {},
   "source": [
    "<a id=\"family_status\"></a>"
   ]
  },
  {
   "cell_type": "code",
   "execution_count": 25,
   "id": "8098ab3b",
   "metadata": {
    "deletable": false,
    "id": "8098ab3b"
   },
   "outputs": [],
   "source": [
    "addiction_familystatus_debt = data.pivot_table(index='family_status', values='debt', aggfunc={'debt': 'sum'})\n",
    "addiction_familystatus_debt['count'] = data.groupby('family_status')['debt'].count()\n",
    "addiction_familystatus_debt['debt_percentage'] = (addiction_familystatus_debt['debt'] / addiction_familystatus_debt['count']) * 100\n"
   ]
  },
  {
   "cell_type": "markdown",
   "id": "ac562ec0",
   "metadata": {},
   "source": [
    "Создадим сводную таблицу **addiction_familystatus_debt**, сгруппировав данные по столбцу **family_status**, также добавим столбец debt, по значениям которого будет происходить группировка, но с помощью aggfunc возьмём сумму (число задолженностей).\n",
    "\n",
    "Далее в сводной таблице создадим столбец **count**, т.е. общее количество заемщиков по каждой группе семейного положения.\n",
    "\n",
    "Затем создадим столбец debt_percentage, который будет находится как отношение числа задолженностей к общему числу заемщиков по каждой группе семейного положения, умножим на 100, чтобы посмотреть на процент невозврата."
   ]
  },
  {
   "cell_type": "code",
   "execution_count": 26,
   "id": "4fa66ae2",
   "metadata": {},
   "outputs": [
    {
     "data": {
      "text/html": [
       "<div>\n",
       "<style scoped>\n",
       "    .dataframe tbody tr th:only-of-type {\n",
       "        vertical-align: middle;\n",
       "    }\n",
       "\n",
       "    .dataframe tbody tr th {\n",
       "        vertical-align: top;\n",
       "    }\n",
       "\n",
       "    .dataframe thead th {\n",
       "        text-align: right;\n",
       "    }\n",
       "</style>\n",
       "<table border=\"1\" class=\"dataframe\">\n",
       "  <thead>\n",
       "    <tr style=\"text-align: right;\">\n",
       "      <th></th>\n",
       "      <th>debt</th>\n",
       "      <th>count</th>\n",
       "      <th>debt_percentage</th>\n",
       "    </tr>\n",
       "    <tr>\n",
       "      <th>family_status</th>\n",
       "      <th></th>\n",
       "      <th></th>\n",
       "      <th></th>\n",
       "    </tr>\n",
       "  </thead>\n",
       "  <tbody>\n",
       "    <tr>\n",
       "      <th>вдовец / вдова</th>\n",
       "      <td>63</td>\n",
       "      <td>951</td>\n",
       "      <td>6.624606</td>\n",
       "    </tr>\n",
       "    <tr>\n",
       "      <th>в разводе</th>\n",
       "      <td>84</td>\n",
       "      <td>1189</td>\n",
       "      <td>7.064760</td>\n",
       "    </tr>\n",
       "    <tr>\n",
       "      <th>женат / замужем</th>\n",
       "      <td>927</td>\n",
       "      <td>12261</td>\n",
       "      <td>7.560558</td>\n",
       "    </tr>\n",
       "    <tr>\n",
       "      <th>гражданский брак</th>\n",
       "      <td>385</td>\n",
       "      <td>4134</td>\n",
       "      <td>9.313014</td>\n",
       "    </tr>\n",
       "    <tr>\n",
       "      <th>Не женат / не замужем</th>\n",
       "      <td>273</td>\n",
       "      <td>2796</td>\n",
       "      <td>9.763948</td>\n",
       "    </tr>\n",
       "  </tbody>\n",
       "</table>\n",
       "</div>"
      ],
      "text/plain": [
       "                       debt  count  debt_percentage\n",
       "family_status                                      \n",
       "вдовец / вдова           63    951         6.624606\n",
       "в разводе                84   1189         7.064760\n",
       "женат / замужем         927  12261         7.560558\n",
       "гражданский брак        385   4134         9.313014\n",
       "Не женат / не замужем   273   2796         9.763948"
      ]
     },
     "execution_count": 26,
     "metadata": {},
     "output_type": "execute_result"
    }
   ],
   "source": [
    "addiction_familystatus_debt.sort_values(by='debt_percentage', ascending=True)"
   ]
  },
  {
   "cell_type": "markdown",
   "id": "c389ca63",
   "metadata": {
    "deletable": false,
    "id": "c389ca63"
   },
   "source": [
    "**Вывод:** В этом случае данные выглядят более релевантно, чем в предыдущем случае. Из данной таблицы можно сделать следующие выводы:\n",
    "\n",
    "Во-первых, существует зависимость между семейным статусом и вовремя возвращенным кредитом. \n",
    "\n",
    "Люди с семейным положением **\"вдовец/вдова\"** походят более ответственно к выплате кредита (**1 место**).\n",
    "\n",
    "Граждане, у которых семейное положение **\"в разводе\"** находятся на **2 месте**.\n",
    "\n",
    "Затем идут люди с семейным положением **\"женат/замужем\"**, они заняли **3 место**.\n",
    "\n",
    "На **4 месте** находятся люди, у кторых семейное положение **\"гражданский брак\"**.\n",
    "\n",
    "На **5 месте** расположилась категория людей, у которых семейное положение **\"не женат/ не замужем\"\"**."
   ]
  },
  {
   "cell_type": "markdown",
   "id": "9529de68",
   "metadata": {
    "deletable": false,
    "editable": false,
    "id": "9529de68"
   },
   "source": [
    "#### 3.3 Есть ли зависимость между уровнем дохода и возвратом кредита в срок?"
   ]
  },
  {
   "cell_type": "markdown",
   "id": "f4032c12",
   "metadata": {},
   "source": [
    "<a id=\"total_income\"></a>"
   ]
  },
  {
   "cell_type": "code",
   "execution_count": 27,
   "id": "8787f44a",
   "metadata": {
    "deletable": false,
    "id": "8787f44a"
   },
   "outputs": [],
   "source": [
    "addiction_income_debt = data.pivot_table(index=['total_income_category'], values='debt', aggfunc={'debt': 'sum'})\n",
    "addiction_income_debt['count'] = data.groupby('total_income_category')['debt'].count()\n",
    "addiction_income_debt['debt_percentage'] = (addiction_income_debt['debt'] / addiction_income_debt['count']) * 100\n"
   ]
  },
  {
   "cell_type": "markdown",
   "id": "0cb4448e",
   "metadata": {},
   "source": [
    "Создадим сводную таблицу **addiction_income_debt**, сгруппировав данные по столбцу **total_income_category**, также добавим столбец debt, по значениям которого будет происходить группировка, но с помощью aggfunc возьмём сумму (число задолженностей).\n",
    "\n",
    "Далее в сводной таблице создадим столбец **count**, т.е. общее количество заемщиков по каждой группе дохода.\n",
    "\n",
    "Затем создадим столбец **debt_percentage**, который будет находится как отношение числа задолженностей к общему числу заемщиков по каждой группе дохода, умножим на 100, чтобы посмотреть на процент невозврата.\n",
    "\n",
    "Также стоит отметить диапазоны, по которым я группировал доходы людей:\n",
    "\n",
    "- 0–30000 — 'E';\n",
    "\n",
    "- 30001–50000 — 'D';\n",
    "\n",
    "- 50001–200000 — 'C';\n",
    "\n",
    "- 200001–1000000 — 'B';\n",
    "\n",
    "- 1000001 и выше — 'A'."
   ]
  },
  {
   "cell_type": "code",
   "execution_count": 28,
   "id": "d2fe8541",
   "metadata": {},
   "outputs": [
    {
     "data": {
      "text/html": [
       "<div>\n",
       "<style scoped>\n",
       "    .dataframe tbody tr th:only-of-type {\n",
       "        vertical-align: middle;\n",
       "    }\n",
       "\n",
       "    .dataframe tbody tr th {\n",
       "        vertical-align: top;\n",
       "    }\n",
       "\n",
       "    .dataframe thead th {\n",
       "        text-align: right;\n",
       "    }\n",
       "</style>\n",
       "<table border=\"1\" class=\"dataframe\">\n",
       "  <thead>\n",
       "    <tr style=\"text-align: right;\">\n",
       "      <th></th>\n",
       "      <th>debt</th>\n",
       "      <th>count</th>\n",
       "      <th>debt_percentage</th>\n",
       "    </tr>\n",
       "    <tr>\n",
       "      <th>total_income_category</th>\n",
       "      <th></th>\n",
       "      <th></th>\n",
       "      <th></th>\n",
       "    </tr>\n",
       "  </thead>\n",
       "  <tbody>\n",
       "    <tr>\n",
       "      <th>D</th>\n",
       "      <td>21</td>\n",
       "      <td>349</td>\n",
       "      <td>6.017192</td>\n",
       "    </tr>\n",
       "    <tr>\n",
       "      <th>B</th>\n",
       "      <td>354</td>\n",
       "      <td>5014</td>\n",
       "      <td>7.060231</td>\n",
       "    </tr>\n",
       "    <tr>\n",
       "      <th>A</th>\n",
       "      <td>2</td>\n",
       "      <td>25</td>\n",
       "      <td>8.000000</td>\n",
       "    </tr>\n",
       "    <tr>\n",
       "      <th>C</th>\n",
       "      <td>1353</td>\n",
       "      <td>15921</td>\n",
       "      <td>8.498210</td>\n",
       "    </tr>\n",
       "    <tr>\n",
       "      <th>E</th>\n",
       "      <td>2</td>\n",
       "      <td>22</td>\n",
       "      <td>9.090909</td>\n",
       "    </tr>\n",
       "  </tbody>\n",
       "</table>\n",
       "</div>"
      ],
      "text/plain": [
       "                       debt  count  debt_percentage\n",
       "total_income_category                              \n",
       "D                        21    349         6.017192\n",
       "B                       354   5014         7.060231\n",
       "A                         2     25         8.000000\n",
       "C                      1353  15921         8.498210\n",
       "E                         2     22         9.090909"
      ]
     },
     "execution_count": 28,
     "metadata": {},
     "output_type": "execute_result"
    }
   ],
   "source": [
    "addiction_income_debt.sort_values(by='debt_percentage', ascending=True)"
   ]
  },
  {
   "cell_type": "markdown",
   "id": "6dd14b57",
   "metadata": {
    "deletable": false,
    "id": "6dd14b57"
   },
   "source": [
    "**Промежуточный вывод:** В данном случае видим две категории, в которых присутствует менее 100 человек, а именно люди с доходами до 30 000 и люди с доходами более 1 000 001. На сегодняшний день таких людей действительного не очень много, поэтому можно отфильтровать таблицу.\n",
    "\n",
    "Однако до фильтрации можно следать следующией выводы:\n",
    "\n",
    "Самые ответственные люди с категорией доходов **D** (от 30 001 до 50 000) занимают **1 место**, так как имеют самый низкий процент невозврата кредита.\n",
    "\n",
    "**2 место** место занимают люди с категорией доходов **B** (от 200 001 до 1 000 000).\n",
    "\n",
    "Далее идут люди с категорией доходов **A** (от 1 000 001), которые заняли **3 место**.\n",
    "\n",
    "На **4 месте** расположились люди с категорией доходов **C** (от 50 001 до 200 000).\n",
    "\n",
    "**5 место** занимают люди, у которых категория доходов **E** (от 0 до 30 000)."
   ]
  },
  {
   "cell_type": "code",
   "execution_count": 29,
   "id": "0f7ee80d",
   "metadata": {},
   "outputs": [
    {
     "data": {
      "text/html": [
       "<div>\n",
       "<style scoped>\n",
       "    .dataframe tbody tr th:only-of-type {\n",
       "        vertical-align: middle;\n",
       "    }\n",
       "\n",
       "    .dataframe tbody tr th {\n",
       "        vertical-align: top;\n",
       "    }\n",
       "\n",
       "    .dataframe thead th {\n",
       "        text-align: right;\n",
       "    }\n",
       "</style>\n",
       "<table border=\"1\" class=\"dataframe\">\n",
       "  <thead>\n",
       "    <tr style=\"text-align: right;\">\n",
       "      <th></th>\n",
       "      <th>debt</th>\n",
       "      <th>count</th>\n",
       "      <th>debt_percentage</th>\n",
       "    </tr>\n",
       "    <tr>\n",
       "      <th>total_income_category</th>\n",
       "      <th></th>\n",
       "      <th></th>\n",
       "      <th></th>\n",
       "    </tr>\n",
       "  </thead>\n",
       "  <tbody>\n",
       "    <tr>\n",
       "      <th>D</th>\n",
       "      <td>21</td>\n",
       "      <td>349</td>\n",
       "      <td>6.017192</td>\n",
       "    </tr>\n",
       "    <tr>\n",
       "      <th>B</th>\n",
       "      <td>354</td>\n",
       "      <td>5014</td>\n",
       "      <td>7.060231</td>\n",
       "    </tr>\n",
       "    <tr>\n",
       "      <th>C</th>\n",
       "      <td>1353</td>\n",
       "      <td>15921</td>\n",
       "      <td>8.498210</td>\n",
       "    </tr>\n",
       "  </tbody>\n",
       "</table>\n",
       "</div>"
      ],
      "text/plain": [
       "                       debt  count  debt_percentage\n",
       "total_income_category                              \n",
       "D                        21    349         6.017192\n",
       "B                       354   5014         7.060231\n",
       "C                      1353  15921         8.498210"
      ]
     },
     "execution_count": 29,
     "metadata": {},
     "output_type": "execute_result"
    }
   ],
   "source": [
    "addiction_income_debt.loc[(addiction_income_debt['count'] > 100)].sort_values(by='count')"
   ]
  },
  {
   "cell_type": "markdown",
   "id": "d9db3e71",
   "metadata": {},
   "source": [
    "**Вывод:** Из полученной таблицы можем сделать вывод о том, что существует зависимость между уровнем дохода и возвратом кредита в срок, так как чем выше доход людей, тем больший процент должников.\n",
    "\n",
    "Самые ответственные - это люди, которые имеют категорию доходов **D** (от 30 001 до 50 000), они занимают **1 место**.\n",
    "\n",
    "На **2 месте** расположились люди, которые имеют категорию доходов **B** (от 200 001 до 1 000 000).\n",
    "\n",
    "На **3 месте** находятся люди с категорией доходов **C** (от 50 001 до 200 000), также стоит отметить, что число людей, которые входят в данную категорию, наибольшее."
   ]
  },
  {
   "cell_type": "markdown",
   "id": "1dcc9b12",
   "metadata": {
    "deletable": false,
    "editable": false,
    "id": "1dcc9b12"
   },
   "source": [
    "#### 3.4 Как разные цели кредита влияют на его возврат в срок?"
   ]
  },
  {
   "cell_type": "markdown",
   "id": "10fb0dd3",
   "metadata": {},
   "source": [
    "<a id=\"purpose\"></a>"
   ]
  },
  {
   "cell_type": "code",
   "execution_count": 30,
   "id": "c602bc8b",
   "metadata": {
    "deletable": false,
    "id": "c602bc8b"
   },
   "outputs": [],
   "source": [
    "addiction_purpose_debt = data.pivot_table(index=['purpose_category'], values='debt', aggfunc={'debt': 'sum'})\n",
    "addiction_purpose_debt['count'] = data.groupby('purpose_category')['debt'].count()\n",
    "addiction_purpose_debt['debt_percentage'] = (addiction_purpose_debt['debt'] / addiction_purpose_debt['count']) * 100\n"
   ]
  },
  {
   "cell_type": "markdown",
   "id": "182d795d",
   "metadata": {},
   "source": [
    "Создадим сводную таблицу **addiction_purpose_debt**, сгруппировав данные по столбцу **purpose_category**, также добавим столбец **debt**, по значениям которого будет происходить группировка, но с помощью aggfunc возьмём сумму (число задолженностей).\n",
    "\n",
    "Далее в сводной таблице создадим столбец **count**, т.е. общее количество заемщиков по каждой группе целей кредита.\n",
    "\n",
    "Затем создадим столбец **debt_percentage**, который будет находится как отношение числа задолженностей к общему числу заемщиков по каждой группе целей кредита, умножим на 100, чтобы посмотреть на процент невозврата.\n",
    "\n",
    "Также стоит отметить диапазоны, по которым я группировал цели кредита:\n",
    "- `'операции с автомобилем'`,\n",
    "- `'операции с недвижимостью'`,\n",
    "- `'проведение свадьбы'`,\n",
    "- `'получение образования'`."
   ]
  },
  {
   "cell_type": "code",
   "execution_count": 31,
   "id": "1c2c0af7",
   "metadata": {},
   "outputs": [
    {
     "data": {
      "text/html": [
       "<div>\n",
       "<style scoped>\n",
       "    .dataframe tbody tr th:only-of-type {\n",
       "        vertical-align: middle;\n",
       "    }\n",
       "\n",
       "    .dataframe tbody tr th {\n",
       "        vertical-align: top;\n",
       "    }\n",
       "\n",
       "    .dataframe thead th {\n",
       "        text-align: right;\n",
       "    }\n",
       "</style>\n",
       "<table border=\"1\" class=\"dataframe\">\n",
       "  <thead>\n",
       "    <tr style=\"text-align: right;\">\n",
       "      <th></th>\n",
       "      <th>debt</th>\n",
       "      <th>count</th>\n",
       "      <th>debt_percentage</th>\n",
       "    </tr>\n",
       "    <tr>\n",
       "      <th>purpose_category</th>\n",
       "      <th></th>\n",
       "      <th></th>\n",
       "      <th></th>\n",
       "    </tr>\n",
       "  </thead>\n",
       "  <tbody>\n",
       "    <tr>\n",
       "      <th>операции с недвижимостью</th>\n",
       "      <td>780</td>\n",
       "      <td>10751</td>\n",
       "      <td>7.255139</td>\n",
       "    </tr>\n",
       "    <tr>\n",
       "      <th>проведение свадьбы</th>\n",
       "      <td>183</td>\n",
       "      <td>2313</td>\n",
       "      <td>7.911803</td>\n",
       "    </tr>\n",
       "    <tr>\n",
       "      <th>получение образования</th>\n",
       "      <td>369</td>\n",
       "      <td>3988</td>\n",
       "      <td>9.252758</td>\n",
       "    </tr>\n",
       "    <tr>\n",
       "      <th>операции с автомобилем</th>\n",
       "      <td>400</td>\n",
       "      <td>4279</td>\n",
       "      <td>9.347978</td>\n",
       "    </tr>\n",
       "  </tbody>\n",
       "</table>\n",
       "</div>"
      ],
      "text/plain": [
       "                          debt  count  debt_percentage\n",
       "purpose_category                                      \n",
       "операции с недвижимостью   780  10751         7.255139\n",
       "проведение свадьбы         183   2313         7.911803\n",
       "получение образования      369   3988         9.252758\n",
       "операции с автомобилем     400   4279         9.347978"
      ]
     },
     "execution_count": 31,
     "metadata": {},
     "output_type": "execute_result"
    }
   ],
   "source": [
    "addiction_purpose_debt.sort_values(by='debt_percentage')"
   ]
  },
  {
   "cell_type": "markdown",
   "id": "cf05ed63",
   "metadata": {
    "deletable": false,
    "id": "cf05ed63"
   },
   "source": [
    "**Вывод:** Полученная таблица содержит в себе релевантные данные.\n",
    "\n",
    "Самые ответственные заёмщики - это люди, которые берут кредит на операции с недвижимостью, они занимают **1 место**.\n",
    "\n",
    "На **2 месте** расположились люди, которые берут кредит на свадьбу.\n",
    "\n",
    "Затем идут люди, которые берут ссуду для получения образования, они занимают **3 место**.\n",
    "\n",
    "На **4 месте** расположились люди, которые берут кредит связанный с автомобилем.\n"
   ]
  },
  {
   "cell_type": "markdown",
   "id": "af3d3a6c",
   "metadata": {},
   "source": [
    " **P.S. Другой способ формирования таблиц**"
   ]
  },
  {
   "cell_type": "markdown",
   "id": "a9372cf9",
   "metadata": {},
   "source": [
    "В ходе выполнения данного проекта, а именно при исследовании зависимости между определенной группой и возвратом кредитом в срок, была выявлена некоторая закономерность при создании каждой сводной таблицы. В этом локальном случае можно было воспользоваться функцией **new_pivot_table**, которая помогла бы избавиться от повторяющихся строк кода."
   ]
  },
  {
   "cell_type": "code",
   "execution_count": 32,
   "id": "07b76822",
   "metadata": {},
   "outputs": [],
   "source": [
    "def new_pivot_table(main_table, main_param):\n",
    "    table = main_table.pivot_table(index=[main_param], values='debt', aggfunc={'debt': 'sum'})\n",
    "    table['count'] = main_table.groupby(main_param)['debt'].count()\n",
    "    table['debt_percentage'] = (table['debt'] / table['count']) * 100\n",
    "    return table.sort_values(by='debt_percentage')"
   ]
  },
  {
   "cell_type": "markdown",
   "id": "b5cf84a4",
   "metadata": {},
   "source": [
    "**1) Зависимость между количеством детей и возвратом кредита в срок.**"
   ]
  },
  {
   "cell_type": "code",
   "execution_count": 33,
   "id": "854b123d",
   "metadata": {},
   "outputs": [
    {
     "data": {
      "text/html": [
       "<div>\n",
       "<style scoped>\n",
       "    .dataframe tbody tr th:only-of-type {\n",
       "        vertical-align: middle;\n",
       "    }\n",
       "\n",
       "    .dataframe tbody tr th {\n",
       "        vertical-align: top;\n",
       "    }\n",
       "\n",
       "    .dataframe thead th {\n",
       "        text-align: right;\n",
       "    }\n",
       "</style>\n",
       "<table border=\"1\" class=\"dataframe\">\n",
       "  <thead>\n",
       "    <tr style=\"text-align: right;\">\n",
       "      <th></th>\n",
       "      <th>debt</th>\n",
       "      <th>count</th>\n",
       "      <th>debt_percentage</th>\n",
       "    </tr>\n",
       "    <tr>\n",
       "      <th>children</th>\n",
       "      <th></th>\n",
       "      <th></th>\n",
       "      <th></th>\n",
       "    </tr>\n",
       "  </thead>\n",
       "  <tbody>\n",
       "    <tr>\n",
       "      <th>5</th>\n",
       "      <td>0</td>\n",
       "      <td>9</td>\n",
       "      <td>0.000000</td>\n",
       "    </tr>\n",
       "    <tr>\n",
       "      <th>0</th>\n",
       "      <td>1063</td>\n",
       "      <td>14091</td>\n",
       "      <td>7.543822</td>\n",
       "    </tr>\n",
       "    <tr>\n",
       "      <th>3</th>\n",
       "      <td>27</td>\n",
       "      <td>330</td>\n",
       "      <td>8.181818</td>\n",
       "    </tr>\n",
       "    <tr>\n",
       "      <th>1</th>\n",
       "      <td>444</td>\n",
       "      <td>4808</td>\n",
       "      <td>9.234609</td>\n",
       "    </tr>\n",
       "    <tr>\n",
       "      <th>2</th>\n",
       "      <td>194</td>\n",
       "      <td>2052</td>\n",
       "      <td>9.454191</td>\n",
       "    </tr>\n",
       "    <tr>\n",
       "      <th>4</th>\n",
       "      <td>4</td>\n",
       "      <td>41</td>\n",
       "      <td>9.756098</td>\n",
       "    </tr>\n",
       "  </tbody>\n",
       "</table>\n",
       "</div>"
      ],
      "text/plain": [
       "          debt  count  debt_percentage\n",
       "children                              \n",
       "5            0      9         0.000000\n",
       "0         1063  14091         7.543822\n",
       "3           27    330         8.181818\n",
       "1          444   4808         9.234609\n",
       "2          194   2052         9.454191\n",
       "4            4     41         9.756098"
      ]
     },
     "execution_count": 33,
     "metadata": {},
     "output_type": "execute_result"
    }
   ],
   "source": [
    "addiction_children_debt2 = new_pivot_table(data, data['children'])\n",
    "addiction_children_debt2.sort_values(by='debt_percentage')"
   ]
  },
  {
   "cell_type": "markdown",
   "id": "240e35c4",
   "metadata": {},
   "source": [
    "**2) Зависимость между семейным положением и возвратом кредита в срок?**"
   ]
  },
  {
   "cell_type": "code",
   "execution_count": 34,
   "id": "13eaf3c3",
   "metadata": {},
   "outputs": [
    {
     "data": {
      "text/html": [
       "<div>\n",
       "<style scoped>\n",
       "    .dataframe tbody tr th:only-of-type {\n",
       "        vertical-align: middle;\n",
       "    }\n",
       "\n",
       "    .dataframe tbody tr th {\n",
       "        vertical-align: top;\n",
       "    }\n",
       "\n",
       "    .dataframe thead th {\n",
       "        text-align: right;\n",
       "    }\n",
       "</style>\n",
       "<table border=\"1\" class=\"dataframe\">\n",
       "  <thead>\n",
       "    <tr style=\"text-align: right;\">\n",
       "      <th></th>\n",
       "      <th>debt</th>\n",
       "      <th>count</th>\n",
       "      <th>debt_percentage</th>\n",
       "    </tr>\n",
       "    <tr>\n",
       "      <th>family_status</th>\n",
       "      <th></th>\n",
       "      <th></th>\n",
       "      <th></th>\n",
       "    </tr>\n",
       "  </thead>\n",
       "  <tbody>\n",
       "    <tr>\n",
       "      <th>вдовец / вдова</th>\n",
       "      <td>63</td>\n",
       "      <td>951</td>\n",
       "      <td>6.624606</td>\n",
       "    </tr>\n",
       "    <tr>\n",
       "      <th>в разводе</th>\n",
       "      <td>84</td>\n",
       "      <td>1189</td>\n",
       "      <td>7.064760</td>\n",
       "    </tr>\n",
       "    <tr>\n",
       "      <th>женат / замужем</th>\n",
       "      <td>927</td>\n",
       "      <td>12261</td>\n",
       "      <td>7.560558</td>\n",
       "    </tr>\n",
       "    <tr>\n",
       "      <th>гражданский брак</th>\n",
       "      <td>385</td>\n",
       "      <td>4134</td>\n",
       "      <td>9.313014</td>\n",
       "    </tr>\n",
       "    <tr>\n",
       "      <th>Не женат / не замужем</th>\n",
       "      <td>273</td>\n",
       "      <td>2796</td>\n",
       "      <td>9.763948</td>\n",
       "    </tr>\n",
       "  </tbody>\n",
       "</table>\n",
       "</div>"
      ],
      "text/plain": [
       "                       debt  count  debt_percentage\n",
       "family_status                                      \n",
       "вдовец / вдова           63    951         6.624606\n",
       "в разводе                84   1189         7.064760\n",
       "женат / замужем         927  12261         7.560558\n",
       "гражданский брак        385   4134         9.313014\n",
       "Не женат / не замужем   273   2796         9.763948"
      ]
     },
     "execution_count": 34,
     "metadata": {},
     "output_type": "execute_result"
    }
   ],
   "source": [
    "addiction_familystatus_debt2 = new_pivot_table(data, data['family_status'])\n",
    "addiction_familystatus_debt2"
   ]
  },
  {
   "cell_type": "markdown",
   "id": "f1888960",
   "metadata": {},
   "source": [
    "**3) Зависимость между уровнем дохода и возвратом кредита в срок.**"
   ]
  },
  {
   "cell_type": "code",
   "execution_count": 35,
   "id": "9518cfd2",
   "metadata": {},
   "outputs": [
    {
     "data": {
      "text/html": [
       "<div>\n",
       "<style scoped>\n",
       "    .dataframe tbody tr th:only-of-type {\n",
       "        vertical-align: middle;\n",
       "    }\n",
       "\n",
       "    .dataframe tbody tr th {\n",
       "        vertical-align: top;\n",
       "    }\n",
       "\n",
       "    .dataframe thead th {\n",
       "        text-align: right;\n",
       "    }\n",
       "</style>\n",
       "<table border=\"1\" class=\"dataframe\">\n",
       "  <thead>\n",
       "    <tr style=\"text-align: right;\">\n",
       "      <th></th>\n",
       "      <th>debt</th>\n",
       "      <th>count</th>\n",
       "      <th>debt_percentage</th>\n",
       "    </tr>\n",
       "    <tr>\n",
       "      <th>total_income_category</th>\n",
       "      <th></th>\n",
       "      <th></th>\n",
       "      <th></th>\n",
       "    </tr>\n",
       "  </thead>\n",
       "  <tbody>\n",
       "    <tr>\n",
       "      <th>D</th>\n",
       "      <td>21</td>\n",
       "      <td>349</td>\n",
       "      <td>6.017192</td>\n",
       "    </tr>\n",
       "    <tr>\n",
       "      <th>B</th>\n",
       "      <td>354</td>\n",
       "      <td>5014</td>\n",
       "      <td>7.060231</td>\n",
       "    </tr>\n",
       "    <tr>\n",
       "      <th>A</th>\n",
       "      <td>2</td>\n",
       "      <td>25</td>\n",
       "      <td>8.000000</td>\n",
       "    </tr>\n",
       "    <tr>\n",
       "      <th>C</th>\n",
       "      <td>1353</td>\n",
       "      <td>15921</td>\n",
       "      <td>8.498210</td>\n",
       "    </tr>\n",
       "    <tr>\n",
       "      <th>E</th>\n",
       "      <td>2</td>\n",
       "      <td>22</td>\n",
       "      <td>9.090909</td>\n",
       "    </tr>\n",
       "  </tbody>\n",
       "</table>\n",
       "</div>"
      ],
      "text/plain": [
       "                       debt  count  debt_percentage\n",
       "total_income_category                              \n",
       "D                        21    349         6.017192\n",
       "B                       354   5014         7.060231\n",
       "A                         2     25         8.000000\n",
       "C                      1353  15921         8.498210\n",
       "E                         2     22         9.090909"
      ]
     },
     "execution_count": 35,
     "metadata": {},
     "output_type": "execute_result"
    }
   ],
   "source": [
    "addiction_income_debt2 = new_pivot_table(data, data['total_income_category'])\n",
    "addiction_income_debt2"
   ]
  },
  {
   "cell_type": "markdown",
   "id": "f04c7162",
   "metadata": {},
   "source": [
    "**4) Разные цели кредита влияют на его возврат в срок.**"
   ]
  },
  {
   "cell_type": "code",
   "execution_count": 36,
   "id": "bcff0dca",
   "metadata": {},
   "outputs": [
    {
     "data": {
      "text/html": [
       "<div>\n",
       "<style scoped>\n",
       "    .dataframe tbody tr th:only-of-type {\n",
       "        vertical-align: middle;\n",
       "    }\n",
       "\n",
       "    .dataframe tbody tr th {\n",
       "        vertical-align: top;\n",
       "    }\n",
       "\n",
       "    .dataframe thead th {\n",
       "        text-align: right;\n",
       "    }\n",
       "</style>\n",
       "<table border=\"1\" class=\"dataframe\">\n",
       "  <thead>\n",
       "    <tr style=\"text-align: right;\">\n",
       "      <th></th>\n",
       "      <th>debt</th>\n",
       "      <th>count</th>\n",
       "      <th>debt_percentage</th>\n",
       "    </tr>\n",
       "    <tr>\n",
       "      <th>purpose_category</th>\n",
       "      <th></th>\n",
       "      <th></th>\n",
       "      <th></th>\n",
       "    </tr>\n",
       "  </thead>\n",
       "  <tbody>\n",
       "    <tr>\n",
       "      <th>операции с недвижимостью</th>\n",
       "      <td>780</td>\n",
       "      <td>10751</td>\n",
       "      <td>7.255139</td>\n",
       "    </tr>\n",
       "    <tr>\n",
       "      <th>проведение свадьбы</th>\n",
       "      <td>183</td>\n",
       "      <td>2313</td>\n",
       "      <td>7.911803</td>\n",
       "    </tr>\n",
       "    <tr>\n",
       "      <th>получение образования</th>\n",
       "      <td>369</td>\n",
       "      <td>3988</td>\n",
       "      <td>9.252758</td>\n",
       "    </tr>\n",
       "    <tr>\n",
       "      <th>операции с автомобилем</th>\n",
       "      <td>400</td>\n",
       "      <td>4279</td>\n",
       "      <td>9.347978</td>\n",
       "    </tr>\n",
       "  </tbody>\n",
       "</table>\n",
       "</div>"
      ],
      "text/plain": [
       "                          debt  count  debt_percentage\n",
       "purpose_category                                      \n",
       "операции с недвижимостью   780  10751         7.255139\n",
       "проведение свадьбы         183   2313         7.911803\n",
       "получение образования      369   3988         9.252758\n",
       "операции с автомобилем     400   4279         9.347978"
      ]
     },
     "execution_count": 36,
     "metadata": {},
     "output_type": "execute_result"
    }
   ],
   "source": [
    "addiction_purpose_debt2 = new_pivot_table(data, data['purpose_category'])\n",
    "addiction_purpose_debt2"
   ]
  },
  {
   "cell_type": "markdown",
   "id": "46c1f10b",
   "metadata": {
    "deletable": false,
    "editable": false,
    "id": "46c1f10b"
   },
   "source": [
    "#### 3.5 Приведите возможные причины появления пропусков в исходных данных."
   ]
  },
  {
   "cell_type": "markdown",
   "id": "3697d2a9",
   "metadata": {
    "deletable": false,
    "id": "3697d2a9"
   },
   "source": [
    "*Ответ:* Если говорить о причинах пропусков данных, то иногда случаются технические ошибки в БД или изначально не было договоренностей о единых методах сбора данных. Ошибки при вводе данных могут привести к пропускам, особенно если данные собираются вручную. Если данные имеют разные форматы, это может привести к невозможности прочтения или интерпретации определенных значений. Иногда данные могут быть намеренно удалены или скрыты по различным причинам, таким как конфиденциальность или цензура."
   ]
  },
  {
   "cell_type": "markdown",
   "id": "3137d257",
   "metadata": {
    "deletable": false,
    "editable": false,
    "id": "3137d257"
   },
   "source": [
    "#### 3.6 Объясните, почему заполнить пропуски медианным значением — лучшее решение для количественных переменных."
   ]
  },
  {
   "cell_type": "markdown",
   "id": "cf40012a",
   "metadata": {
    "deletable": false,
    "id": "cf40012a"
   },
   "source": [
    "*Ответ:* Заполнение пропусков медианным значением является хорошим решением для количественных переменных, потому что медиана даёт возможность абстрагироваться от выбросов и анамальных значений, тем самым сохраняя структуру данных. Также стоит отметить, что  не искажает целостность распределения, так как в большом наборе данных приблизительно равняется среднему. Ещё одним преимуществом медианы является простота интерпретации результатов. Однако, стоит понимать, что не во всех случаях медиана является лучшим решением, всё зависит от контекста и особенностей данных."
   ]
  },
  {
   "cell_type": "markdown",
   "id": "57bc304e",
   "metadata": {
    "deletable": false,
    "editable": false,
    "id": "57bc304e"
   },
   "source": [
    "### Шаг 4: общий вывод."
   ]
  },
  {
   "cell_type": "markdown",
   "id": "1ab75d1c",
   "metadata": {
    "deletable": false,
    "id": "1ab75d1c"
   },
   "source": [
    "Исследование, проведенное на основе предоставленных данных о заемщиках, позволило выявить несколько важных зависимостей между характеристиками заемщиков и их платежной дисциплиной. Однако, перед переходом к выводам, следует отметить некоторые аспекты качества предоставленных данных.\n",
    "\n",
    "Первоначальный анализ данных показал, что некоторые категории имели недостаточное количество данных для проведения более глубокого анализа. Например, информация о количестве детей и доходе могла быть представлена более подробно или полно, что позволило бы провести более точные и объективные вычисления. \n",
    "\n",
    "Теперь перейдём к выводам исследования.\n",
    "- Во первых, было выявлено, что количество детей вляет на возврат кредита в срок. Семьи у которых нет детей более ответственно подходят к выплате кредита, так как процент должников в данной категории равняется **7,54**. Самый высокий процент должников соответсвует категории семьи, у кторой 2 ребенка, их процент равняется **9,45**. Однако стоит отметить, что данных для более глубокого анализа этой зависимостей было недостаточно. Подробнее с разделом исследования данной гипотезы можете ознакомиться в [разделе с вычислениями](#children).\n",
    "\n",
    "\n",
    "- Во-вторых, проверка предположения о том, что семейное положение влияет на возврат кредита в срок, выявила следющее: люди с семейным положением \"вдовец/вдова\" походят более ответственно к выплате кредита, процент должников в этой категории наименьший и равняется **6,62**. Чаще всех просрачивают выплаты по кредиту люди, у которых семейное положение \"Не женат / не замужем\", процент должников в данной категории равен **9,76**. Подробнее с разделом исследования данной гипотезы можете ознакомиться в [разделе с вычислениями](#family_status).\n",
    "\n",
    "\n",
    "- В-третьих, было выявлено, что более ответственно подходят к выплате кредита люди, которые имеют доход от 30 001 до 50 000, процент должников в этой категории наименьший и равен **6,02**. Чаще всего просрачивают выплаты люди с доходом от 50 001 до 200 000, процент должников в этой категории равен **8,5**. Также стоит отметить, что данных для более детального анализа этой зависимости было недастаточно. Подробнее с разделом исследования данной гипотезы можете ознакомиться в [разделе с вычислениями](#total_income).\n",
    "\n",
    "\n",
    "- В-четвертых, было проверено предположение о том, что цели кредита влияют на его возврат в срок. Оказалось, что люди, которые берут кредит, связанный с недвижимостью, более ответственно подходят к его погашению, процент должников в данной категории равен **7,26**. Самый высокий процент должников, который равняется **9,35** принадлежит категории людей, которые берут кредит, связанный с автомобилем. Подробнее с разделом исследования данной гипотезы можете ознакомиться в [разделе с вычислениями](#purpose). \n",
    "\n",
    "В заключительной части отражен портерт **\"идеального клиента\"** и **\"худшего клиента\"** и рекомендации по сбору данных.\n",
    "\n",
    "**Портрет идеального клиента:**\n",
    "- Клиент без детей или с одним ребенком.\n",
    "- Семейное положение \"вдовец/вдова\".\n",
    "- Стабильный средний доход в диапазоне от 30 001 до 50 000.\n",
    "- Цель кредита - приобретение или ремонт недвижимости.\n",
    "\n",
    "**Портрет худшего клиента:**\n",
    "\n",
    "- Клиент с двумя и более детьми.\n",
    "- Семейное положение \"Не женат / не замужем\".\n",
    "- Высокий доход от 50 001 до 200 000.\n",
    "- Цель кредита - приобретение автомобиля.\n",
    "\n",
    "Стоит обратить внимание на сбор данных с информацией об **общем трудовом стаже в днях** и **ежемесячном доходе**, так как в этих столбцах присутствовали пропуски, также трудовой стаж был представлен отрицательными значениями."
   ]
  },
  {
   "cell_type": "code",
   "execution_count": null,
   "id": "190f7eec",
   "metadata": {},
   "outputs": [],
   "source": []
  }
 ],
 "metadata": {
  "ExecuteTimeLog": [
   {
    "duration": 708,
    "start_time": "2024-03-25T11:53:45.287Z"
   },
   {
    "duration": 24,
    "start_time": "2024-03-25T11:53:48.375Z"
   },
   {
    "duration": 25,
    "start_time": "2024-03-25T11:53:52.122Z"
   },
   {
    "duration": 11,
    "start_time": "2024-03-25T11:53:54.507Z"
   },
   {
    "duration": 66,
    "start_time": "2024-03-25T11:55:07.506Z"
   },
   {
    "duration": 5,
    "start_time": "2024-03-25T11:55:09.978Z"
   },
   {
    "duration": 9,
    "start_time": "2024-03-25T11:55:12.595Z"
   },
   {
    "duration": 6,
    "start_time": "2024-03-25T11:55:19.359Z"
   },
   {
    "duration": 7,
    "start_time": "2024-03-25T11:55:22.758Z"
   },
   {
    "duration": 98,
    "start_time": "2024-03-25T11:58:25.674Z"
   },
   {
    "duration": 88,
    "start_time": "2024-03-25T12:00:28.151Z"
   },
   {
    "duration": 89,
    "start_time": "2024-03-25T12:01:44.620Z"
   },
   {
    "duration": 4,
    "start_time": "2024-03-25T12:02:10.681Z"
   },
   {
    "duration": 36,
    "start_time": "2024-03-25T12:02:13.632Z"
   },
   {
    "duration": 11,
    "start_time": "2024-03-25T12:02:15.647Z"
   },
   {
    "duration": 4,
    "start_time": "2024-03-25T12:02:18.381Z"
   },
   {
    "duration": 13,
    "start_time": "2024-03-25T12:02:20.201Z"
   },
   {
    "duration": 21,
    "start_time": "2024-03-25T12:02:22.323Z"
   },
   {
    "duration": 18,
    "start_time": "2024-03-25T12:02:24.553Z"
   },
   {
    "duration": 4,
    "start_time": "2024-03-25T12:02:26.813Z"
   },
   {
    "duration": 10,
    "start_time": "2024-03-25T12:02:30.641Z"
   },
   {
    "duration": 6,
    "start_time": "2024-03-25T12:02:31.772Z"
   },
   {
    "duration": 4,
    "start_time": "2024-03-25T12:02:34.888Z"
   },
   {
    "duration": 9,
    "start_time": "2024-03-25T12:02:37.217Z"
   },
   {
    "duration": 26,
    "start_time": "2024-03-25T12:28:36.331Z"
   },
   {
    "duration": 23,
    "start_time": "2024-03-25T12:30:17.544Z"
   },
   {
    "duration": 12,
    "start_time": "2024-03-25T12:32:25.803Z"
   },
   {
    "duration": 13,
    "start_time": "2024-03-25T12:32:35.164Z"
   },
   {
    "duration": 85,
    "start_time": "2024-03-25T12:40:21.233Z"
   },
   {
    "duration": 77,
    "start_time": "2024-03-25T12:40:44.352Z"
   },
   {
    "duration": 15,
    "start_time": "2024-03-25T12:41:30.602Z"
   },
   {
    "duration": 14,
    "start_time": "2024-03-25T12:41:40.943Z"
   },
   {
    "duration": 9,
    "start_time": "2024-03-25T12:42:33.603Z"
   },
   {
    "duration": 11,
    "start_time": "2024-03-25T12:43:47.958Z"
   },
   {
    "duration": 14,
    "start_time": "2024-03-25T12:44:51.772Z"
   },
   {
    "duration": 14,
    "start_time": "2024-03-25T12:44:54.973Z"
   },
   {
    "duration": 12,
    "start_time": "2024-03-25T12:45:00.593Z"
   },
   {
    "duration": 17,
    "start_time": "2024-03-25T12:45:55.611Z"
   },
   {
    "duration": 16,
    "start_time": "2024-03-25T12:46:50.018Z"
   },
   {
    "duration": 15,
    "start_time": "2024-03-25T12:48:12.716Z"
   },
   {
    "duration": 15,
    "start_time": "2024-03-25T12:48:22.698Z"
   },
   {
    "duration": 11,
    "start_time": "2024-03-25T12:48:53.598Z"
   },
   {
    "duration": 17,
    "start_time": "2024-03-25T12:49:09.938Z"
   },
   {
    "duration": 17,
    "start_time": "2024-03-25T12:50:20.827Z"
   },
   {
    "duration": 22,
    "start_time": "2024-03-25T12:53:46.769Z"
   },
   {
    "duration": 12,
    "start_time": "2024-03-25T13:01:22.421Z"
   },
   {
    "duration": 8,
    "start_time": "2024-03-25T13:01:28.929Z"
   },
   {
    "duration": 8,
    "start_time": "2024-03-25T13:19:45.787Z"
   },
   {
    "duration": 7,
    "start_time": "2024-03-25T13:19:56.346Z"
   },
   {
    "duration": 8,
    "start_time": "2024-03-25T13:20:09.658Z"
   },
   {
    "duration": 7,
    "start_time": "2024-03-25T13:20:58.017Z"
   },
   {
    "duration": 8,
    "start_time": "2024-03-25T13:21:06.057Z"
   },
   {
    "duration": 12,
    "start_time": "2024-03-25T13:37:15.321Z"
   },
   {
    "duration": 14,
    "start_time": "2024-03-25T13:52:39.237Z"
   },
   {
    "duration": 14,
    "start_time": "2024-03-25T13:52:53.242Z"
   },
   {
    "duration": 19,
    "start_time": "2024-03-25T13:53:57.143Z"
   },
   {
    "duration": 20,
    "start_time": "2024-03-25T13:55:30.207Z"
   },
   {
    "duration": 15,
    "start_time": "2024-03-25T13:59:02.604Z"
   },
   {
    "duration": 7,
    "start_time": "2024-03-25T13:59:14.435Z"
   },
   {
    "duration": 9,
    "start_time": "2024-03-25T13:59:48.693Z"
   },
   {
    "duration": 8,
    "start_time": "2024-03-25T13:59:52.997Z"
   },
   {
    "duration": 23,
    "start_time": "2024-03-25T14:18:01.876Z"
   },
   {
    "duration": 8,
    "start_time": "2024-03-25T14:21:14.863Z"
   },
   {
    "duration": 30,
    "start_time": "2024-03-25T14:21:32.839Z"
   },
   {
    "duration": 14,
    "start_time": "2024-03-25T14:21:44.315Z"
   },
   {
    "duration": 16,
    "start_time": "2024-03-25T14:22:35.626Z"
   },
   {
    "duration": 16,
    "start_time": "2024-03-25T14:24:54.783Z"
   },
   {
    "duration": 14,
    "start_time": "2024-03-25T14:25:44.056Z"
   },
   {
    "duration": 19,
    "start_time": "2024-03-25T14:25:50.025Z"
   },
   {
    "duration": 13,
    "start_time": "2024-03-25T14:32:30.994Z"
   },
   {
    "duration": 9,
    "start_time": "2024-03-25T14:33:05.090Z"
   },
   {
    "duration": 9,
    "start_time": "2024-03-25T14:36:12.923Z"
   },
   {
    "duration": 9,
    "start_time": "2024-03-25T14:47:49.839Z"
   },
   {
    "duration": 13,
    "start_time": "2024-03-25T14:53:37.349Z"
   },
   {
    "duration": 19,
    "start_time": "2024-03-25T14:54:13.173Z"
   },
   {
    "duration": 24,
    "start_time": "2024-03-25T14:55:27.973Z"
   },
   {
    "duration": 20,
    "start_time": "2024-03-25T14:55:33.853Z"
   },
   {
    "duration": 16,
    "start_time": "2024-03-25T14:56:09.010Z"
   },
   {
    "duration": 8,
    "start_time": "2024-03-25T14:58:38.098Z"
   },
   {
    "duration": 5,
    "start_time": "2024-03-25T15:10:47.175Z"
   },
   {
    "duration": 13,
    "start_time": "2024-03-25T15:11:55.051Z"
   },
   {
    "duration": 4,
    "start_time": "2024-03-25T15:14:21.042Z"
   },
   {
    "duration": 13,
    "start_time": "2024-03-25T15:14:21.915Z"
   },
   {
    "duration": 4,
    "start_time": "2024-03-25T15:14:45.179Z"
   },
   {
    "duration": 16,
    "start_time": "2024-03-25T15:14:45.987Z"
   },
   {
    "duration": 4,
    "start_time": "2024-03-25T15:15:17.442Z"
   },
   {
    "duration": 15,
    "start_time": "2024-03-25T15:15:18.527Z"
   },
   {
    "duration": 22,
    "start_time": "2024-03-25T15:16:15.399Z"
   },
   {
    "duration": 16,
    "start_time": "2024-03-25T15:18:14.963Z"
   },
   {
    "duration": 19,
    "start_time": "2024-03-25T15:18:21.526Z"
   },
   {
    "duration": 17,
    "start_time": "2024-03-25T15:19:17.835Z"
   },
   {
    "duration": 4,
    "start_time": "2024-03-25T15:19:32.110Z"
   },
   {
    "duration": 17,
    "start_time": "2024-03-25T15:19:33.143Z"
   },
   {
    "duration": 27,
    "start_time": "2024-03-25T15:19:36.083Z"
   },
   {
    "duration": 18,
    "start_time": "2024-03-25T15:19:39.043Z"
   },
   {
    "duration": 24,
    "start_time": "2024-03-25T15:20:29.883Z"
   },
   {
    "duration": 665,
    "start_time": "2024-03-26T17:42:44.904Z"
   },
   {
    "duration": 21,
    "start_time": "2024-03-26T17:42:45.571Z"
   },
   {
    "duration": 17,
    "start_time": "2024-03-26T17:42:45.594Z"
   },
   {
    "duration": 10,
    "start_time": "2024-03-26T17:42:45.613Z"
   },
   {
    "duration": 47,
    "start_time": "2024-03-26T17:42:45.625Z"
   },
   {
    "duration": 4,
    "start_time": "2024-03-26T17:42:45.673Z"
   },
   {
    "duration": 12,
    "start_time": "2024-03-26T17:42:45.678Z"
   },
   {
    "duration": 15,
    "start_time": "2024-03-26T17:42:45.691Z"
   },
   {
    "duration": 21,
    "start_time": "2024-03-26T17:42:45.708Z"
   },
   {
    "duration": 4,
    "start_time": "2024-03-26T17:42:45.731Z"
   },
   {
    "duration": 45,
    "start_time": "2024-03-26T17:42:45.736Z"
   },
   {
    "duration": 11,
    "start_time": "2024-03-26T17:42:45.783Z"
   },
   {
    "duration": 9,
    "start_time": "2024-03-26T17:42:45.797Z"
   },
   {
    "duration": 19,
    "start_time": "2024-03-26T17:42:45.807Z"
   },
   {
    "duration": 34,
    "start_time": "2024-03-26T17:42:45.827Z"
   },
   {
    "duration": 17,
    "start_time": "2024-03-26T17:42:45.862Z"
   },
   {
    "duration": 3,
    "start_time": "2024-03-26T17:42:45.880Z"
   },
   {
    "duration": 18,
    "start_time": "2024-03-26T17:42:45.885Z"
   },
   {
    "duration": 10,
    "start_time": "2024-03-26T17:42:45.905Z"
   },
   {
    "duration": 3,
    "start_time": "2024-03-26T17:42:45.916Z"
   },
   {
    "duration": 10,
    "start_time": "2024-03-26T17:42:45.921Z"
   },
   {
    "duration": 15,
    "start_time": "2024-03-26T17:42:45.932Z"
   },
   {
    "duration": 13,
    "start_time": "2024-03-26T17:42:45.948Z"
   },
   {
    "duration": 9,
    "start_time": "2024-03-26T17:42:45.963Z"
   },
   {
    "duration": 14,
    "start_time": "2024-03-26T17:42:45.973Z"
   },
   {
    "duration": 33,
    "start_time": "2024-03-26T17:42:45.988Z"
   },
   {
    "duration": 13,
    "start_time": "2024-03-26T17:42:46.023Z"
   },
   {
    "duration": 8,
    "start_time": "2024-03-26T17:42:46.039Z"
   },
   {
    "duration": 11,
    "start_time": "2024-03-26T17:42:46.048Z"
   },
   {
    "duration": 15,
    "start_time": "2024-03-26T17:42:46.060Z"
   },
   {
    "duration": 7,
    "start_time": "2024-03-26T17:42:46.077Z"
   },
   {
    "duration": 30,
    "start_time": "2024-03-26T17:42:46.086Z"
   },
   {
    "duration": 18,
    "start_time": "2024-03-26T17:42:46.118Z"
   },
   {
    "duration": 19,
    "start_time": "2024-03-26T17:42:46.137Z"
   },
   {
    "duration": 18,
    "start_time": "2024-03-26T17:42:46.157Z"
   },
   {
    "duration": 49,
    "start_time": "2024-03-26T17:42:46.177Z"
   },
   {
    "duration": 14,
    "start_time": "2024-03-26T18:03:10.608Z"
   },
   {
    "duration": 9,
    "start_time": "2024-03-26T18:03:12.371Z"
   },
   {
    "duration": 114,
    "start_time": "2024-03-27T17:29:55.594Z"
   },
   {
    "duration": 90,
    "start_time": "2024-03-27T17:31:17.324Z"
   },
   {
    "duration": 45,
    "start_time": "2024-03-27T17:31:26.565Z"
   },
   {
    "duration": 678,
    "start_time": "2024-03-27T17:31:41.685Z"
   },
   {
    "duration": 23,
    "start_time": "2024-03-27T17:31:42.365Z"
   },
   {
    "duration": 18,
    "start_time": "2024-03-27T17:31:42.390Z"
   },
   {
    "duration": 20,
    "start_time": "2024-03-27T17:31:42.410Z"
   },
   {
    "duration": 55,
    "start_time": "2024-03-27T17:31:42.431Z"
   },
   {
    "duration": 3,
    "start_time": "2024-03-27T17:31:42.488Z"
   },
   {
    "duration": 27,
    "start_time": "2024-03-27T17:31:42.493Z"
   },
   {
    "duration": 6,
    "start_time": "2024-03-27T17:31:42.522Z"
   },
   {
    "duration": 15,
    "start_time": "2024-03-27T17:31:42.530Z"
   },
   {
    "duration": 6,
    "start_time": "2024-03-27T17:31:42.548Z"
   },
   {
    "duration": 43,
    "start_time": "2024-03-27T17:31:42.555Z"
   },
   {
    "duration": 12,
    "start_time": "2024-03-27T17:31:42.600Z"
   },
   {
    "duration": 23,
    "start_time": "2024-03-27T17:31:42.614Z"
   },
   {
    "duration": 20,
    "start_time": "2024-03-27T17:31:42.639Z"
   },
   {
    "duration": 39,
    "start_time": "2024-03-27T17:31:42.660Z"
   },
   {
    "duration": 19,
    "start_time": "2024-03-27T17:31:42.701Z"
   },
   {
    "duration": 4,
    "start_time": "2024-03-27T17:31:42.722Z"
   },
   {
    "duration": 17,
    "start_time": "2024-03-27T17:31:42.728Z"
   },
   {
    "duration": 12,
    "start_time": "2024-03-27T17:31:42.747Z"
   },
   {
    "duration": 9,
    "start_time": "2024-03-27T17:31:42.761Z"
   },
   {
    "duration": 34,
    "start_time": "2024-03-27T17:31:42.772Z"
   },
   {
    "duration": 31,
    "start_time": "2024-03-27T17:31:42.808Z"
   },
   {
    "duration": 9,
    "start_time": "2024-03-27T17:31:42.840Z"
   },
   {
    "duration": 1445,
    "start_time": "2024-03-27T17:31:42.851Z"
   },
   {
    "duration": 0,
    "start_time": "2024-03-27T17:31:44.297Z"
   },
   {
    "duration": 0,
    "start_time": "2024-03-27T17:31:44.299Z"
   },
   {
    "duration": 0,
    "start_time": "2024-03-27T17:31:44.300Z"
   },
   {
    "duration": 0,
    "start_time": "2024-03-27T17:31:44.300Z"
   },
   {
    "duration": 0,
    "start_time": "2024-03-27T17:31:44.301Z"
   },
   {
    "duration": 0,
    "start_time": "2024-03-27T17:31:44.302Z"
   },
   {
    "duration": 0,
    "start_time": "2024-03-27T17:31:44.303Z"
   },
   {
    "duration": 0,
    "start_time": "2024-03-27T17:31:44.304Z"
   },
   {
    "duration": 0,
    "start_time": "2024-03-27T17:31:44.305Z"
   },
   {
    "duration": 0,
    "start_time": "2024-03-27T17:31:44.306Z"
   },
   {
    "duration": 0,
    "start_time": "2024-03-27T17:31:44.307Z"
   },
   {
    "duration": 0,
    "start_time": "2024-03-27T17:31:44.308Z"
   },
   {
    "duration": 8,
    "start_time": "2024-03-27T17:32:57.703Z"
   },
   {
    "duration": 13,
    "start_time": "2024-03-27T17:33:04.093Z"
   },
   {
    "duration": 13,
    "start_time": "2024-03-27T17:33:28.372Z"
   },
   {
    "duration": 14,
    "start_time": "2024-03-27T17:33:47.094Z"
   },
   {
    "duration": 15,
    "start_time": "2024-03-27T17:34:00.092Z"
   },
   {
    "duration": 13,
    "start_time": "2024-03-27T17:34:13.593Z"
   },
   {
    "duration": 10,
    "start_time": "2024-03-27T17:34:37.151Z"
   },
   {
    "duration": 12,
    "start_time": "2024-03-27T17:34:42.143Z"
   },
   {
    "duration": 501,
    "start_time": "2024-03-27T17:34:52.776Z"
   },
   {
    "duration": 23,
    "start_time": "2024-03-27T17:34:53.279Z"
   },
   {
    "duration": 16,
    "start_time": "2024-03-27T17:34:53.304Z"
   },
   {
    "duration": 11,
    "start_time": "2024-03-27T17:34:53.322Z"
   },
   {
    "duration": 54,
    "start_time": "2024-03-27T17:34:53.335Z"
   },
   {
    "duration": 3,
    "start_time": "2024-03-27T17:34:53.391Z"
   },
   {
    "duration": 13,
    "start_time": "2024-03-27T17:34:53.395Z"
   },
   {
    "duration": 10,
    "start_time": "2024-03-27T17:34:53.409Z"
   },
   {
    "duration": 15,
    "start_time": "2024-03-27T17:34:53.420Z"
   },
   {
    "duration": 21,
    "start_time": "2024-03-27T17:34:53.437Z"
   },
   {
    "duration": 68,
    "start_time": "2024-03-27T17:34:53.459Z"
   },
   {
    "duration": 10,
    "start_time": "2024-03-27T17:34:53.528Z"
   },
   {
    "duration": 9,
    "start_time": "2024-03-27T17:34:53.539Z"
   },
   {
    "duration": 35,
    "start_time": "2024-03-27T17:34:53.549Z"
   },
   {
    "duration": 63,
    "start_time": "2024-03-27T17:34:53.586Z"
   },
   {
    "duration": 35,
    "start_time": "2024-03-27T17:34:53.650Z"
   },
   {
    "duration": 3,
    "start_time": "2024-03-27T17:34:53.687Z"
   },
   {
    "duration": 27,
    "start_time": "2024-03-27T17:34:53.692Z"
   },
   {
    "duration": 34,
    "start_time": "2024-03-27T17:34:53.721Z"
   },
   {
    "duration": 53,
    "start_time": "2024-03-27T17:34:53.757Z"
   },
   {
    "duration": 29,
    "start_time": "2024-03-27T17:34:53.812Z"
   },
   {
    "duration": 42,
    "start_time": "2024-03-27T17:34:53.843Z"
   },
   {
    "duration": 24,
    "start_time": "2024-03-27T17:34:53.887Z"
   },
   {
    "duration": 24,
    "start_time": "2024-03-27T17:34:53.913Z"
   },
   {
    "duration": 37,
    "start_time": "2024-03-27T17:34:53.938Z"
   },
   {
    "duration": 29,
    "start_time": "2024-03-27T17:34:53.977Z"
   },
   {
    "duration": 27,
    "start_time": "2024-03-27T17:34:54.007Z"
   },
   {
    "duration": 12,
    "start_time": "2024-03-27T17:34:54.038Z"
   },
   {
    "duration": 45,
    "start_time": "2024-03-27T17:34:54.052Z"
   },
   {
    "duration": 29,
    "start_time": "2024-03-27T17:34:54.099Z"
   },
   {
    "duration": 11,
    "start_time": "2024-03-27T17:34:54.129Z"
   },
   {
    "duration": 35,
    "start_time": "2024-03-27T17:34:54.141Z"
   },
   {
    "duration": 27,
    "start_time": "2024-03-27T17:34:54.178Z"
   },
   {
    "duration": 26,
    "start_time": "2024-03-27T17:34:54.207Z"
   },
   {
    "duration": 17,
    "start_time": "2024-03-27T17:34:54.235Z"
   },
   {
    "duration": 28,
    "start_time": "2024-03-27T17:34:54.253Z"
   },
   {
    "duration": 818,
    "start_time": "2024-03-27T17:40:18.505Z"
   }
  ],
  "colab": {
   "provenance": []
  },
  "kernelspec": {
   "display_name": "Python 3 (ipykernel)",
   "language": "python",
   "name": "python3"
  },
  "language_info": {
   "codemirror_mode": {
    "name": "ipython",
    "version": 3
   },
   "file_extension": ".py",
   "mimetype": "text/x-python",
   "name": "python",
   "nbconvert_exporter": "python",
   "pygments_lexer": "ipython3",
   "version": "3.11.5"
  },
  "toc": {
   "base_numbering": 1,
   "nav_menu": {},
   "number_sections": true,
   "sideBar": true,
   "skip_h1_title": true,
   "title_cell": "Table of Contents",
   "title_sidebar": "Contents",
   "toc_cell": false,
   "toc_position": {},
   "toc_section_display": true,
   "toc_window_display": false
  }
 },
 "nbformat": 4,
 "nbformat_minor": 5
}
